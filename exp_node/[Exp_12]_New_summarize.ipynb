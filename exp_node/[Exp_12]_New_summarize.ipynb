{
  "nbformat": 4,
  "nbformat_minor": 0,
  "metadata": {
    "colab": {
      "provenance": [],
      "collapsed_sections": []
    },
    "kernelspec": {
      "name": "python3",
      "display_name": "Python 3"
    },
    "language_info": {
      "name": "python"
    },
    "gpuClass": "standard",
    "accelerator": "GPU"
  },
  "cells": [
    {
      "cell_type": "markdown",
      "source": [
        "### [Exp_13] 뉴스기사 요약해 보기"
      ],
      "metadata": {
        "id": "ZMaurhueL2Lv"
      }
    },
    {
      "cell_type": "markdown",
      "source": [
        "##### Step 0. 라이브러리 로드"
      ],
      "metadata": {
        "id": "En80MnUML3wV"
      }
    },
    {
      "cell_type": "code",
      "execution_count": 2,
      "metadata": {
        "colab": {
          "base_uri": "https://localhost:8080/"
        },
        "id": "FujUx26ABGSn",
        "outputId": "97ed470e-f2a9-47fa-fb00-9b961f885fb6"
      },
      "outputs": [
        {
          "output_type": "stream",
          "name": "stdout",
          "text": [
            "Looking in indexes: https://pypi.org/simple, https://us-python.pkg.dev/colab-wheels/public/simple/\n",
            "Collecting summa\n",
            "  Downloading summa-1.2.0.tar.gz (54 kB)\n",
            "\u001b[K     |████████████████████████████████| 54 kB 2.9 MB/s \n",
            "\u001b[?25hRequirement already satisfied: scipy>=0.19 in /usr/local/lib/python3.7/dist-packages (from summa) (1.7.3)\n",
            "Requirement already satisfied: numpy<1.23.0,>=1.16.5 in /usr/local/lib/python3.7/dist-packages (from scipy>=0.19->summa) (1.21.6)\n",
            "Building wheels for collected packages: summa\n",
            "  Building wheel for summa (setup.py) ... \u001b[?25l\u001b[?25hdone\n",
            "  Created wheel for summa: filename=summa-1.2.0-py3-none-any.whl size=54412 sha256=82d874dea67cbca273edc4e3be55c9c0c14ba2d22fbaa7d50eaf4e0aa1ebabf3\n",
            "  Stored in directory: /root/.cache/pip/wheels/29/64/ac/7b443477588d365ef37ada30d456bdf5f07dc5be9f6324cb6e\n",
            "Successfully built summa\n",
            "Installing collected packages: summa\n",
            "Successfully installed summa-1.2.0\n"
          ]
        },
        {
          "output_type": "stream",
          "name": "stderr",
          "text": [
            "[nltk_data] Downloading package stopwords to /root/nltk_data...\n",
            "[nltk_data]   Unzipping corpora/stopwords.zip.\n"
          ]
        },
        {
          "output_type": "stream",
          "name": "stdout",
          "text": [
            "3.7\n",
            "2.9.2\n"
          ]
        }
      ],
      "source": [
        "# from importlib.metadata import version\n",
        "import nltk\n",
        "import tensorflow\n",
        "\n",
        "! pip install summa\n",
        "from summa.summarizer import summarize\n",
        "nltk.download('stopwords')\n",
        "\n",
        "import numpy as np\n",
        "import pandas as pd\n",
        "import os\n",
        "import re\n",
        "import matplotlib.pyplot as plt\n",
        "from nltk.corpus import stopwords\n",
        "from bs4 import BeautifulSoup \n",
        "from tensorflow.keras.preprocessing.text import Tokenizer \n",
        "from tensorflow.keras.preprocessing.sequence import pad_sequences\n",
        "from tensorflow.keras.utils import plot_model \n",
        "\n",
        "import urllib.request\n",
        "import warnings\n",
        "warnings.filterwarnings(\"ignore\", category=UserWarning, module='bs4')\n",
        "\n",
        "print(nltk.__version__)\n",
        "print(tensorflow.__version__)\n",
        "# print(summa.__version__)"
      ]
    },
    {
      "cell_type": "markdown",
      "source": [
        "##### Step1. 데이터 수집하기"
      ],
      "metadata": {
        "id": "nj1ySaSFMTmt"
      }
    },
    {
      "cell_type": "code",
      "source": [
        "\n",
        "base_path = '/content/drive/MyDrive/data/news_sum/'\n",
        "file_name = 'news_summary_more.csv'\n",
        "file_path = os.path.join(base_path, file_name)\n",
        "\n",
        "if not os.path.exists(file_path):\n",
        "    urllib.request.urlretrieve(\"https://raw.githubusercontent.com/sunnysai12345/News_Summary/master/news_summary_more.csv\", filename=file_path)\n",
        "\n",
        "data = pd.read_csv(file_path, encoding='iso-8859-1')\n",
        "print('전체 샘플수 :', (len(data)))"
      ],
      "metadata": {
        "colab": {
          "base_uri": "https://localhost:8080/"
        },
        "id": "OdZYQ9cIMVrm",
        "outputId": "c783d855-ec70-4b66-dc72-e412ffdc53e3"
      },
      "execution_count": 3,
      "outputs": [
        {
          "output_type": "stream",
          "name": "stdout",
          "text": [
            "전체 샘플수 : 98401\n"
          ]
        }
      ]
    },
    {
      "cell_type": "code",
      "source": [
        "#랜덤한 15개 샘플 출력\n",
        "data.sample(15)"
      ],
      "metadata": {
        "colab": {
          "base_uri": "https://localhost:8080/",
          "height": 520
        },
        "id": "3o3Y-_1wMern",
        "outputId": "853d83c2-affc-437c-e985-64d3a7c974a5"
      },
      "execution_count": 4,
      "outputs": [
        {
          "output_type": "execute_result",
          "data": {
            "text/plain": [
              "                                               headlines  \\\n",
              "66131  Google Home Mini speaker records user's audio ...   \n",
              "47994  Lucknow University bars students from campus o...   \n",
              "8039   Love, I'm diabetic remember: Wasim Akram to wi...   \n",
              "22350  A Japanese man survived both Hiroshima & Nagas...   \n",
              "94559  Carrie Fisher to feature in last Star Wars fil...   \n",
              "5219   Clash erupts between BJP, Congress workers in Goa   \n",
              "80573  Mayweather calls McGregor racist, uses homopho...   \n",
              "71709  66-yr-old Delhi man seeks protection from alco...   \n",
              "30748  Female mountaineer scales Everest for record 9...   \n",
              "71683  Waive farm loans by Oct 1 or face protests: NC...   \n",
              "88993  Don't want to get into Ã¢ÂÂ¹100 crore club: D...   \n",
              "82624  Ex-bureaucrats slam Govt in open letter over c...   \n",
              "76715  Amazon stops selling toilet paper with Donald ...   \n",
              "10961  Patanjali enters apparel space, first 'Paridha...   \n",
              "35718  Sri Lakshmi Bai used body as weapon to fight \"...   \n",
              "\n",
              "                                                    text  \n",
              "66131  According to tech reviewer Artem Russakovskii,...  \n",
              "47994  The Lucknow University has issued a notice tel...  \n",
              "8039   After former Pakistan captain Wasim Akram's wi...  \n",
              "22350  Japan recognises only one person to have survi...  \n",
              "94559  According to reports, late actress Carrie Fish...  \n",
              "5219   A clash broke out between BJP and Congress wor...  \n",
              "80573  Boxer Floyd Mayweather called Irish MMA fighte...  \n",
              "71709  A 66-year-old man on Monday approached the Del...  \n",
              "30748  Nepalese mountaineer Lhakpa Sherpa on Wednesda...  \n",
              "71683  The Nationalist Congress Party (NCP) on Monday...  \n",
              "88993  Director Mohit Suri has said that he doesn't w...  \n",
              "82624  Over 60 retired IAS and IPS officers have writ...  \n",
              "76715  Amazon has stopped selling toilet paper which ...  \n",
              "10961  Ramdev on Monday launched Patanjali Ayurved's ...  \n",
              "35718  Comparing actress Sri Reddy to Rani Lakshmibai...  "
            ],
            "text/html": [
              "\n",
              "  <div id=\"df-441f3fad-90b4-4b08-8e5e-53112e245519\">\n",
              "    <div class=\"colab-df-container\">\n",
              "      <div>\n",
              "<style scoped>\n",
              "    .dataframe tbody tr th:only-of-type {\n",
              "        vertical-align: middle;\n",
              "    }\n",
              "\n",
              "    .dataframe tbody tr th {\n",
              "        vertical-align: top;\n",
              "    }\n",
              "\n",
              "    .dataframe thead th {\n",
              "        text-align: right;\n",
              "    }\n",
              "</style>\n",
              "<table border=\"1\" class=\"dataframe\">\n",
              "  <thead>\n",
              "    <tr style=\"text-align: right;\">\n",
              "      <th></th>\n",
              "      <th>headlines</th>\n",
              "      <th>text</th>\n",
              "    </tr>\n",
              "  </thead>\n",
              "  <tbody>\n",
              "    <tr>\n",
              "      <th>66131</th>\n",
              "      <td>Google Home Mini speaker records user's audio ...</td>\n",
              "      <td>According to tech reviewer Artem Russakovskii,...</td>\n",
              "    </tr>\n",
              "    <tr>\n",
              "      <th>47994</th>\n",
              "      <td>Lucknow University bars students from campus o...</td>\n",
              "      <td>The Lucknow University has issued a notice tel...</td>\n",
              "    </tr>\n",
              "    <tr>\n",
              "      <th>8039</th>\n",
              "      <td>Love, I'm diabetic remember: Wasim Akram to wi...</td>\n",
              "      <td>After former Pakistan captain Wasim Akram's wi...</td>\n",
              "    </tr>\n",
              "    <tr>\n",
              "      <th>22350</th>\n",
              "      <td>A Japanese man survived both Hiroshima &amp; Nagas...</td>\n",
              "      <td>Japan recognises only one person to have survi...</td>\n",
              "    </tr>\n",
              "    <tr>\n",
              "      <th>94559</th>\n",
              "      <td>Carrie Fisher to feature in last Star Wars fil...</td>\n",
              "      <td>According to reports, late actress Carrie Fish...</td>\n",
              "    </tr>\n",
              "    <tr>\n",
              "      <th>5219</th>\n",
              "      <td>Clash erupts between BJP, Congress workers in Goa</td>\n",
              "      <td>A clash broke out between BJP and Congress wor...</td>\n",
              "    </tr>\n",
              "    <tr>\n",
              "      <th>80573</th>\n",
              "      <td>Mayweather calls McGregor racist, uses homopho...</td>\n",
              "      <td>Boxer Floyd Mayweather called Irish MMA fighte...</td>\n",
              "    </tr>\n",
              "    <tr>\n",
              "      <th>71709</th>\n",
              "      <td>66-yr-old Delhi man seeks protection from alco...</td>\n",
              "      <td>A 66-year-old man on Monday approached the Del...</td>\n",
              "    </tr>\n",
              "    <tr>\n",
              "      <th>30748</th>\n",
              "      <td>Female mountaineer scales Everest for record 9...</td>\n",
              "      <td>Nepalese mountaineer Lhakpa Sherpa on Wednesda...</td>\n",
              "    </tr>\n",
              "    <tr>\n",
              "      <th>71683</th>\n",
              "      <td>Waive farm loans by Oct 1 or face protests: NC...</td>\n",
              "      <td>The Nationalist Congress Party (NCP) on Monday...</td>\n",
              "    </tr>\n",
              "    <tr>\n",
              "      <th>88993</th>\n",
              "      <td>Don't want to get into Ã¢ÂÂ¹100 crore club: D...</td>\n",
              "      <td>Director Mohit Suri has said that he doesn't w...</td>\n",
              "    </tr>\n",
              "    <tr>\n",
              "      <th>82624</th>\n",
              "      <td>Ex-bureaucrats slam Govt in open letter over c...</td>\n",
              "      <td>Over 60 retired IAS and IPS officers have writ...</td>\n",
              "    </tr>\n",
              "    <tr>\n",
              "      <th>76715</th>\n",
              "      <td>Amazon stops selling toilet paper with Donald ...</td>\n",
              "      <td>Amazon has stopped selling toilet paper which ...</td>\n",
              "    </tr>\n",
              "    <tr>\n",
              "      <th>10961</th>\n",
              "      <td>Patanjali enters apparel space, first 'Paridha...</td>\n",
              "      <td>Ramdev on Monday launched Patanjali Ayurved's ...</td>\n",
              "    </tr>\n",
              "    <tr>\n",
              "      <th>35718</th>\n",
              "      <td>Sri Lakshmi Bai used body as weapon to fight \"...</td>\n",
              "      <td>Comparing actress Sri Reddy to Rani Lakshmibai...</td>\n",
              "    </tr>\n",
              "  </tbody>\n",
              "</table>\n",
              "</div>\n",
              "      <button class=\"colab-df-convert\" onclick=\"convertToInteractive('df-441f3fad-90b4-4b08-8e5e-53112e245519')\"\n",
              "              title=\"Convert this dataframe to an interactive table.\"\n",
              "              style=\"display:none;\">\n",
              "        \n",
              "  <svg xmlns=\"http://www.w3.org/2000/svg\" height=\"24px\"viewBox=\"0 0 24 24\"\n",
              "       width=\"24px\">\n",
              "    <path d=\"M0 0h24v24H0V0z\" fill=\"none\"/>\n",
              "    <path d=\"M18.56 5.44l.94 2.06.94-2.06 2.06-.94-2.06-.94-.94-2.06-.94 2.06-2.06.94zm-11 1L8.5 8.5l.94-2.06 2.06-.94-2.06-.94L8.5 2.5l-.94 2.06-2.06.94zm10 10l.94 2.06.94-2.06 2.06-.94-2.06-.94-.94-2.06-.94 2.06-2.06.94z\"/><path d=\"M17.41 7.96l-1.37-1.37c-.4-.4-.92-.59-1.43-.59-.52 0-1.04.2-1.43.59L10.3 9.45l-7.72 7.72c-.78.78-.78 2.05 0 2.83L4 21.41c.39.39.9.59 1.41.59.51 0 1.02-.2 1.41-.59l7.78-7.78 2.81-2.81c.8-.78.8-2.07 0-2.86zM5.41 20L4 18.59l7.72-7.72 1.47 1.35L5.41 20z\"/>\n",
              "  </svg>\n",
              "      </button>\n",
              "      \n",
              "  <style>\n",
              "    .colab-df-container {\n",
              "      display:flex;\n",
              "      flex-wrap:wrap;\n",
              "      gap: 12px;\n",
              "    }\n",
              "\n",
              "    .colab-df-convert {\n",
              "      background-color: #E8F0FE;\n",
              "      border: none;\n",
              "      border-radius: 50%;\n",
              "      cursor: pointer;\n",
              "      display: none;\n",
              "      fill: #1967D2;\n",
              "      height: 32px;\n",
              "      padding: 0 0 0 0;\n",
              "      width: 32px;\n",
              "    }\n",
              "\n",
              "    .colab-df-convert:hover {\n",
              "      background-color: #E2EBFA;\n",
              "      box-shadow: 0px 1px 2px rgba(60, 64, 67, 0.3), 0px 1px 3px 1px rgba(60, 64, 67, 0.15);\n",
              "      fill: #174EA6;\n",
              "    }\n",
              "\n",
              "    [theme=dark] .colab-df-convert {\n",
              "      background-color: #3B4455;\n",
              "      fill: #D2E3FC;\n",
              "    }\n",
              "\n",
              "    [theme=dark] .colab-df-convert:hover {\n",
              "      background-color: #434B5C;\n",
              "      box-shadow: 0px 1px 3px 1px rgba(0, 0, 0, 0.15);\n",
              "      filter: drop-shadow(0px 1px 2px rgba(0, 0, 0, 0.3));\n",
              "      fill: #FFFFFF;\n",
              "    }\n",
              "  </style>\n",
              "\n",
              "      <script>\n",
              "        const buttonEl =\n",
              "          document.querySelector('#df-441f3fad-90b4-4b08-8e5e-53112e245519 button.colab-df-convert');\n",
              "        buttonEl.style.display =\n",
              "          google.colab.kernel.accessAllowed ? 'block' : 'none';\n",
              "\n",
              "        async function convertToInteractive(key) {\n",
              "          const element = document.querySelector('#df-441f3fad-90b4-4b08-8e5e-53112e245519');\n",
              "          const dataTable =\n",
              "            await google.colab.kernel.invokeFunction('convertToInteractive',\n",
              "                                                     [key], {});\n",
              "          if (!dataTable) return;\n",
              "\n",
              "          const docLinkHtml = 'Like what you see? Visit the ' +\n",
              "            '<a target=\"_blank\" href=https://colab.research.google.com/notebooks/data_table.ipynb>data table notebook</a>'\n",
              "            + ' to learn more about interactive tables.';\n",
              "          element.innerHTML = '';\n",
              "          dataTable['output_type'] = 'display_data';\n",
              "          await google.colab.output.renderOutput(dataTable, element);\n",
              "          const docLink = document.createElement('div');\n",
              "          docLink.innerHTML = docLinkHtml;\n",
              "          element.appendChild(docLink);\n",
              "        }\n",
              "      </script>\n",
              "    </div>\n",
              "  </div>\n",
              "  "
            ]
          },
          "metadata": {},
          "execution_count": 4
        }
      ]
    },
    {
      "cell_type": "code",
      "source": [
        "print('Text 열에서 중복을 배제한 유일한 샘플의 수 :', data['text'].nunique())\n",
        "print('Summary 열에서 중복을 배제한 유일한 샘플의 수 :', data['headlines'].nunique())"
      ],
      "metadata": {
        "colab": {
          "base_uri": "https://localhost:8080/"
        },
        "id": "jrVAzfsSMv5Z",
        "outputId": "92d0346f-a987-4590-e7d6-8c581c207d42"
      },
      "execution_count": 5,
      "outputs": [
        {
          "output_type": "stream",
          "name": "stdout",
          "text": [
            "Text 열에서 중복을 배제한 유일한 샘플의 수 : 98360\n",
            "Summary 열에서 중복을 배제한 유일한 샘플의 수 : 98280\n"
          ]
        }
      ]
    },
    {
      "cell_type": "markdown",
      "source": [
        "##### Step2. 데이터 전처리하기 (추상적 요약)\n",
        "\n",
        "2-1 중복 샘플과 NULL 값이 존재하는 샘플 제거"
      ],
      "metadata": {
        "id": "ahkxmGTQL1Lx"
      }
    },
    {
      "cell_type": "code",
      "source": [
        "# inplace=True 를 설정하면 DataFrame 타입 값을 return 하지 않고 data 내부를 직접적으로 바꿉니다\n",
        "data.drop_duplicates(subset = ['text'], inplace=True)\n",
        "print('전체 샘플수 :', (len(data)))"
      ],
      "metadata": {
        "colab": {
          "base_uri": "https://localhost:8080/"
        },
        "id": "CuzXQoHRM0Mc",
        "outputId": "013c568a-c6ae-40f6-f037-d7dbb16aecdb"
      },
      "execution_count": 6,
      "outputs": [
        {
          "output_type": "stream",
          "name": "stdout",
          "text": [
            "전체 샘플수 : 98360\n"
          ]
        }
      ]
    },
    {
      "cell_type": "code",
      "source": [
        "print(data.isnull().sum())"
      ],
      "metadata": {
        "colab": {
          "base_uri": "https://localhost:8080/"
        },
        "id": "W9_ftwhfM21K",
        "outputId": "c47fbbe9-bf95-4f6a-b421-9848865ebb6f"
      },
      "execution_count": 7,
      "outputs": [
        {
          "output_type": "stream",
          "name": "stdout",
          "text": [
            "headlines    0\n",
            "text         0\n",
            "dtype: int64\n"
          ]
        }
      ]
    },
    {
      "cell_type": "code",
      "source": [
        "data.dropna(axis=0, inplace=True)\n",
        "print('전체 샘플수 :', (len(data)))"
      ],
      "metadata": {
        "colab": {
          "base_uri": "https://localhost:8080/"
        },
        "id": "JLqFxRBLM4Zy",
        "outputId": "913e3257-3ec0-4363-bd9c-42e463e73cbd"
      },
      "execution_count": 8,
      "outputs": [
        {
          "output_type": "stream",
          "name": "stdout",
          "text": [
            "전체 샘플수 : 98360\n"
          ]
        }
      ]
    },
    {
      "cell_type": "markdown",
      "source": [
        "2-2 텍스트 정규화와 불용어 제거"
      ],
      "metadata": {
        "id": "h04CpBdfM-_O"
      }
    },
    {
      "cell_type": "code",
      "source": [
        "contractions = {\"ain't\": \"is not\", \"aren't\": \"are not\",\"can't\": \"cannot\", \"'cause\": \"because\", \"could've\": \"could have\", \"couldn't\": \"could not\",\n",
        "                           \"didn't\": \"did not\",  \"doesn't\": \"does not\", \"don't\": \"do not\", \"hadn't\": \"had not\", \"hasn't\": \"has not\", \"haven't\": \"have not\",\n",
        "                           \"he'd\": \"he would\",\"he'll\": \"he will\", \"he's\": \"he is\", \"how'd\": \"how did\", \"how'd'y\": \"how do you\", \"how'll\": \"how will\", \"how's\": \"how is\",\n",
        "                           \"I'd\": \"I would\", \"I'd've\": \"I would have\", \"I'll\": \"I will\", \"I'll've\": \"I will have\",\"I'm\": \"I am\", \"I've\": \"I have\", \"i'd\": \"i would\",\n",
        "                           \"i'd've\": \"i would have\", \"i'll\": \"i will\",  \"i'll've\": \"i will have\",\"i'm\": \"i am\", \"i've\": \"i have\", \"isn't\": \"is not\", \"it'd\": \"it would\",\n",
        "                           \"it'd've\": \"it would have\", \"it'll\": \"it will\", \"it'll've\": \"it will have\",\"it's\": \"it is\", \"let's\": \"let us\", \"ma'am\": \"madam\",\n",
        "                           \"mayn't\": \"may not\", \"might've\": \"might have\",\"mightn't\": \"might not\",\"mightn't've\": \"might not have\", \"must've\": \"must have\",\n",
        "                           \"mustn't\": \"must not\", \"mustn't've\": \"must not have\", \"needn't\": \"need not\", \"needn't've\": \"need not have\",\"o'clock\": \"of the clock\",\n",
        "                           \"oughtn't\": \"ought not\", \"oughtn't've\": \"ought not have\", \"shan't\": \"shall not\", \"sha'n't\": \"shall not\", \"shan't've\": \"shall not have\",\n",
        "                           \"she'd\": \"she would\", \"she'd've\": \"she would have\", \"she'll\": \"she will\", \"she'll've\": \"she will have\", \"she's\": \"she is\",\n",
        "                           \"should've\": \"should have\", \"shouldn't\": \"should not\", \"shouldn't've\": \"should not have\", \"so've\": \"so have\",\"so's\": \"so as\",\n",
        "                           \"this's\": \"this is\",\"that'd\": \"that would\", \"that'd've\": \"that would have\", \"that's\": \"that is\", \"there'd\": \"there would\",\n",
        "                           \"there'd've\": \"there would have\", \"there's\": \"there is\", \"here's\": \"here is\",\"they'd\": \"they would\", \"they'd've\": \"they would have\",\n",
        "                           \"they'll\": \"they will\", \"they'll've\": \"they will have\", \"they're\": \"they are\", \"they've\": \"they have\", \"to've\": \"to have\",\n",
        "                           \"wasn't\": \"was not\", \"we'd\": \"we would\", \"we'd've\": \"we would have\", \"we'll\": \"we will\", \"we'll've\": \"we will have\", \"we're\": \"we are\",\n",
        "                           \"we've\": \"we have\", \"weren't\": \"were not\", \"what'll\": \"what will\", \"what'll've\": \"what will have\", \"what're\": \"what are\",\n",
        "                           \"what's\": \"what is\", \"what've\": \"what have\", \"when's\": \"when is\", \"when've\": \"when have\", \"where'd\": \"where did\", \"where's\": \"where is\",\n",
        "                           \"where've\": \"where have\", \"who'll\": \"who will\", \"who'll've\": \"who will have\", \"who's\": \"who is\", \"who've\": \"who have\",\n",
        "                           \"why's\": \"why is\", \"why've\": \"why have\", \"will've\": \"will have\", \"won't\": \"will not\", \"won't've\": \"will not have\",\n",
        "                           \"would've\": \"would have\", \"wouldn't\": \"would not\", \"wouldn't've\": \"would not have\", \"y'all\": \"you all\",\n",
        "                           \"y'all'd\": \"you all would\",\"y'all'd've\": \"you all would have\",\"y'all're\": \"you all are\",\"y'all've\": \"you all have\",\n",
        "                           \"you'd\": \"you would\", \"you'd've\": \"you would have\", \"you'll\": \"you will\", \"you'll've\": \"you will have\",\n",
        "                           \"you're\": \"you are\", \"you've\": \"you have\"}\n",
        "\n",
        "print(\"정규화 사전의 수: \", len(contractions))"
      ],
      "metadata": {
        "colab": {
          "base_uri": "https://localhost:8080/"
        },
        "id": "nKJwUOxpM72j",
        "outputId": "f10b129b-b00a-42f2-d99b-bff2cff7671b"
      },
      "execution_count": 9,
      "outputs": [
        {
          "output_type": "stream",
          "name": "stdout",
          "text": [
            "정규화 사전의 수:  120\n"
          ]
        }
      ]
    },
    {
      "cell_type": "code",
      "source": [
        "print('불용어 개수 :', len(stopwords.words('english') ))\n",
        "print(stopwords.words('english'))"
      ],
      "metadata": {
        "colab": {
          "base_uri": "https://localhost:8080/"
        },
        "id": "yoU2Y6-XNDEh",
        "outputId": "373e6a0e-7f87-4d2d-b658-1d99f5db31b9"
      },
      "execution_count": 10,
      "outputs": [
        {
          "output_type": "stream",
          "name": "stdout",
          "text": [
            "불용어 개수 : 179\n",
            "['i', 'me', 'my', 'myself', 'we', 'our', 'ours', 'ourselves', 'you', \"you're\", \"you've\", \"you'll\", \"you'd\", 'your', 'yours', 'yourself', 'yourselves', 'he', 'him', 'his', 'himself', 'she', \"she's\", 'her', 'hers', 'herself', 'it', \"it's\", 'its', 'itself', 'they', 'them', 'their', 'theirs', 'themselves', 'what', 'which', 'who', 'whom', 'this', 'that', \"that'll\", 'these', 'those', 'am', 'is', 'are', 'was', 'were', 'be', 'been', 'being', 'have', 'has', 'had', 'having', 'do', 'does', 'did', 'doing', 'a', 'an', 'the', 'and', 'but', 'if', 'or', 'because', 'as', 'until', 'while', 'of', 'at', 'by', 'for', 'with', 'about', 'against', 'between', 'into', 'through', 'during', 'before', 'after', 'above', 'below', 'to', 'from', 'up', 'down', 'in', 'out', 'on', 'off', 'over', 'under', 'again', 'further', 'then', 'once', 'here', 'there', 'when', 'where', 'why', 'how', 'all', 'any', 'both', 'each', 'few', 'more', 'most', 'other', 'some', 'such', 'no', 'nor', 'not', 'only', 'own', 'same', 'so', 'than', 'too', 'very', 's', 't', 'can', 'will', 'just', 'don', \"don't\", 'should', \"should've\", 'now', 'd', 'll', 'm', 'o', 're', 've', 'y', 'ain', 'aren', \"aren't\", 'couldn', \"couldn't\", 'didn', \"didn't\", 'doesn', \"doesn't\", 'hadn', \"hadn't\", 'hasn', \"hasn't\", 'haven', \"haven't\", 'isn', \"isn't\", 'ma', 'mightn', \"mightn't\", 'mustn', \"mustn't\", 'needn', \"needn't\", 'shan', \"shan't\", 'shouldn', \"shouldn't\", 'wasn', \"wasn't\", 'weren', \"weren't\", 'won', \"won't\", 'wouldn', \"wouldn't\"]\n"
          ]
        }
      ]
    },
    {
      "cell_type": "code",
      "source": [
        "# 데이터 전처리 함수\n",
        "def preprocess_sentence(sentence, remove_stopwords=True):\n",
        "    sentence = sentence.lower() # 텍스트 소문자화\n",
        "    sentence = BeautifulSoup(sentence, \"lxml\").text # <br />, <a href = ...> 등의 html 태그 제거\n",
        "    sentence = re.sub(r'\\([^)]*\\)', '', sentence) # 괄호로 닫힌 문자열 (...) 제거 Ex) my husband (and myself!) for => my husband for\n",
        "    sentence = re.sub('\"','', sentence) # 쌍따옴표 \" 제거\n",
        "    sentence = ' '.join([contractions[t] if t in contractions else t for t in sentence.split(\" \")]) # 약어 정규화\n",
        "    sentence = re.sub(r\"'s\\b\",\"\", sentence) # 소유격 제거. Ex) roland's -> roland\n",
        "    sentence = re.sub(\"[^a-zA-Z]\", \" \", sentence) # 영어 외 문자(숫자, 특수문자 등) 공백으로 변환\n",
        "    sentence = re.sub('[m]{2,}', 'mm', sentence) # m이 3개 이상이면 2개로 변경. Ex) ummmmmmm yeah -> umm yeah\n",
        "    \n",
        "    # 불용어 제거 (Text)\n",
        "    if remove_stopwords:\n",
        "        tokens = ' '.join(word for word in sentence.split() if not word in stopwords.words('english') if len(word) > 1)\n",
        "    # 불용어 미제거 (Summary)\n",
        "    else:\n",
        "        tokens = ' '.join(word for word in sentence.split() if len(word) > 1)\n",
        "    return tokens\n"
      ],
      "metadata": {
        "id": "9z1_lHg4NF9c"
      },
      "execution_count": 11,
      "outputs": []
    },
    {
      "cell_type": "code",
      "source": [
        "temp_text = 'Everything I bought was great, infact I ordered twice and the third ordered was<br />for my mother and father.'\n",
        "temp_summary = 'Great way to start (or finish) the day!!!'\n",
        "\n",
        "print(\"text: \", preprocess_sentence(temp_text))\n",
        "print(\"summary:\", preprocess_sentence(temp_summary, False))  # 불용어를 제거하지 않습니다."
      ],
      "metadata": {
        "colab": {
          "base_uri": "https://localhost:8080/"
        },
        "id": "Is-5ILZENVxC",
        "outputId": "8347fb75-5000-460f-d77a-3e97c8cd4af3"
      },
      "execution_count": 12,
      "outputs": [
        {
          "output_type": "stream",
          "name": "stdout",
          "text": [
            "text:  everything bought great infact ordered twice third ordered wasfor mother father\n",
            "summary: great way to start the day\n"
          ]
        }
      ]
    },
    {
      "cell_type": "code",
      "source": [
        "clean_text = []\n",
        "# 전체 Text 데이터에 대한 전처리 : 10분 이상 시간이 걸릴 수 있습니다. \n",
        "for s in data['text']:\n",
        "    clean_text.append(preprocess_sentence(s))\n",
        "\n",
        "# 전처리 후 출력\n",
        "print(\"Text 전처리 후 결과: \", clean_text[:5])"
      ],
      "metadata": {
        "colab": {
          "base_uri": "https://localhost:8080/"
        },
        "id": "osP9SqD3NXSz",
        "outputId": "b7f57dbd-8aaf-45b5-c87f-011e42f440ca"
      },
      "execution_count": 13,
      "outputs": [
        {
          "output_type": "stream",
          "name": "stdout",
          "text": [
            "Text 전처리 후 결과:  ['saurav kant alumnus upgrad iiit pg program machine learning artificial intelligence sr systems engineer infosys almost years work experience program upgrad degree career support helped transition data scientist tech mahindra salary hike upgrad online power learning powered lakh careers', 'kunal shah credit card bill payment platform cred gave users chance win free food swiggy one year pranav kaushik delhi techie bagged reward spending cred coins users get one cred coin per rupee bill paid used avail rewards brands like ixigo bookmyshow ubereats cult fit', 'new zealand defeated india wickets fourth odi hamilton thursday win first match five match odi series india lost international match rohit sharma captaincy consecutive victories dating back march match witnessed india getting seventh lowest total odi cricket history', 'aegon life iterm insurance plan customers enjoy tax benefits premiums paid save taxes plan provides life cover age years also customers options insure critical illnesses disability accidental death benefit rider life cover age years', 'speaking sexual harassment allegations rajkumar hirani sonam kapoor said known hirani many years true metoo movement get derailed metoo movement always believe woman case need reserve judgment added hirani accused assistant worked sanju']\n"
          ]
        }
      ]
    },
    {
      "cell_type": "code",
      "source": [
        "clean_summary = []\n",
        "# 전체 Summary 데이터에 대한 전처리 : 5분 이상 시간이 걸릴 수 있습니다. \n",
        "for s in data['headlines']:\n",
        "    clean_summary.append(preprocess_sentence(s, False))\n",
        "\n",
        "print(\"Summary 전처리 후 결과: \", clean_summary[:5])"
      ],
      "metadata": {
        "colab": {
          "base_uri": "https://localhost:8080/"
        },
        "id": "2YDQnKOsNYnr",
        "outputId": "848b2451-a02d-4c1e-deee-c4238c52dce9"
      },
      "execution_count": 14,
      "outputs": [
        {
          "output_type": "stream",
          "name": "stdout",
          "text": [
            "Summary 전처리 후 결과:  ['upgrad learner switches to career in ml al with salary hike', 'delhi techie wins free food from swiggy for one year on cred', 'new zealand end rohit sharma led india match winning streak', 'aegon life iterm insurance plan helps customers save tax', 'have known hirani for yrs what if metoo claims are not true sonam']\n"
          ]
        }
      ]
    },
    {
      "cell_type": "code",
      "source": [
        "data['text'] = clean_text\n",
        "data['headlines'] = clean_summary\n",
        "\n",
        "# 빈 값을 Null 값으로 변환\n",
        "data.replace('', np.nan, inplace=True)\n"
      ],
      "metadata": {
        "id": "7p16rMd2Na0w"
      },
      "execution_count": 15,
      "outputs": []
    },
    {
      "cell_type": "code",
      "source": [
        "data.isnull().sum()"
      ],
      "metadata": {
        "colab": {
          "base_uri": "https://localhost:8080/"
        },
        "id": "oXUt15H7NeDl",
        "outputId": "0f23aa14-bced-4997-c424-21a928629acf"
      },
      "execution_count": 16,
      "outputs": [
        {
          "output_type": "execute_result",
          "data": {
            "text/plain": [
              "headlines    0\n",
              "text         0\n",
              "dtype: int64"
            ]
          },
          "metadata": {},
          "execution_count": 16
        }
      ]
    },
    {
      "cell_type": "code",
      "source": [
        "data.dropna(axis=0, inplace=True)\n",
        "print('전체 샘플수 :', (len(data)))"
      ],
      "metadata": {
        "colab": {
          "base_uri": "https://localhost:8080/"
        },
        "id": "vo_N1WeqNfe3",
        "outputId": "407ae8bf-fdf7-4caf-f766-dc06ccb3b0bc"
      },
      "execution_count": 17,
      "outputs": [
        {
          "output_type": "stream",
          "name": "stdout",
          "text": [
            "전체 샘플수 : 98360\n"
          ]
        }
      ]
    },
    {
      "cell_type": "markdown",
      "source": [
        "2-3 샘플의 최대 길이 정하기"
      ],
      "metadata": {
        "id": "hWq6lZbUNhLB"
      }
    },
    {
      "cell_type": "code",
      "source": [
        "# 길이 분포 출력\n",
        "import matplotlib.pyplot as plt\n",
        "\n",
        "text_len = [len(s.split()) for s in data['text']]\n",
        "summary_len = [len(s.split()) for s in data['headlines']]\n",
        "\n",
        "print('텍스트의 최소 길이 : {}'.format(np.min(text_len)))\n",
        "print('텍스트의 최대 길이 : {}'.format(np.max(text_len)))\n",
        "print('텍스트의 평균 길이 : {}'.format(np.mean(text_len)))\n",
        "print('요약의 최소 길이 : {}'.format(np.min(summary_len)))\n",
        "print('요약의 최대 길이 : {}'.format(np.max(summary_len)))\n",
        "print('요약의 평균 길이 : {}'.format(np.mean(summary_len)))\n",
        "\n",
        "plt.subplot(1,2,1)\n",
        "plt.boxplot(text_len)\n",
        "plt.title('Text')\n",
        "plt.subplot(1,2,2)\n",
        "plt.boxplot(summary_len)\n",
        "plt.title('Summary')\n",
        "plt.tight_layout()\n",
        "plt.show()\n",
        "\n",
        "plt.title('Text')\n",
        "plt.hist(text_len, bins = 40)\n",
        "plt.xlabel('length of samples')\n",
        "plt.ylabel('number of samples')\n",
        "plt.show()\n",
        "\n",
        "plt.title('Summary')\n",
        "plt.hist(summary_len, bins = 40)\n",
        "plt.xlabel('length of samples')\n",
        "plt.ylabel('number of samples')\n",
        "plt.show()"
      ],
      "metadata": {
        "colab": {
          "base_uri": "https://localhost:8080/",
          "height": 957
        },
        "id": "fIltZYqeNh7D",
        "outputId": "38cbe248-6afe-4a5f-faa9-c600a7c8461e"
      },
      "execution_count": 18,
      "outputs": [
        {
          "output_type": "stream",
          "name": "stdout",
          "text": [
            "텍스트의 최소 길이 : 1\n",
            "텍스트의 최대 길이 : 60\n",
            "텍스트의 평균 길이 : 35.09968483123221\n",
            "요약의 최소 길이 : 1\n",
            "요약의 최대 길이 : 16\n",
            "요약의 평균 길이 : 9.299532330215534\n"
          ]
        },
        {
          "output_type": "display_data",
          "data": {
            "text/plain": [
              "<Figure size 432x288 with 2 Axes>"
            ],
            "image/png": "[encoded data removed]"
          },
          "metadata": {
            "needs_background": "light"
          }
        },
        {
          "output_type": "display_data",
          "data": {
            "text/plain": [
              "<Figure size 432x288 with 1 Axes>"
            ],
            "image/png": "[encoded data removed]"
          },
          "metadata": {
            "needs_background": "light"
          }
        },
        {
          "output_type": "display_data",
          "data": {
            "text/plain": [
              "<Figure size 432x288 with 1 Axes>"
            ],
            "image/png": "[encoded data removed]"
          },
          "metadata": {
            "needs_background": "light"
          }
        }
      ]
    },
    {
      "cell_type": "code",
      "source": [
        "text_max_len = 40\n",
        "summary_max_len = 10"
      ],
      "metadata": {
        "id": "XqIotHnANmHw"
      },
      "execution_count": 19,
      "outputs": []
    },
    {
      "cell_type": "code",
      "source": [
        "def below_threshold_len(max_len, nested_list):\n",
        "  cnt = 0\n",
        "  for s in nested_list:\n",
        "    if(len(s.split()) <= max_len):\n",
        "        cnt = cnt + 1\n",
        "  print('전체 샘플 중 길이가 %s 이하인 샘플의 비율: %s'%(max_len, (cnt / len(nested_list))))"
      ],
      "metadata": {
        "id": "4JSJNnkQNnkX"
      },
      "execution_count": 20,
      "outputs": []
    },
    {
      "cell_type": "code",
      "source": [
        "below_threshold_len(text_max_len, data['text'])\n",
        "below_threshold_len(summary_max_len,  data['headlines'])"
      ],
      "metadata": {
        "colab": {
          "base_uri": "https://localhost:8080/"
        },
        "id": "tqzktT9rNo25",
        "outputId": "043baace-912c-4c3f-d183-5cd5eca5623b"
      },
      "execution_count": 21,
      "outputs": [
        {
          "output_type": "stream",
          "name": "stdout",
          "text": [
            "전체 샘플 중 길이가 40 이하인 샘플의 비율: 0.9238714924766165\n",
            "전체 샘플 중 길이가 10 이하인 샘플의 비율: 0.8162972753151687\n"
          ]
        }
      ]
    },
    {
      "cell_type": "code",
      "source": [
        "data = data[data['text'].apply(lambda x: len(x.split()) <= text_max_len)]\n",
        "data = data[data['headlines'].apply(lambda x: len(x.split()) <= summary_max_len)]\n",
        "print('전체 샘플수 :', (len(data)))"
      ],
      "metadata": {
        "colab": {
          "base_uri": "https://localhost:8080/"
        },
        "id": "fTQWwxh4NqR2",
        "outputId": "416c8bf5-791e-4d4e-fba5-1c0e94ddf066"
      },
      "execution_count": 22,
      "outputs": [
        {
          "output_type": "stream",
          "name": "stdout",
          "text": [
            "전체 샘플수 : 74102\n"
          ]
        }
      ]
    },
    {
      "cell_type": "markdown",
      "source": [
        "2-4 시작 토큰과 종료 토큰 추가하기"
      ],
      "metadata": {
        "id": "CGd1bpmiNsBC"
      }
    },
    {
      "cell_type": "code",
      "source": [
        "# 요약 데이터에는 시작 토큰과 종료 토큰을 추가한다.\n",
        "data['decoder_input'] = data['headlines'].apply(lambda x : 'sostoken '+ x)\n",
        "data['decoder_target'] = data['headlines'].apply(lambda x : x + ' eostoken')\n",
        "data.head()"
      ],
      "metadata": {
        "colab": {
          "base_uri": "https://localhost:8080/",
          "height": 206
        },
        "id": "0t_h8ZOMNsjU",
        "outputId": "d2e96d6a-39e3-4140-ebff-a0850a64e3df"
      },
      "execution_count": 23,
      "outputs": [
        {
          "output_type": "execute_result",
          "data": {
            "text/plain": [
              "                                            headlines  \\\n",
              "2   new zealand end rohit sharma led india match w...   \n",
              "3   aegon life iterm insurance plan helps customer...   \n",
              "5   rahat fateh ali khan denies getting notice for...   \n",
              "9   cong wins ramgarh bypoll in rajasthan takes to...   \n",
              "10  up cousins fed human excreta for friendship wi...   \n",
              "\n",
              "                                                 text  \\\n",
              "2   new zealand defeated india wickets fourth odi ...   \n",
              "3   aegon life iterm insurance plan customers enjo...   \n",
              "5   pakistani singer rahat fateh ali khan denied r...   \n",
              "9   congress candidate shafia zubair ramgarh assem...   \n",
              "10  two minor cousins uttar pradesh gorakhpur alle...   \n",
              "\n",
              "                                        decoder_input  \\\n",
              "2   sostoken new zealand end rohit sharma led indi...   \n",
              "3   sostoken aegon life iterm insurance plan helps...   \n",
              "5   sostoken rahat fateh ali khan denies getting n...   \n",
              "9   sostoken cong wins ramgarh bypoll in rajasthan...   \n",
              "10  sostoken up cousins fed human excreta for frie...   \n",
              "\n",
              "                                       decoder_target  \n",
              "2   new zealand end rohit sharma led india match w...  \n",
              "3   aegon life iterm insurance plan helps customer...  \n",
              "5   rahat fateh ali khan denies getting notice for...  \n",
              "9   cong wins ramgarh bypoll in rajasthan takes to...  \n",
              "10  up cousins fed human excreta for friendship wi...  "
            ],
            "text/html": [
              "\n",
              "  <div id=\"df-a7fad4c6-bdb7-40c9-b501-80cc701ba56d\">\n",
              "    <div class=\"colab-df-container\">\n",
              "      <div>\n",
              "<style scoped>\n",
              "    .dataframe tbody tr th:only-of-type {\n",
              "        vertical-align: middle;\n",
              "    }\n",
              "\n",
              "    .dataframe tbody tr th {\n",
              "        vertical-align: top;\n",
              "    }\n",
              "\n",
              "    .dataframe thead th {\n",
              "        text-align: right;\n",
              "    }\n",
              "</style>\n",
              "<table border=\"1\" class=\"dataframe\">\n",
              "  <thead>\n",
              "    <tr style=\"text-align: right;\">\n",
              "      <th></th>\n",
              "      <th>headlines</th>\n",
              "      <th>text</th>\n",
              "      <th>decoder_input</th>\n",
              "      <th>decoder_target</th>\n",
              "    </tr>\n",
              "  </thead>\n",
              "  <tbody>\n",
              "    <tr>\n",
              "      <th>2</th>\n",
              "      <td>new zealand end rohit sharma led india match w...</td>\n",
              "      <td>new zealand defeated india wickets fourth odi ...</td>\n",
              "      <td>sostoken new zealand end rohit sharma led indi...</td>\n",
              "      <td>new zealand end rohit sharma led india match w...</td>\n",
              "    </tr>\n",
              "    <tr>\n",
              "      <th>3</th>\n",
              "      <td>aegon life iterm insurance plan helps customer...</td>\n",
              "      <td>aegon life iterm insurance plan customers enjo...</td>\n",
              "      <td>sostoken aegon life iterm insurance plan helps...</td>\n",
              "      <td>aegon life iterm insurance plan helps customer...</td>\n",
              "    </tr>\n",
              "    <tr>\n",
              "      <th>5</th>\n",
              "      <td>rahat fateh ali khan denies getting notice for...</td>\n",
              "      <td>pakistani singer rahat fateh ali khan denied r...</td>\n",
              "      <td>sostoken rahat fateh ali khan denies getting n...</td>\n",
              "      <td>rahat fateh ali khan denies getting notice for...</td>\n",
              "    </tr>\n",
              "    <tr>\n",
              "      <th>9</th>\n",
              "      <td>cong wins ramgarh bypoll in rajasthan takes to...</td>\n",
              "      <td>congress candidate shafia zubair ramgarh assem...</td>\n",
              "      <td>sostoken cong wins ramgarh bypoll in rajasthan...</td>\n",
              "      <td>cong wins ramgarh bypoll in rajasthan takes to...</td>\n",
              "    </tr>\n",
              "    <tr>\n",
              "      <th>10</th>\n",
              "      <td>up cousins fed human excreta for friendship wi...</td>\n",
              "      <td>two minor cousins uttar pradesh gorakhpur alle...</td>\n",
              "      <td>sostoken up cousins fed human excreta for frie...</td>\n",
              "      <td>up cousins fed human excreta for friendship wi...</td>\n",
              "    </tr>\n",
              "  </tbody>\n",
              "</table>\n",
              "</div>\n",
              "      <button class=\"colab-df-convert\" onclick=\"convertToInteractive('df-a7fad4c6-bdb7-40c9-b501-80cc701ba56d')\"\n",
              "              title=\"Convert this dataframe to an interactive table.\"\n",
              "              style=\"display:none;\">\n",
              "        \n",
              "  <svg xmlns=\"http://www.w3.org/2000/svg\" height=\"24px\"viewBox=\"0 0 24 24\"\n",
              "       width=\"24px\">\n",
              "    <path d=\"M0 0h24v24H0V0z\" fill=\"none\"/>\n",
              "    <path d=\"M18.56 5.44l.94 2.06.94-2.06 2.06-.94-2.06-.94-.94-2.06-.94 2.06-2.06.94zm-11 1L8.5 8.5l.94-2.06 2.06-.94-2.06-.94L8.5 2.5l-.94 2.06-2.06.94zm10 10l.94 2.06.94-2.06 2.06-.94-2.06-.94-.94-2.06-.94 2.06-2.06.94z\"/><path d=\"M17.41 7.96l-1.37-1.37c-.4-.4-.92-.59-1.43-.59-.52 0-1.04.2-1.43.59L10.3 9.45l-7.72 7.72c-.78.78-.78 2.05 0 2.83L4 21.41c.39.39.9.59 1.41.59.51 0 1.02-.2 1.41-.59l7.78-7.78 2.81-2.81c.8-.78.8-2.07 0-2.86zM5.41 20L4 18.59l7.72-7.72 1.47 1.35L5.41 20z\"/>\n",
              "  </svg>\n",
              "      </button>\n",
              "      \n",
              "  <style>\n",
              "    .colab-df-container {\n",
              "      display:flex;\n",
              "      flex-wrap:wrap;\n",
              "      gap: 12px;\n",
              "    }\n",
              "\n",
              "    .colab-df-convert {\n",
              "      background-color: #E8F0FE;\n",
              "      border: none;\n",
              "      border-radius: 50%;\n",
              "      cursor: pointer;\n",
              "      display: none;\n",
              "      fill: #1967D2;\n",
              "      height: 32px;\n",
              "      padding: 0 0 0 0;\n",
              "      width: 32px;\n",
              "    }\n",
              "\n",
              "    .colab-df-convert:hover {\n",
              "      background-color: #E2EBFA;\n",
              "      box-shadow: 0px 1px 2px rgba(60, 64, 67, 0.3), 0px 1px 3px 1px rgba(60, 64, 67, 0.15);\n",
              "      fill: #174EA6;\n",
              "    }\n",
              "\n",
              "    [theme=dark] .colab-df-convert {\n",
              "      background-color: #3B4455;\n",
              "      fill: #D2E3FC;\n",
              "    }\n",
              "\n",
              "    [theme=dark] .colab-df-convert:hover {\n",
              "      background-color: #434B5C;\n",
              "      box-shadow: 0px 1px 3px 1px rgba(0, 0, 0, 0.15);\n",
              "      filter: drop-shadow(0px 1px 2px rgba(0, 0, 0, 0.3));\n",
              "      fill: #FFFFFF;\n",
              "    }\n",
              "  </style>\n",
              "\n",
              "      <script>\n",
              "        const buttonEl =\n",
              "          document.querySelector('#df-a7fad4c6-bdb7-40c9-b501-80cc701ba56d button.colab-df-convert');\n",
              "        buttonEl.style.display =\n",
              "          google.colab.kernel.accessAllowed ? 'block' : 'none';\n",
              "\n",
              "        async function convertToInteractive(key) {\n",
              "          const element = document.querySelector('#df-a7fad4c6-bdb7-40c9-b501-80cc701ba56d');\n",
              "          const dataTable =\n",
              "            await google.colab.kernel.invokeFunction('convertToInteractive',\n",
              "                                                     [key], {});\n",
              "          if (!dataTable) return;\n",
              "\n",
              "          const docLinkHtml = 'Like what you see? Visit the ' +\n",
              "            '<a target=\"_blank\" href=https://colab.research.google.com/notebooks/data_table.ipynb>data table notebook</a>'\n",
              "            + ' to learn more about interactive tables.';\n",
              "          element.innerHTML = '';\n",
              "          dataTable['output_type'] = 'display_data';\n",
              "          await google.colab.output.renderOutput(dataTable, element);\n",
              "          const docLink = document.createElement('div');\n",
              "          docLink.innerHTML = docLinkHtml;\n",
              "          element.appendChild(docLink);\n",
              "        }\n",
              "      </script>\n",
              "    </div>\n",
              "  </div>\n",
              "  "
            ]
          },
          "metadata": {},
          "execution_count": 23
        }
      ]
    },
    {
      "cell_type": "code",
      "source": [
        "encoder_input = np.array(data['text']) # 인코더의 입력\n",
        "decoder_input = np.array(data['decoder_input']) # 디코더의 입력\n",
        "decoder_target = np.array(data['decoder_target']) # 디코더의 레이블"
      ],
      "metadata": {
        "id": "VTwaC2h8Nt90"
      },
      "execution_count": 24,
      "outputs": []
    },
    {
      "cell_type": "code",
      "source": [
        "indices = np.arange(encoder_input.shape[0])\n",
        "np.random.shuffle(indices)\n",
        "type(indices)"
      ],
      "metadata": {
        "colab": {
          "base_uri": "https://localhost:8080/"
        },
        "id": "npzBIZr_Nvir",
        "outputId": "5a2a0b19-7505-417a-9139-e9aa12e63851"
      },
      "execution_count": 25,
      "outputs": [
        {
          "output_type": "execute_result",
          "data": {
            "text/plain": [
              "numpy.ndarray"
            ]
          },
          "metadata": {},
          "execution_count": 25
        }
      ]
    },
    {
      "cell_type": "code",
      "source": [
        "encoder_input = encoder_input[indices]\n",
        "decoder_input = decoder_input[indices]\n",
        "decoder_target = decoder_target[indices]"
      ],
      "metadata": {
        "id": "s2phemWNNw7M"
      },
      "execution_count": 26,
      "outputs": []
    },
    {
      "cell_type": "code",
      "source": [
        "n_of_val = int(len(encoder_input)*0.2)\n",
        "print('테스트 데이터의 수 :', n_of_val)"
      ],
      "metadata": {
        "colab": {
          "base_uri": "https://localhost:8080/"
        },
        "id": "1F6_m8ltNymj",
        "outputId": "9ad3bc5e-ef93-4df8-ea2b-87cbbaf4ac42"
      },
      "execution_count": 27,
      "outputs": [
        {
          "output_type": "stream",
          "name": "stdout",
          "text": [
            "테스트 데이터의 수 : 14820\n"
          ]
        }
      ]
    },
    {
      "cell_type": "code",
      "source": [
        "encoder_input_train = encoder_input[:-n_of_val]\n",
        "decoder_input_train = decoder_input[:-n_of_val]\n",
        "decoder_target_train = decoder_target[:-n_of_val]\n",
        "\n",
        "encoder_input_test = encoder_input[-n_of_val:]\n",
        "decoder_input_test = decoder_input[-n_of_val:]\n",
        "decoder_target_test = decoder_target[-n_of_val:]\n",
        "\n",
        "print('훈련 데이터의 개수 :', len(encoder_input_train))\n",
        "print('훈련 레이블의 개수 :', len(decoder_input_train))\n",
        "print('테스트 데이터의 개수 :', len(encoder_input_test))\n",
        "print('테스트 레이블의 개수 :', len(decoder_input_test))"
      ],
      "metadata": {
        "colab": {
          "base_uri": "https://localhost:8080/"
        },
        "id": "PAT6-z6yN0Cq",
        "outputId": "0eb40d57-4a96-4b81-fc7a-d0935560b3d1"
      },
      "execution_count": 28,
      "outputs": [
        {
          "output_type": "stream",
          "name": "stdout",
          "text": [
            "훈련 데이터의 개수 : 59282\n",
            "훈련 레이블의 개수 : 59282\n",
            "테스트 데이터의 개수 : 14820\n",
            "테스트 레이블의 개수 : 14820\n"
          ]
        }
      ]
    },
    {
      "cell_type": "markdown",
      "source": [
        "2-5 정수 인코딩"
      ],
      "metadata": {
        "id": "6CE0q_3VN3PD"
      }
    },
    {
      "cell_type": "code",
      "source": [
        "src_tokenizer = Tokenizer() # 토크나이저 정의\n",
        "src_tokenizer.fit_on_texts(encoder_input_train) # 입력된 데이터로부터 단어 집합 생성"
      ],
      "metadata": {
        "id": "nip-jJ2oN1x-"
      },
      "execution_count": 29,
      "outputs": []
    },
    {
      "cell_type": "code",
      "source": [
        "threshold = 7\n",
        "total_cnt = len(src_tokenizer.word_index) # 단어의 수\n",
        "rare_cnt = 0 # 등장 빈도수가 threshold보다 작은 단어의 개수를 카운트\n",
        "total_freq = 0 # 훈련 데이터의 전체 단어 빈도수 총 합\n",
        "rare_freq = 0 # 등장 빈도수가 threshold보다 작은 단어의 등장 빈도수의 총 합\n",
        "\n",
        "# 단어와 빈도수의 쌍(pair)을 key와 value로 받는다.\n",
        "for key, value in src_tokenizer.word_counts.items():\n",
        "    total_freq = total_freq + value\n",
        "\n",
        "    # 단어의 등장 빈도수가 threshold보다 작으면\n",
        "    if(value < threshold):\n",
        "        rare_cnt = rare_cnt + 1\n",
        "        rare_freq = rare_freq + value\n",
        "\n",
        "print('단어 집합(vocabulary)의 크기 :', total_cnt)\n",
        "print('등장 빈도가 %s번 이하인 희귀 단어의 수: %s'%(threshold - 1, rare_cnt))\n",
        "print('단어 집합에서 희귀 단어를 제외시킬 경우의 단어 집합의 크기 %s'%(total_cnt - rare_cnt))\n",
        "print(\"단어 집합에서 희귀 단어의 비율:\", (rare_cnt / total_cnt)*100)\n",
        "print(\"전체 등장 빈도에서 희귀 단어 등장 빈도 비율:\", (rare_freq / total_freq)*100)"
      ],
      "metadata": {
        "colab": {
          "base_uri": "https://localhost:8080/"
        },
        "id": "E6mEkGstN5Tf",
        "outputId": "62fe08ba-dcb8-4ae5-e86f-0f911a4334b9"
      },
      "execution_count": 30,
      "outputs": [
        {
          "output_type": "stream",
          "name": "stdout",
          "text": [
            "단어 집합(vocabulary)의 크기 : 61512\n",
            "등장 빈도가 6번 이하인 희귀 단어의 수: 42248\n",
            "단어 집합에서 희귀 단어를 제외시킬 경우의 단어 집합의 크기 19264\n",
            "단어 집합에서 희귀 단어의 비율: 68.68253348940044\n",
            "전체 등장 빈도에서 희귀 단어 등장 빈도 비율: 4.195704916577184\n"
          ]
        }
      ]
    },
    {
      "cell_type": "code",
      "source": [
        "src_vocab = 10000\n",
        "src_tokenizer = Tokenizer(num_words=src_vocab) # 단어 집합의 크기를 10000으로 제한\n",
        "src_tokenizer.fit_on_texts(encoder_input_train) # 단어 집합 재생성"
      ],
      "metadata": {
        "id": "eHzxWkB8N7vq"
      },
      "execution_count": 31,
      "outputs": []
    },
    {
      "cell_type": "code",
      "source": [
        "# 텍스트 시퀀스를 정수 시퀀스로 변환\n",
        "encoder_input_train = src_tokenizer.texts_to_sequences(encoder_input_train) \n",
        "encoder_input_test = src_tokenizer.texts_to_sequences(encoder_input_test)\n",
        "\n",
        "# 잘 진행되었는지 샘플 출력\n",
        "print(encoder_input_train[:3])"
      ],
      "metadata": {
        "colab": {
          "base_uri": "https://localhost:8080/"
        },
        "id": "89OBLlL3N86d",
        "outputId": "75e9c265-615e-4ef7-c3e8-7d1420b9851b"
      },
      "execution_count": 32,
      "outputs": [
        {
          "output_type": "stream",
          "name": "stdout",
          "text": [
            "[[309, 14, 81, 383, 2916, 2687, 488, 154, 488, 1243, 7500, 151, 568, 751, 759, 561, 2895, 98, 1, 33, 2916, 801, 877, 488, 61, 1272, 3983], [176, 14, 143, 69, 752, 97, 562, 66, 58, 1093, 8125, 767, 268, 17, 1307, 3908, 479, 337, 782, 58, 5664, 1692, 1093, 767, 1462, 2449, 3101, 136, 30, 128, 68, 514], [188, 20, 212, 19, 163, 5252, 1035, 5983, 112, 327, 833, 1223, 77, 176, 14, 17, 408, 269, 188, 6, 212, 269, 721, 4802, 333, 2018]]\n"
          ]
        }
      ]
    },
    {
      "cell_type": "code",
      "source": [
        "tar_tokenizer = Tokenizer()\n",
        "tar_tokenizer.fit_on_texts(decoder_input_train)"
      ],
      "metadata": {
        "id": "AxTRP2rhN-GF"
      },
      "execution_count": 33,
      "outputs": []
    },
    {
      "cell_type": "code",
      "source": [
        "threshold = 6\n",
        "total_cnt = len(tar_tokenizer.word_index) # 단어의 수\n",
        "rare_cnt = 0 # 등장 빈도수가 threshold보다 작은 단어의 개수를 카운트\n",
        "total_freq = 0 # 훈련 데이터의 전체 단어 빈도수 총 합\n",
        "rare_freq = 0 # 등장 빈도수가 threshold보다 작은 단어의 등장 빈도수의 총 합\n",
        "\n",
        "# 단어와 빈도수의 쌍(pair)을 key와 value로 받는다.\n",
        "for key, value in tar_tokenizer.word_counts.items():\n",
        "    total_freq = total_freq + value\n",
        "\n",
        "    # 단어의 등장 빈도수가 threshold보다 작으면\n",
        "    if(value < threshold):\n",
        "        rare_cnt = rare_cnt + 1\n",
        "        rare_freq = rare_freq + value\n",
        "\n",
        "print('단어 집합(vocabulary)의 크기 :', total_cnt)\n",
        "print('등장 빈도가 %s번 이하인 희귀 단어의 수: %s'%(threshold - 1, rare_cnt))\n",
        "print('단어 집합에서 희귀 단어를 제외시킬 경우의 단어 집합의 크기 %s'%(total_cnt - rare_cnt))\n",
        "print(\"단어 집합에서 희귀 단어의 비율:\", (rare_cnt / total_cnt)*100)\n",
        "print(\"전체 등장 빈도에서 희귀 단어 등장 빈도 비율:\", (rare_freq / total_freq)*100)"
      ],
      "metadata": {
        "colab": {
          "base_uri": "https://localhost:8080/"
        },
        "id": "JJD0ocaON_Vj",
        "outputId": "73d90e91-164e-4b29-b8ab-957634fa6dc1"
      },
      "execution_count": 34,
      "outputs": [
        {
          "output_type": "stream",
          "name": "stdout",
          "text": [
            "단어 집합(vocabulary)의 크기 : 27250\n",
            "등장 빈도가 5번 이하인 희귀 단어의 수: 18181\n",
            "단어 집합에서 희귀 단어를 제외시킬 경우의 단어 집합의 크기 9069\n",
            "단어 집합에서 희귀 단어의 비율: 66.71926605504586\n",
            "전체 등장 빈도에서 희귀 단어 등장 빈도 비율: 5.971309569368958\n"
          ]
        }
      ]
    },
    {
      "cell_type": "code",
      "source": [
        "tar_vocab = 10000\n",
        "tar_tokenizer = Tokenizer(num_words=tar_vocab) \n",
        "tar_tokenizer.fit_on_texts(decoder_input_train)\n",
        "tar_tokenizer.fit_on_texts(decoder_target_train)\n",
        "\n",
        "# 텍스트 시퀀스를 정수 시퀀스로 변환\n",
        "decoder_input_train = tar_tokenizer.texts_to_sequences(decoder_input_train) \n",
        "decoder_target_train = tar_tokenizer.texts_to_sequences(decoder_target_train)\n",
        "decoder_input_test = tar_tokenizer.texts_to_sequences(decoder_input_test)\n",
        "decoder_target_test = tar_tokenizer.texts_to_sequences(decoder_target_test)\n",
        "\n",
        "# 잘 변환되었는지 확인\n",
        "print('input')\n",
        "print('input ',decoder_input_train[:5])\n",
        "print('target')\n",
        "print('decoder ',decoder_target_train[:5])"
      ],
      "metadata": {
        "colab": {
          "base_uri": "https://localhost:8080/"
        },
        "id": "3uBmoiU-OAqm",
        "outputId": "a3038dea-a102-4269-927a-b0e0cc2ffc0f"
      },
      "execution_count": 35,
      "outputs": [
        {
          "output_type": "stream",
          "name": "stdout",
          "text": [
            "input\n",
            "input  [[1, 8211, 13, 887, 48, 123, 9071, 125, 58], [1, 29, 42, 1376, 53, 5, 475, 8, 100, 6089], [1, 198, 1181, 119, 595, 3, 1360, 4162, 3847, 250, 1285], [1, 81, 643, 2005, 19, 1879, 12, 6497, 2095, 7516, 102], [1, 663, 941, 140, 40, 6090, 4, 9, 4]]\n",
            "target\n",
            "decoder  [[8211, 13, 887, 48, 123, 9071, 125, 58, 2], [29, 42, 1376, 53, 5, 475, 8, 100, 6089, 2], [198, 1181, 119, 595, 3, 1360, 4162, 3847, 250, 1285, 2], [81, 643, 2005, 19, 1879, 12, 6497, 2095, 7516, 102, 2], [663, 941, 140, 40, 6090, 4, 9, 4, 2]]\n"
          ]
        }
      ]
    },
    {
      "cell_type": "code",
      "source": [
        "# 단어가 없는 문장 제거.\n",
        "drop_train = [index for index, sentence in enumerate(decoder_input_train) if len(sentence) == 1]\n",
        "drop_test = [index for index, sentence in enumerate(decoder_input_test) if len(sentence) == 1]\n",
        "\n",
        "print('삭제할 훈련 데이터의 개수 :', len(drop_train))\n",
        "print('삭제할 테스트 데이터의 개수 :', len(drop_test))\n",
        "\n",
        "encoder_input_train = [sentence for index, sentence in enumerate(encoder_input_train) if index not in drop_train]\n",
        "decoder_input_train = [sentence for index, sentence in enumerate(decoder_input_train) if index not in drop_train]\n",
        "decoder_target_train = [sentence for index, sentence in enumerate(decoder_target_train) if index not in drop_train]\n",
        "\n",
        "encoder_input_test = [sentence for index, sentence in enumerate(encoder_input_test) if index not in drop_test]\n",
        "decoder_input_test = [sentence for index, sentence in enumerate(decoder_input_test) if index not in drop_test]\n",
        "decoder_target_test = [sentence for index, sentence in enumerate(decoder_target_test) if index not in drop_test]\n",
        "\n",
        "print('훈련 데이터의 개수 :', len(encoder_input_train))\n",
        "print('훈련 레이블의 개수 :', len(decoder_input_train))\n",
        "print('테스트 데이터의 개수 :', len(encoder_input_test))\n",
        "print('테스트 레이블의 개수 :', len(decoder_input_test))"
      ],
      "metadata": {
        "colab": {
          "base_uri": "https://localhost:8080/"
        },
        "id": "6qG1PV0oOCXZ",
        "outputId": "ce0d213f-ad7b-45fa-be35-c525bc957a26"
      },
      "execution_count": 36,
      "outputs": [
        {
          "output_type": "stream",
          "name": "stdout",
          "text": [
            "삭제할 훈련 데이터의 개수 : 1\n",
            "삭제할 테스트 데이터의 개수 : 0\n",
            "훈련 데이터의 개수 : 59281\n",
            "훈련 레이블의 개수 : 59281\n",
            "테스트 데이터의 개수 : 14820\n",
            "테스트 레이블의 개수 : 14820\n"
          ]
        }
      ]
    },
    {
      "cell_type": "code",
      "source": [
        "encoder_input_train = pad_sequences(encoder_input_train, maxlen=text_max_len, padding='post')\n",
        "encoder_input_test = pad_sequences(encoder_input_test, maxlen=text_max_len, padding='post')\n",
        "decoder_input_train = pad_sequences(decoder_input_train, maxlen=summary_max_len, padding='post')\n",
        "decoder_target_train = pad_sequences(decoder_target_train, maxlen=summary_max_len, padding='post')\n",
        "decoder_input_test = pad_sequences(decoder_input_test, maxlen=summary_max_len, padding='post')\n",
        "decoder_target_test = pad_sequences(decoder_target_test, maxlen=summary_max_len, padding='post')"
      ],
      "metadata": {
        "id": "754t1e3HOC8X"
      },
      "execution_count": 37,
      "outputs": []
    },
    {
      "cell_type": "markdown",
      "source": [
        "##### Step 3. 어텐션 메커니즘 사용하기(추상적 요약)\n",
        "\n",
        "3-1 학습 모델 생성하기"
      ],
      "metadata": {
        "id": "IizfBmqBOFGE"
      }
    },
    {
      "cell_type": "code",
      "source": [
        "from tensorflow.keras.layers import Input, LSTM, Embedding, Dense, Concatenate, TimeDistributed\n",
        "from tensorflow.keras.models import Model\n",
        "from tensorflow.keras.callbacks import EarlyStopping, ModelCheckpoint\n",
        "\n",
        "\n",
        "# 인코더 설계 시작\n",
        "embedding_dim = 128\n",
        "hidden_size = 256\n",
        "\n",
        "# 인코더\n",
        "encoder_inputs = Input(shape=(text_max_len,))\n",
        "\n",
        "# 인코더의 임베딩 층\n",
        "enc_emb = Embedding(src_vocab, embedding_dim)(encoder_inputs)\n",
        "\n",
        "# 인코더의 LSTM 1\n",
        "# encoder_lstm1 = LSTM(hidden_size, return_sequences=True, return_state=True ,dropout = 0.4, recurrent_dropout = 0.4)\n",
        "encoder_lstm1 = LSTM(hidden_size, return_sequences=True, return_state=True ,dropout = 0.4)\n",
        "encoder_output1, state_h1, state_c1 = encoder_lstm1(enc_emb)\n",
        "\n",
        "# 인코더의 LSTM 2\n",
        "# encoder_lstm2 = LSTM(hidden_size, return_sequences=True, return_state=True, dropout=0.4, recurrent_dropout=0.4)\n",
        "encoder_lstm2 = LSTM(hidden_size, return_sequences=True, return_state=True, dropout=0.4)\n",
        "encoder_output2, state_h2, state_c2 = encoder_lstm2(encoder_output1)\n",
        "\n",
        "# 인코더의 LSTM 3\n",
        "# encoder_lstm3 = LSTM(hidden_size, return_state=True, return_sequences=True, dropout=0.4, recurrent_dropout=0.4)\n",
        "encoder_lstm3 = LSTM(hidden_size, return_state=True, return_sequences=True, dropout=0.4)\n",
        "encoder_outputs, state_h, state_c= encoder_lstm3(encoder_output2)"
      ],
      "metadata": {
        "id": "33m_e4_zOEaG"
      },
      "execution_count": 38,
      "outputs": []
    },
    {
      "cell_type": "code",
      "source": [
        "# 디코더 설계\n",
        "decoder_inputs = Input(shape=(None,))\n",
        "\n",
        "# 디코더의 임베딩 층\n",
        "dec_emb_layer = Embedding(tar_vocab, embedding_dim)\n",
        "dec_emb = dec_emb_layer(decoder_inputs)\n",
        "\n",
        "# 디코더의 LSTM\n",
        "# decoder_lstm = LSTM(hidden_size, return_sequences=True, return_state=True, dropout=0.4, recurrent_dropout=0.2)\n",
        "decoder_lstm = LSTM(hidden_size, return_sequences=True, return_state=True, dropout=0.4)\n",
        "decoder_outputs, _, _ = decoder_lstm(dec_emb, initial_state=[state_h, state_c])"
      ],
      "metadata": {
        "id": "hmJHXBdWOJEt"
      },
      "execution_count": 39,
      "outputs": []
    },
    {
      "cell_type": "code",
      "source": [
        "# 디코더의 출력층\n",
        "decoder_softmax_layer = Dense(tar_vocab, activation='softmax')\n",
        "decoder_softmax_outputs = decoder_softmax_layer(decoder_outputs) \n",
        "\n",
        "# 모델 정의\n",
        "model = Model([encoder_inputs, decoder_inputs], decoder_softmax_outputs)\n",
        "model.summary()\n",
        "\n",
        "plot_model(model, show_shapes=True)"
      ],
      "metadata": {
        "colab": {
          "base_uri": "https://localhost:8080/",
          "height": 1000
        },
        "id": "UqSKuaTyOKSk",
        "outputId": "ab75052f-3621-4602-92e4-7744c4d67743"
      },
      "execution_count": 40,
      "outputs": [
        {
          "output_type": "stream",
          "name": "stdout",
          "text": [
            "Model: \"model\"\n",
            "__________________________________________________________________________________________________\n",
            " Layer (type)                   Output Shape         Param #     Connected to                     \n",
            "==================================================================================================\n",
            " input_1 (InputLayer)           [(None, 40)]         0           []                               \n",
            "                                                                                                  \n",
            " embedding (Embedding)          (None, 40, 128)      1280000     ['input_1[0][0]']                \n",
            "                                                                                                  \n",
            " lstm (LSTM)                    [(None, 40, 256),    394240      ['embedding[0][0]']              \n",
            "                                 (None, 256),                                                     \n",
            "                                 (None, 256)]                                                     \n",
            "                                                                                                  \n",
            " input_2 (InputLayer)           [(None, None)]       0           []                               \n",
            "                                                                                                  \n",
            " lstm_1 (LSTM)                  [(None, 40, 256),    525312      ['lstm[0][0]']                   \n",
            "                                 (None, 256),                                                     \n",
            "                                 (None, 256)]                                                     \n",
            "                                                                                                  \n",
            " embedding_1 (Embedding)        (None, None, 128)    1280000     ['input_2[0][0]']                \n",
            "                                                                                                  \n",
            " lstm_2 (LSTM)                  [(None, 40, 256),    525312      ['lstm_1[0][0]']                 \n",
            "                                 (None, 256),                                                     \n",
            "                                 (None, 256)]                                                     \n",
            "                                                                                                  \n",
            " lstm_3 (LSTM)                  [(None, None, 256),  394240      ['embedding_1[0][0]',            \n",
            "                                 (None, 256),                     'lstm_2[0][1]',                 \n",
            "                                 (None, 256)]                     'lstm_2[0][2]']                 \n",
            "                                                                                                  \n",
            " dense (Dense)                  (None, None, 10000)  2570000     ['lstm_3[0][0]']                 \n",
            "                                                                                                  \n",
            "==================================================================================================\n",
            "Total params: 6,969,104\n",
            "Trainable params: 6,969,104\n",
            "Non-trainable params: 0\n",
            "__________________________________________________________________________________________________\n"
          ]
        },
        {
          "output_type": "execute_result",
          "data": {
            "image/png": "[encoded data removed]",
            "text/plain": [
              "<IPython.core.display.Image object>"
            ]
          },
          "metadata": {},
          "execution_count": 40
        }
      ]
    },
    {
      "cell_type": "code",
      "source": [
        "from tensorflow.keras.layers import AdditiveAttention\n",
        "\n",
        "# 어텐션 층(어텐션 함수)\n",
        "attn_layer = AdditiveAttention(name='attention_layer')\n",
        "\n",
        "# 인코더와 디코더의 모든 time step의 hidden state를 어텐션 층에 전달하고 결과를 리턴\n",
        "attn_out = attn_layer([decoder_outputs, encoder_outputs])\n",
        "\n",
        "\n",
        "# 어텐션의 결과와 디코더의 hidden state들을 연결\n",
        "decoder_concat_input = Concatenate(axis=-1, name='concat_layer')([decoder_outputs, attn_out])\n",
        "\n",
        "# 디코더의 출력층\n",
        "decoder_softmax_layer = Dense(tar_vocab, activation='softmax')\n",
        "decoder_softmax_outputs = decoder_softmax_layer(decoder_concat_input)\n",
        "\n",
        "# 모델 정의\n",
        "model = Model([encoder_inputs, decoder_inputs], decoder_softmax_outputs)\n",
        "model.summary()\n",
        "\n",
        "plot_model(model, show_shapes=True)"
      ],
      "metadata": {
        "colab": {
          "base_uri": "https://localhost:8080/",
          "height": 1000
        },
        "id": "6ZEl5qXhOLki",
        "outputId": "1a1c512e-e202-4061-f0b9-659ef5c0efc9"
      },
      "execution_count": 41,
      "outputs": [
        {
          "output_type": "stream",
          "name": "stdout",
          "text": [
            "Model: \"model_1\"\n",
            "__________________________________________________________________________________________________\n",
            " Layer (type)                   Output Shape         Param #     Connected to                     \n",
            "==================================================================================================\n",
            " input_1 (InputLayer)           [(None, 40)]         0           []                               \n",
            "                                                                                                  \n",
            " embedding (Embedding)          (None, 40, 128)      1280000     ['input_1[0][0]']                \n",
            "                                                                                                  \n",
            " lstm (LSTM)                    [(None, 40, 256),    394240      ['embedding[0][0]']              \n",
            "                                 (None, 256),                                                     \n",
            "                                 (None, 256)]                                                     \n",
            "                                                                                                  \n",
            " input_2 (InputLayer)           [(None, None)]       0           []                               \n",
            "                                                                                                  \n",
            " lstm_1 (LSTM)                  [(None, 40, 256),    525312      ['lstm[0][0]']                   \n",
            "                                 (None, 256),                                                     \n",
            "                                 (None, 256)]                                                     \n",
            "                                                                                                  \n",
            " embedding_1 (Embedding)        (None, None, 128)    1280000     ['input_2[0][0]']                \n",
            "                                                                                                  \n",
            " lstm_2 (LSTM)                  [(None, 40, 256),    525312      ['lstm_1[0][0]']                 \n",
            "                                 (None, 256),                                                     \n",
            "                                 (None, 256)]                                                     \n",
            "                                                                                                  \n",
            " lstm_3 (LSTM)                  [(None, None, 256),  394240      ['embedding_1[0][0]',            \n",
            "                                 (None, 256),                     'lstm_2[0][1]',                 \n",
            "                                 (None, 256)]                     'lstm_2[0][2]']                 \n",
            "                                                                                                  \n",
            " attention_layer (AdditiveAtten  (None, None, 256)   256         ['lstm_3[0][0]',                 \n",
            " tion)                                                            'lstm_2[0][0]']                 \n",
            "                                                                                                  \n",
            " concat_layer (Concatenate)     (None, None, 512)    0           ['lstm_3[0][0]',                 \n",
            "                                                                  'attention_layer[0][0]']        \n",
            "                                                                                                  \n",
            " dense_1 (Dense)                (None, None, 10000)  5130000     ['concat_layer[0][0]']           \n",
            "                                                                                                  \n",
            "==================================================================================================\n",
            "Total params: 9,529,360\n",
            "Trainable params: 9,529,360\n",
            "Non-trainable params: 0\n",
            "__________________________________________________________________________________________________\n"
          ]
        },
        {
          "output_type": "execute_result",
          "data": {
            "image/png": "[encoded data removed]",
            "text/plain": [
              "<IPython.core.display.Image object>"
            ]
          },
          "metadata": {},
          "execution_count": 41
        }
      ]
    },
    {
      "cell_type": "markdown",
      "source": [
        "3-2 모델 훈련하기"
      ],
      "metadata": {
        "id": "fj63CjEhOPer"
      }
    },
    {
      "cell_type": "code",
      "source": [
        "model.compile(optimizer='rmsprop', loss='sparse_categorical_crossentropy')\n",
        "es = EarlyStopping(monitor='val_loss', patience=2, verbose=1)\n",
        "history = model.fit(x=[encoder_input_train, decoder_input_train], y=decoder_target_train, \\\n",
        "          validation_data=([encoder_input_test, decoder_input_test], decoder_target_test), \\\n",
        "          batch_size=64, callbacks=[es], epochs=50)"
      ],
      "metadata": {
        "colab": {
          "base_uri": "https://localhost:8080/"
        },
        "id": "5hHQXdxXOQDc",
        "outputId": "fa08dedf-c6e5-4b97-99ad-a729108d0234"
      },
      "execution_count": 42,
      "outputs": [
        {
          "output_type": "stream",
          "name": "stdout",
          "text": [
            "Epoch 1/50\n",
            "927/927 [==============================] - 43s 32ms/step - loss: 6.1288 - val_loss: 5.6897\n",
            "Epoch 2/50\n",
            "927/927 [==============================] - 31s 33ms/step - loss: 5.5795 - val_loss: 5.3801\n",
            "Epoch 3/50\n",
            "927/927 [==============================] - 29s 31ms/step - loss: 5.2964 - val_loss: 5.1626\n",
            "Epoch 4/50\n",
            "927/927 [==============================] - 29s 31ms/step - loss: 5.0793 - val_loss: 5.0087\n",
            "Epoch 5/50\n",
            "927/927 [==============================] - 30s 32ms/step - loss: 4.9080 - val_loss: 4.8904\n",
            "Epoch 6/50\n",
            "927/927 [==============================] - 29s 31ms/step - loss: 4.7589 - val_loss: 4.7886\n",
            "Epoch 7/50\n",
            "927/927 [==============================] - 29s 32ms/step - loss: 4.6427 - val_loss: 4.7272\n",
            "Epoch 8/50\n",
            "927/927 [==============================] - 30s 32ms/step - loss: 4.5473 - val_loss: 4.6606\n",
            "Epoch 9/50\n",
            "927/927 [==============================] - 29s 31ms/step - loss: 4.4570 - val_loss: 4.6243\n",
            "Epoch 10/50\n",
            "927/927 [==============================] - 29s 32ms/step - loss: 4.3921 - val_loss: 4.6045\n",
            "Epoch 11/50\n",
            "927/927 [==============================] - 29s 32ms/step - loss: 4.3298 - val_loss: 4.5704\n",
            "Epoch 12/50\n",
            "927/927 [==============================] - 29s 32ms/step - loss: 4.2617 - val_loss: 4.5450\n",
            "Epoch 13/50\n",
            "927/927 [==============================] - 30s 32ms/step - loss: 4.2034 - val_loss: 4.5298\n",
            "Epoch 14/50\n",
            "927/927 [==============================] - 29s 32ms/step - loss: 4.1511 - val_loss: 4.5236\n",
            "Epoch 15/50\n",
            "927/927 [==============================] - 29s 32ms/step - loss: 4.1084 - val_loss: 4.5102\n",
            "Epoch 16/50\n",
            "927/927 [==============================] - 29s 32ms/step - loss: 4.0687 - val_loss: 4.5021\n",
            "Epoch 17/50\n",
            "927/927 [==============================] - 29s 31ms/step - loss: 4.0307 - val_loss: 4.4935\n",
            "Epoch 18/50\n",
            "927/927 [==============================] - 30s 32ms/step - loss: 3.9896 - val_loss: 4.4851\n",
            "Epoch 19/50\n",
            "927/927 [==============================] - 29s 32ms/step - loss: 3.9563 - val_loss: 4.4878\n",
            "Epoch 20/50\n",
            "927/927 [==============================] - 29s 32ms/step - loss: 3.9255 - val_loss: 4.4780\n",
            "Epoch 21/50\n",
            "927/927 [==============================] - 29s 31ms/step - loss: 3.9035 - val_loss: 4.4773\n",
            "Epoch 22/50\n",
            "927/927 [==============================] - 29s 32ms/step - loss: 3.8837 - val_loss: 4.4809\n",
            "Epoch 23/50\n",
            "927/927 [==============================] - 29s 31ms/step - loss: 3.8705 - val_loss: 4.4944\n",
            "Epoch 23: early stopping\n"
          ]
        }
      ]
    },
    {
      "cell_type": "code",
      "source": [
        "plt.plot(history.history['loss'], label='train')\n",
        "plt.plot(history.history['val_loss'], label='test')\n",
        "plt.legend()\n",
        "plt.show()"
      ],
      "metadata": {
        "colab": {
          "base_uri": "https://localhost:8080/",
          "height": 265
        },
        "id": "-UqZIzKbOTkH",
        "outputId": "77d5e2eb-30ba-47c6-87a9-0963fea19598"
      },
      "execution_count": 43,
      "outputs": [
        {
          "output_type": "display_data",
          "data": {
            "text/plain": [
              "<Figure size 432x288 with 1 Axes>"
            ],
            "image/png": "[encoded data removed]"
          },
          "metadata": {
            "needs_background": "light"
          }
        }
      ]
    },
    {
      "cell_type": "code",
      "source": [
        "# model을 새로 생성후..optimizer adam사용.\n",
        "model.compile(optimizer='adam', loss='sparse_categorical_crossentropy')\n",
        "es = EarlyStopping(monitor='val_loss', patience=2, verbose=1)\n",
        "history = model.fit(x=[encoder_input_train, decoder_input_train], y=decoder_target_train, \\\n",
        "          validation_data=([encoder_input_test, decoder_input_test], decoder_target_test), \\\n",
        "          batch_size=64, callbacks=[es], epochs=50)"
      ],
      "metadata": {
        "colab": {
          "base_uri": "https://localhost:8080/"
        },
        "id": "XsUcosopaSbg",
        "outputId": "89bede1d-b9b3-428c-ad45-ce5803085f5a"
      },
      "execution_count": 42,
      "outputs": [
        {
          "output_type": "stream",
          "name": "stdout",
          "text": [
            "Epoch 1/50\n",
            "927/927 [==============================] - 43s 31ms/step - loss: 6.1535 - val_loss: 5.5588\n",
            "Epoch 2/50\n",
            "927/927 [==============================] - 28s 30ms/step - loss: 5.2320 - val_loss: 4.8966\n",
            "Epoch 3/50\n",
            "927/927 [==============================] - 29s 31ms/step - loss: 4.6367 - val_loss: 4.5524\n",
            "Epoch 4/50\n",
            "927/927 [==============================] - 30s 32ms/step - loss: 4.2062 - val_loss: 4.3454\n",
            "Epoch 5/50\n",
            "927/927 [==============================] - 29s 31ms/step - loss: 3.8657 - val_loss: 4.2300\n",
            "Epoch 6/50\n",
            "927/927 [==============================] - 29s 31ms/step - loss: 3.5884 - val_loss: 4.1563\n",
            "Epoch 7/50\n",
            "927/927 [==============================] - 29s 31ms/step - loss: 3.3546 - val_loss: 4.1256\n",
            "Epoch 8/50\n",
            "927/927 [==============================] - 29s 31ms/step - loss: 3.1514 - val_loss: 4.1122\n",
            "Epoch 9/50\n",
            "927/927 [==============================] - 29s 32ms/step - loss: 2.9770 - val_loss: 4.1149\n",
            "Epoch 10/50\n",
            "927/927 [==============================] - 29s 31ms/step - loss: 2.8233 - val_loss: 4.1273\n",
            "Epoch 10: early stopping\n"
          ]
        }
      ]
    },
    {
      "cell_type": "code",
      "source": [
        "# optimizer adam사용.\n",
        "plt.plot(history.history['loss'], label='train')\n",
        "plt.plot(history.history['val_loss'], label='test')\n",
        "plt.legend()\n",
        "plt.show()"
      ],
      "metadata": {
        "colab": {
          "base_uri": "https://localhost:8080/",
          "height": 265
        },
        "id": "LGuSraT1er3m",
        "outputId": "7c64431c-0e9d-4ff3-91a3-432c56ffff95"
      },
      "execution_count": 43,
      "outputs": [
        {
          "output_type": "display_data",
          "data": {
            "text/plain": [
              "<Figure size 432x288 with 1 Axes>"
            ],
            "image/png": "[encoded data removed]"
          },
          "metadata": {
            "needs_background": "light"
          }
        }
      ]
    },
    {
      "cell_type": "code",
      "source": [
        "src_index_to_word = src_tokenizer.index_word # 원문 단어 집합에서 정수 -> 단어를 얻음\n",
        "tar_word_to_index = tar_tokenizer.word_index # 요약 단어 집합에서 단어 -> 정수를 얻음\n",
        "tar_index_to_word = tar_tokenizer.index_word # 요약 단어 집합에서 정수 -> 단어를 얻음"
      ],
      "metadata": {
        "id": "bl_ZdAKBOU1I"
      },
      "execution_count": 44,
      "outputs": []
    },
    {
      "cell_type": "code",
      "source": [
        "# 인코더 설계\n",
        "encoder_model = Model(inputs=encoder_inputs, outputs=[encoder_outputs, state_h, state_c])\n",
        "\n",
        "# 이전 시점의 상태들을 저장하는 텐서\n",
        "decoder_state_input_h = Input(shape=(hidden_size,))\n",
        "decoder_state_input_c = Input(shape=(hidden_size,))\n",
        "\n",
        "dec_emb2 = dec_emb_layer(decoder_inputs)\n",
        "\n",
        "# 문장의 다음 단어를 예측하기 위해서 초기 상태(initial_state)를 이전 시점의 상태로 사용. 이는 뒤의 함수 decode_sequence()에 구현\n",
        "# 훈련 과정에서와 달리 LSTM의 리턴하는 은닉 상태와 셀 상태인 state_h와 state_c를 버리지 않음.\n",
        "decoder_outputs2, state_h2, state_c2 = decoder_lstm(dec_emb2, initial_state=[decoder_state_input_h, decoder_state_input_c])\n"
      ],
      "metadata": {
        "id": "AHLMTJohOWE8"
      },
      "execution_count": 45,
      "outputs": []
    },
    {
      "cell_type": "code",
      "source": [
        "# 어텐션 함수\n",
        "decoder_hidden_state_input = Input(shape=(text_max_len, hidden_size))\n",
        "attn_out_inf = attn_layer([decoder_outputs2, decoder_hidden_state_input])\n",
        "decoder_inf_concat = Concatenate(axis=-1, name='concat')([decoder_outputs2, attn_out_inf])\n",
        "\n",
        "# 디코더의 출력층\n",
        "decoder_outputs2 = decoder_softmax_layer(decoder_inf_concat) \n",
        "\n",
        "# 최종 디코더 모델\n",
        "decoder_model = Model(\n",
        "    [decoder_inputs] + [decoder_hidden_state_input,decoder_state_input_h, decoder_state_input_c],\n",
        "    [decoder_outputs2] + [state_h2, state_c2])\n",
        "\n",
        "plot_model(decoder_model, show_shapes=True)\n"
      ],
      "metadata": {
        "colab": {
          "base_uri": "https://localhost:8080/",
          "height": 644
        },
        "id": "IwvtwmKJOXfF",
        "outputId": "ca0af539-65ad-486c-c5b3-c8872d4553dd"
      },
      "execution_count": 46,
      "outputs": [
        {
          "output_type": "execute_result",
          "data": {
            "image/png": "[encoded data removed]",
            "text/plain": [
              "<IPython.core.display.Image object>"
            ]
          },
          "metadata": {},
          "execution_count": 46
        }
      ]
    },
    {
      "cell_type": "code",
      "source": [
        "def decode_sequence(input_seq):\n",
        "    # 입력으로부터 인코더의 상태를 얻음\n",
        "    e_out, e_h, e_c = encoder_model.predict(input_seq)\n",
        "\n",
        "     # <SOS>에 해당하는 토큰 생성\n",
        "    target_seq = np.zeros((1,1))\n",
        "    target_seq[0, 0] = tar_word_to_index['sostoken']\n",
        "\n",
        "    stop_condition = False\n",
        "    decoded_sentence = ''\n",
        "    while not stop_condition: # stop_condition이 True가 될 때까지 루프 반복\n",
        "\n",
        "        output_tokens, h, c = decoder_model.predict([target_seq] + [e_out, e_h, e_c], verbose=0)\n",
        "        sampled_token_index = np.argmax(output_tokens[0, -1, :])\n",
        "        sampled_token = tar_index_to_word[sampled_token_index]\n",
        "\n",
        "        if (sampled_token!='eostoken'):\n",
        "            decoded_sentence += ' '+sampled_token\n",
        "\n",
        "        #  <eos>에 도달하거나 최대 길이를 넘으면 중단.\n",
        "        if (sampled_token == 'eostoken' or len(decoded_sentence.split()) >= (summary_max_len-1)):\n",
        "            stop_condition = True\n",
        "\n",
        "        # 길이가 1인 타겟 시퀀스를 업데이트\n",
        "        target_seq = np.zeros((1,1))\n",
        "        target_seq[0, 0] = sampled_token_index\n",
        "\n",
        "        # 상태를 업데이트 합니다.\n",
        "        e_h, e_c = h, c\n",
        "\n",
        "    return decoded_sentence\n"
      ],
      "metadata": {
        "id": "TMGXsHf5OZOe"
      },
      "execution_count": 48,
      "outputs": []
    },
    {
      "cell_type": "markdown",
      "source": [
        "##### Step 4. 실제 결과와 요약문 비교하기 (추상적 요약)"
      ],
      "metadata": {
        "id": "ygkxnxLFOcls"
      }
    },
    {
      "cell_type": "code",
      "source": [
        "# 원문의 정수 시퀀스를 텍스트 시퀀스로 변환\n",
        "def seq2text(input_seq):\n",
        "    temp=''\n",
        "    for i in input_seq:\n",
        "        if (i!=0):\n",
        "            temp = temp + src_index_to_word[i]+' '\n",
        "    return temp\n",
        "\n",
        "# 요약문의 정수 시퀀스를 텍스트 시퀀스로 변환\n",
        "def seq2summary(input_seq):\n",
        "    temp=''\n",
        "    for i in input_seq:\n",
        "        if ((i!=0 and i!=tar_word_to_index['sostoken']) and i!=tar_word_to_index['eostoken']):\n",
        "            temp = temp + tar_index_to_word[i] + ' '\n",
        "    return temp\n",
        "\n"
      ],
      "metadata": {
        "id": "HRFM3o3EOdUQ"
      },
      "execution_count": 49,
      "outputs": []
    },
    {
      "cell_type": "code",
      "source": [
        "for i in range(0, 30):\n",
        "    print(\"원문 :\", seq2text(encoder_input_test[i]))\n",
        "    print(\"실제 요약 :\", seq2summary(decoder_input_test[i]))\n",
        "    print(\"예측 요약 :\", decode_sequence(encoder_input_test[i].reshape(1, text_max_len)))\n",
        "    print(\"\\n\")"
      ],
      "metadata": {
        "colab": {
          "base_uri": "https://localhost:8080/"
        },
        "id": "jTnTcYYMOfzA",
        "outputId": "be63351d-0f20-4ddb-b37e-2d20652f9a7b"
      },
      "execution_count": 50,
      "outputs": [
        {
          "output_type": "stream",
          "name": "stdout",
          "text": [
            "원문 : jack led chinese commerce giant alibaba market capitalisation fell billion investments brick assets digital media profit december quarter alibaba shares plunged much decline months also came alibaba announced take equity stake ant financial payments affiliate \n",
            "실제 요약 : alibaba market value falls by bn after decline \n",
            "1/1 [==============================] - 1s 1s/step\n",
            "예측 요약 :  alibaba becomes world most valuable company in\n",
            "\n",
            "\n",
            "원문 : australia based scientists found early earth likely almost entirely water following analysis billion year old scientists said earth quiet place absence first million years first life forms emerged \n",
            "실제 요약 : earth was underwater billion years ago study \n",
            "1/1 [==============================] - 0s 20ms/step\n",
            "예측 요약 :  new zealand scientists discover new solar system\n",
            "\n",
            "\n",
            "원문 : least two rockets fired gaza strip thursday towards israeli territory failed reach targets israeli army said army responded attacking two posts palestinian militant group hamas gaza strip comes amid ongoing protests us decision recognising jerusalem israel capital \n",
            "실제 요약 : rockets fired at israel after trump decision israeli army \n",
            "1/1 [==============================] - 0s 20ms/step\n",
            "예측 요약 :  israel to deploy rockets in gaza over gaza\n",
            "\n",
            "\n",
            "원문 : earliest ancestors size small dog three front legs four back harvard researchers shown increasing body weight prompted middle become stronger resist forces effect combined side led existing single animals \n",
            "실제 요약 : how horses became the only living animals with single \n",
            "1/1 [==============================] - 0s 19ms/step\n",
            "예측 요약 :  insect born in the oldest grave\n",
            "\n",
            "\n",
            "원문 : expressing concern alleged human rights violations kashmir pakistan pm shahid abbasi monday said people around world must raise voice indian state urging un play role right self determination abbasi said country continue supporting people kashmir \n",
            "실제 요약 : people must raise voice against india in pak \n",
            "1/1 [==============================] - 0s 26ms/step\n",
            "예측 요약 :  india must be allowed to be pakistan pm\n",
            "\n",
            "\n",
            "원문 : sharma recently appointed government representative initiate talks stakeholders jammu kashmir batch indian police service officer kerala cadre served director intelligence bureau earlier june year sharma appointed government representative talks groups assam \n",
            "실제 요약 : who is sharma govt for talks \n",
            "1/1 [==============================] - 0s 18ms/step\n",
            "예측 요약 :  interlocutor appointed as security secretary\n",
            "\n",
            "\n",
            "원문 : year old kabaddi coach sports authority india allegedly committed suicide hotel room accused molesting year old girl training centre bengaluru suspended october thrashed girl parents left suicide note read hurt reason forgive \n",
            "실제 요약 : kabaddi coach accused of molesting yr old girl commits suicide \n",
            "1/1 [==============================] - 0s 18ms/step\n",
            "예측 요약 :  sri lankan coach commits suicide after gangrape\n",
            "\n",
            "\n",
            "원문 : court kerala granted bail bjp leader others arrested allegedly orders near sabarimala temple court set bail conditions barring entering limit sabarimala temple located two months also turned request offer prayers lord ayyappa shrine \n",
            "실제 요약 : bjp leader others arrested near sabarimala granted bail \n",
            "1/1 [==============================] - 0s 17ms/step\n",
            "예측 요약 :  bjp leader arrested for harassing ram rahim\n",
            "\n",
            "\n",
            "원문 : prime minister benjamin netanyahu said country us act israel palestine conflict palestinian president mahmoud abbas want us want peace netanyahu said comes mahmoud said us longer suitable role peace process \n",
            "실제 요약 : no substitute for us in peace process israel \n",
            "1/1 [==============================] - 0s 17ms/step\n",
            "예측 요약 :  us pm warns us over jerusalem talks with russia\n",
            "\n",
            "\n",
            "원문 : goa chief minister manohar parrikar wednesday said sunday night cyclone responsible rise levels damaged goa beach adding meant biggest effect said even without cyclone water would much higher normal high \n",
            "실제 요약 : supermoon cyclone ockhi damaged goa coast cm parrikar \n",
            "1/1 [==============================] - 0s 18ms/step\n",
            "예측 요약 :  goa cm parrikar inspection goa goa cm\n",
            "\n",
            "\n",
            "원문 : arunachal pradesh congress leader shot dead son state assembly deputy speaker west district police said monday deceased identified secretary rank leader arunachal added police arrested accused along registered case \n",
            "실제 요약 : cong leader shot dead by arunachal deputy speaker son \n",
            "1/1 [==============================] - 0s 18ms/step\n",
            "예측 요약 :  congress leader shot dead in jammu in jammu\n",
            "\n",
            "\n",
            "원문 : reacting indian women cricket captain mithali raj reading book coming bat user tweeted captain next bat reading book always crush mithali raj sitting book read another \n",
            "실제 요약 : twitter reacts to mithali reading book before coming to bat \n",
            "1/1 [==============================] - 0s 18ms/step\n",
            "예측 요약 :  mithali raj thakur thakur questions mithali on mithali\n",
            "\n",
            "\n",
            "원문 : richard replaced upcoming ipl auction said selling ms dhoni first auction still career highlight dhoni sold csk million talking replaced said great shock released bcci expecting \n",
            "실제 요약 : selling dhoni in ipl still career highlight \n",
            "1/1 [==============================] - 0s 18ms/step\n",
            "예측 요약 :  new york raises crore for crore\n",
            "\n",
            "\n",
            "원문 : pm narendra modi presented united nations highest environmental honour champions earth delhi un secretary general ant guterres wednesday pm modi recognised leadership international solar alliance pledge eliminate single use plastic india among six winners including french president emmanuel macron \n",
            "실제 요약 : pm modi receives united nations highest honour \n",
            "1/1 [==============================] - 0s 17ms/step\n",
            "예측 요약 :  pm modi meets india for world st independence day\n",
            "\n",
            "\n",
            "원문 : bjp cell chief amit criticised congress chief rahul gandhi mistakenly referred mizoram manipur post shared media report celebrating achievements girls mizoram posting screenshot post deleted wrote northeast \n",
            "실제 요약 : bjp criticises rahul after he refers to mizoram as manipur \n",
            "1/1 [==============================] - 0s 19ms/step\n",
            "예측 요약 :  rahul gandhi argue on completing yrs\n",
            "\n",
            "\n",
            "원문 : many wide balls bowled bcci women one day match nagaland manipur wednesday manipur bowled wide balls nagaland bowled manipur lost match runs gave away total including balls \n",
            "실제 요약 : bowled in women one day game \n",
            "1/1 [==============================] - 0s 17ms/step\n",
            "예측 요약 :  bowler once declared to overs in overs\n",
            "\n",
            "\n",
            "원문 : mental healthcare bill attempt suicide bans use electric shock therapy treating children mental illness passed lok sabha monday bill passed rajya sabha last year ensures mental healthcare services persons mental illness free treatment homeless poor people \n",
            "실제 요약 : bill that suicide attempt passed in lok sabha \n",
            "1/1 [==============================] - 0s 18ms/step\n",
            "예측 요약 :  children died of heart attack on nipah virus outbreak\n",
            "\n",
            "\n",
            "원문 : many working andhra pradesh temple sacked charges taking tips pilgrims heads temple authorities received complaints pilgrims many asked tips ranging service supposed done free cost \n",
            "실제 요약 : andhra temple sacks who took from pilgrims \n",
            "1/1 [==============================] - 0s 17ms/step\n",
            "예측 요약 :  andhra village expels women for women in sabarimala\n",
            "\n",
            "\n",
            "원문 : samajwadi party leader shivpal singh yadav friday declared forming political party named samajwadi secular morcha also said party chief would samajwadi party founder mulayam singh yadav give netaji due respect unite declaration new party done soon added \n",
            "실제 요약 : shivpal announces new political party with mulayam as chief \n",
            "1/1 [==============================] - 0s 21ms/step\n",
            "예측 요약 :  shivpal to sp shivpal samajwadi party shivpal\n",
            "\n",
            "\n",
            "원문 : border security force chief kk sharma wednesday said determined stop attacks always manage come response important without naming pakistan sharma said long friendly neighbour behave think expect many \n",
            "실제 요약 : are cannot stop their attacks bsf chief \n",
            "1/1 [==============================] - 0s 18ms/step\n",
            "예측 요약 :  surgical strikes are safe in india afghan army chief\n",
            "\n",
            "\n",
            "원문 : israel reportedly expressed reservations direct air india delhi israel flight flying pakistan afghanistan shortest route proposed air india hours long pakistan afghanistan avoided journey would nine hours long cost lakh extra notably plane would diverted pakistan afghanistan emergency \n",
            "실제 요약 : israel over air india flight flying over pakistan \n",
            "1/1 [==============================] - 0s 19ms/step\n",
            "예측 요약 :  israel to procure airport to procure\n",
            "\n",
            "\n",
            "원문 : west bengal monday allegedly slapped tortured two minor boys electric stolen parents children lodged fir accused police investigating incident mother accused claimed son slapped two boys \n",
            "실제 요약 : man gives minor boys electric shocks for stealing \n",
            "1/1 [==============================] - 0s 21ms/step\n",
            "예측 요약 :  wb villagers assaulted for sexually assaulting minor girl\n",
            "\n",
            "\n",
            "원문 : aishwarya rai bachchan along women felicitated saturday president ram nath kovind rashtrapati bhawan titled first ladies awards initiative ministry women child development honour women first set milestone respective fields \n",
            "실제 요약 : aishwarya honoured by president kovind at rashtrapati bhawan \n",
            "1/1 [==============================] - 0s 18ms/step\n",
            "예측 요약 :  women tie to be president kovind\n",
            "\n",
            "\n",
            "원문 : two every three mental health professionals mumbai feel lack skills tackle child sexual abuse cases study supported unicef revealed study revealed nearly three four mental health professionals handling cases owing lack training trauma focused counselling experts said \n",
            "실제 요약 : mumbai unable to molested kids study \n",
            "1/1 [==============================] - 0s 18ms/step\n",
            "예측 요약 :  hiv abuse centres allege sexual abuse awareness in mumbai\n",
            "\n",
            "\n",
            "원문 : saudi arabia year old mohammed al pleaded asylum found legitimate refugee united nations australian government said un high commissioner refugees referred case australia claims family kill upon return saudi arabia islam \n",
            "실제 요약 : saudi girl seeking asylum given refugee status by un \n",
            "1/1 [==============================] - 0s 19ms/step\n",
            "예측 요약 :  saudi arabia to help un migrant treatment\n",
            "\n",
            "\n",
            "원문 : aam aadmi party decided contest seats gujarat assembly elections party leaders confirmed wednesday far party declared seats field candidates state party also decided contest himachal pradesh polls november limited resources \n",
            "실제 요약 : aap to contest from seats in gujarat assembly elections \n",
            "1/1 [==============================] - 0s 22ms/step\n",
            "예측 요약 :  aap to contest seats in assembly elections\n",
            "\n",
            "\n",
            "원문 : nearly newspaper vendors asked authorities stop ongoing drive started people killed stampede mumbai elphinstone road railway station last month vendors also demanded status essential service providers one communication channels government people \n",
            "실제 요약 : mumbai newspaper vendors seek protection from drive \n",
            "1/1 [==============================] - 0s 17ms/step\n",
            "예측 요약 :  no proposal to train firing on mumbai stampede victims\n",
            "\n",
            "\n",
            "원문 : emotional tribute father five time tamil nadu cm karunanidhi son mk stalin wrote always called call karunanidhi wanted man worked without rest finally written grave stalin added tamil poem shared social media \n",
            "실제 요약 : my leader can call you once karunanidhi son stalin \n",
            "1/1 [==============================] - 0s 18ms/step\n",
            "예측 요약 :  late actor vinod khanna passes away at\n",
            "\n",
            "\n",
            "원문 : delhi court acquitted accused spectrum allocation scam case thursday finance minister arun jaitley said congress treating court verdict honour party zero loss theory proven wrong supreme court february cancelled licences issued telecom minister raja jaitley added \n",
            "실제 요약 : congress treating verdict as of honour fm jaitley \n",
            "1/1 [==============================] - 0s 17ms/step\n",
            "예측 요약 :  kejriwal verdict on kejriwal verdict in jaitley\n",
            "\n",
            "\n",
            "원문 : aiadmk mp lost bag containing travelling train tamil nadu police said sunday ak came know loss around saturday woke found bag missing police added parliamentarian filed complaint railway police \n",
            "실제 요약 : mp loses bag containing cash on train \n",
            "1/1 [==============================] - 0s 17ms/step\n",
            "예측 요약 :  taj mahal travels by mp collector for tamil nadu\n",
            "\n",
            "\n"
          ]
        }
      ]
    },
    {
      "cell_type": "markdown",
      "source": [
        "##### Step 5. Summa을 이용해서 추출적 요약해보기"
      ],
      "metadata": {
        "id": "6CxYdydkOlg1"
      }
    },
    {
      "cell_type": "code",
      "source": [
        "texts = data['text'].apply(lambda x: summarize(x, ratio=0.3))\n",
        "\n",
        "print(texts.head())"
      ],
      "metadata": {
        "colab": {
          "base_uri": "https://localhost:8080/"
        },
        "id": "GsnDEClwOmVe",
        "outputId": "f275e248-b948-4201-d970-7721c0e6fe6b"
      },
      "execution_count": 51,
      "outputs": [
        {
          "output_type": "stream",
          "name": "stdout",
          "text": [
            "2     \n",
            "3     \n",
            "5     \n",
            "9     \n",
            "10    \n",
            "Name: text, dtype: object\n"
          ]
        }
      ]
    },
    {
      "cell_type": "markdown",
      "source": [
        "summa를 이용하여 extraction방법으로 요약하면 결과가 생성되지 않는다.  \n",
        "ratio나 words, 환경 변수에 문장의 길이를 변화시켜봤지만 summary는 생성되지 않았다.  \n",
        "문장의 길이가 짧은경우, 단어들이 반복되지 않아 빈도수를 이용하는 추출 방법은 올바로 동작하지 않는것 같다.    \n",
        "짧은 문장은 아래와 같이 간단하게 키워드를 정리해도 도움이 될것 같다.  "
      ],
      "metadata": {
        "id": "r4XlpiqJOqMb"
      }
    },
    {
      "cell_type": "code",
      "source": [
        "from summa import keywords\n",
        "\n",
        "key_words = data['text'].apply(lambda x: keywords.keywords(x).replace('\\n', ' '))\n",
        "\n",
        "print(key_words.head())\n"
      ],
      "metadata": {
        "colab": {
          "base_uri": "https://localhost:8080/"
        },
        "id": "_QG9WNnOOrDb",
        "outputId": "7b49716c-56b3-4add-80d3-2594399c630f"
      },
      "execution_count": 55,
      "outputs": [
        {
          "output_type": "stream",
          "name": "stdout",
          "text": [
            "2                odi india match consecutive victories\n",
            "3     life benefit tax benefits insurance insure taxes\n",
            "5     allegedly allegation rahat notice reads currency\n",
            "9          seats ramgarh assembly seat candidate singh\n",
            "10           cousins gorakhpur family committee escape\n",
            "Name: text, dtype: object\n"
          ]
        }
      ]
    },
    {
      "cell_type": "code",
      "source": [
        "for i in np.random.permutation(data.index)[:10]:\n",
        "    print(\"원문 :\", data.at[i, 'text'])\n",
        "    print(\"실제 요약 :\", data['headlines'].loc[i])\n",
        "    print(\"예측 요약 :\", key_words.loc[i])\n",
        "    print(\"\\n\")"
      ],
      "metadata": {
        "colab": {
          "base_uri": "https://localhost:8080/"
        },
        "id": "13kl1CjzVouG",
        "outputId": "c6976319-a749-4ec1-dd07-57091a74c2ea"
      },
      "execution_count": 65,
      "outputs": [
        {
          "output_type": "stream",
          "name": "stdout",
          "text": [
            "원문 : defence minister nirmala sitharaman refused reveal amount spent acquiring rafale fighter jets france congress president rahul gandhi said deal scam modi ji personally went paris changed deal gandhi added earlier congress alleged nda finalised deal price higher previously negotiated\n",
            "실제 요약 : rafale deal scam pm modi changed deal in paris rahul\n",
            "예측 요약 : defence minister nirmala sitharaman refused reveal\n",
            "\n",
            "\n",
            "원문 : ryan international school class student accused killing pradyuman reportedly told child protection welfare officer cbi officials threatened kill younger brother confess crime also reportedly said investigators beaten recorded confession words\n",
            "실제 요약 : ryan accused says cbi threatened to kill brother reports\n",
            "예측 요약 : confess confession killing kill reportedly international school\n",
            "\n",
            "\n",
            "원문 : two chinese nationals arrested monday mumbai airport stole diamond worth lakh swapping fake mumbai exhibition carat diamond recovered bottle shampoo security officials interrogated chinese nationals found diamond located airport using passport information\n",
            "실제 요약 : chinese nationals held for swapping diamond with fake\n",
            "예측 요약 : diamond mumbai airport passport\n",
            "\n",
            "\n",
            "원문 : completing six months chief minister uttar pradesh yogi adityanath tuesday said rampant jungle raj eliminated state also released list misdeeds committed governments coffers empty debts high bjp government took added\n",
            "실제 요약 : jungle raj culture has been eliminated from up cm yogi\n",
            "예측 요약 : governments government rampant jungle raj eliminated\n",
            "\n",
            "\n",
            "원문 : wanted indian mujahideen terrorist ariz khan wednesday arrested special cell delhi police khan wanted involvement five bomb blast cases run since september batla house encounter national investigation agency declared reward lakh information\n",
            "실제 요약 : wanted indian mujahideen terrorist arrested by delhi police\n",
            "예측 요약 : khan wanted blast cases lakh\n",
            "\n",
            "\n",
            "원문 : kangana ranaut suffered leg injury shooting action sequence upcoming biopic rani laxmibai manikarnika queen jhansi jodhpur reportedly got injured shooting scene jump wall top horse kangana advised take week rest\n",
            "실제 요약 : kangana gets injured while shooting stunt for manikarnika\n",
            "예측 요약 : shooting kangana ranaut suffered jump\n",
            "\n",
            "\n",
            "원문 : bjp spokesperson sambit patra friday said rahul gandhi must stop acting contract killer idea india added rahul ji maturity understanding india quality possess hatred pm modi patra also slammed rahul claiming rss idea similar idea muslim brotherhood\n",
            "실제 요약 : rahul gandhi contract killer of the idea called india bjp\n",
            "예측 요약 : rahul idea india patra acting\n",
            "\n",
            "\n",
            "원문 : actor jada pinkett smith said regretted dating husband smith divorce finalised first wife sheree zampino fletcher understand marriage understand divorce probably fell back said actress revealed talking smith first wife sheree talk show\n",
            "실제 요약 : regret dating him before divorce smith wife to his ex\n",
            "예측 요약 : smith divorce understand sheree\n",
            "\n",
            "\n",
            "원문 : spacex tesla ceo elon musk friday revealed underground tunnels dug new startup boring company work tunnels meant help vehicles avoid traffic roads video shows car stopping elevator shaft entrance road descends network tunnels\n",
            "실제 요약 : musk shows how his startup underground tunnels will work\n",
            "예측 요약 : tunnels roads road tesla ceo elon musk\n",
            "\n",
            "\n",
            "원문 : hungary extended state emergency imposed country last year six months due migrant crisis government officials said strict border controls still needed threat terrorism europe increased recently notably hungary criticised alleged violent treatment migrants\n",
            "실제 요약 : hungary extends emergency by months due to migrant crisis\n",
            "예측 요약 : hungary threat imposed strict border\n",
            "\n",
            "\n"
          ]
        }
      ]
    },
    {
      "cell_type": "markdown",
      "source": [
        "##### Step 6. 회고  \n",
        "\n",
        " - 문장 요약을 테스트 해보았는데, 추상적 요약이 추출적 요약보다 월등히 뛰어났다. 더 개선될 여지도 많기 때문에 데이터만 충분하다면 추상적 요약을 사용해야 될것 같다.  \n",
        " - 추출적 요약은 문장이 짧은 경우, 해당 문장에서만 추출이 이루어져 올바로 동작하지 않았다.  \n",
        " - 옵티마이저 'adam'을 사용하여 더 빨리 수렴하고, 로스도 적은것을 확인할 수 있었다.  \n",
        " - plot_model을 통하여 attention레이어의 위치와 역할을 볼 수 있었는데, 자세한 동작에 대한 이해는 더 학습이 필요하다.  \n"
      ],
      "metadata": {
        "id": "Ed3R7h66Ou5f"
      }
    }
  ]
}