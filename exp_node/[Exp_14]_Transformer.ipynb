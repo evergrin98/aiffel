{
 "cells": [
  {
   "cell_type": "markdown",
   "metadata": {},
   "source": [
    "### [EXP_14] 한국어 데이터로 챗봇 만들기"
   ]
  },
  {
   "cell_type": "markdown",
   "metadata": {},
   "source": [
    "##### 0. 라이브러리 로드"
   ]
  },
  {
   "cell_type": "code",
   "execution_count": 1,
   "metadata": {},
   "outputs": [
    {
     "name": "stdout",
     "output_type": "stream",
     "text": [
      "2.6.0\n"
     ]
    }
   ],
   "source": [
    "import tensorflow as tf\n",
    "import tensorflow_datasets as tfds\n",
    "import os\n",
    "import re\n",
    "import numpy as np\n",
    "import matplotlib.pyplot as plt\n",
    "\n",
    "print(tf.__version__)"
   ]
  },
  {
   "cell_type": "markdown",
   "metadata": {},
   "source": [
    "##### Step 1. 데이터 수집하기"
   ]
  },
  {
   "cell_type": "code",
   "execution_count": 2,
   "metadata": {},
   "outputs": [
    {
     "name": "stdout",
     "output_type": "stream",
     "text": [
      "/aiffel/aiffel/transformer_chatbot/data/ChatbotData.csv\n"
     ]
    }
   ],
   "source": [
    "path_to_zip = '/home/evergrin/python/notebook/data/transformer/'\n",
    "path_to_zip = '/aiffel/aiffel/transformer_chatbot/data/'\n",
    "path_to_dataset = os.path.join(path_to_zip, 'ChatbotData.csv')\n",
    "\n",
    "print(path_to_dataset)"
   ]
  },
  {
   "cell_type": "code",
   "execution_count": 87,
   "metadata": {},
   "outputs": [
    {
     "name": "stdout",
     "output_type": "stream",
     "text": [
      "['Q,A,label\\n', '12시 땡!,하루가 또 가네요.,0\\n', '1지망 학교 떨어졌어,위로해 드립니다.,0\\n']\n"
     ]
    }
   ],
   "source": [
    "with open(path_to_dataset, 'r') as file:\n",
    "    lines = file.readlines()\n",
    "\n",
    "print(lines[:3])"
   ]
  },
  {
   "cell_type": "markdown",
   "metadata": {},
   "source": [
    "첫줄은 컬럼 이름으로, Q, A, label로 구분하고,  \n",
    "데이터 값도 질문, 답, 라벨로 추정되는 (0-2)값으로 ','로 구분되어 있습니다.  \n",
    "\"xxxx\" 안에 여러개의 ','가 있는 경우도 있습니다.  "
   ]
  },
  {
   "cell_type": "code",
   "execution_count": 88,
   "metadata": {},
   "outputs": [
    {
     "name": "stdout",
     "output_type": "stream",
     "text": [
      "['12시 땡!,하루가 또 가네요.,0\\n', '1지망 학교 떨어졌어,위로해 드립니다.,0\\n', '3박4일 놀러가고 싶다,여행은 언제나 좋죠.,0\\n']\n"
     ]
    }
   ],
   "source": [
    "lines = lines[1:]\n",
    "print(lines[:3])"
   ]
  },
  {
   "cell_type": "code",
   "execution_count": 89,
   "metadata": {},
   "outputs": [
    {
     "name": "stdout",
     "output_type": "stream",
     "text": [
      "11823\n"
     ]
    }
   ],
   "source": [
    "# 사용할 샘플의 최대 개수\n",
    "MAX_SAMPLES = len(lines)\n",
    "print(MAX_SAMPLES)"
   ]
  },
  {
   "cell_type": "markdown",
   "metadata": {},
   "source": [
    "##### Step 2. 데이터 전처리하기"
   ]
  },
  {
   "cell_type": "code",
   "execution_count": 90,
   "metadata": {},
   "outputs": [],
   "source": [
    "from konlpy.tag import Mecab\n",
    "\n",
    "mecab = Mecab()\n",
    "stopwords = ['의','가','이','은','들','는','좀','잘','걍','과','도','를','으로','자','에','와','한','하다']\n",
    "words_set = list()\n"
   ]
  },
  {
   "cell_type": "code",
   "execution_count": 91,
   "metadata": {},
   "outputs": [],
   "source": [
    "# 전처리 함수\n",
    "def preprocess_sentence(sentence):\n",
    "    sentence = sentence.lower().strip()\n",
    "    sentence = sentence.replace('\\n', '')   # 개행문자 제거.\n",
    "    sentence = re.sub(pattern=r\"(\\\".*\\\")\",  # 따옴표 안에 ',' 를 제거함.\n",
    "                    repl=lambda x: str(x.group()).replace(',',''), \n",
    "                    string=sentence)\n",
    "    sentence = re.sub(r\"([?.!,])\", r\" \\1 \", sentence) # 단어와 구두점(punctuation) 사이의 거리를 만듭니다.\n",
    "    sentence = re.sub(r'[\" \"]+', \" \", sentence)\n",
    "\n",
    "#     sentence = mecab.morphs(sentence) # 토큰화\n",
    "#     sentence = [word for word in sentence if not word in stopwords] # 불용어 제거\n",
    "#     words_set = words_set.extend(sentence)\n",
    "#     sentence = \" \".join(sentence)\n",
    "    return sentence"
   ]
  },
  {
   "cell_type": "code",
   "execution_count": 92,
   "metadata": {},
   "outputs": [],
   "source": [
    "# 질문과 답변의 쌍인 데이터셋을 구성하기 위한 데이터 로드 함수\n",
    "# label은 사용하지 않음.\n",
    "\n",
    "def load_conversations():\n",
    "    inputs, outputs, labels = [], [], []\n",
    "    with open(path_to_dataset, 'r') as file:\n",
    "        lines = file.readlines()\n",
    "\n",
    "    for line in lines[1:]:\n",
    "        line2 = preprocess_sentence(line)\n",
    "        parts = line2.split(',')\n",
    "        \n",
    "        # 전처리 함수를 질문에 해당되는 inputs와 답변에 해당되는 outputs에 적용.\n",
    "        inputs.append(parts[0])\n",
    "        outputs.append(parts[1])\n",
    "        labels.append(int(parts[2]))\n",
    "\n",
    "        if len(inputs) >= MAX_SAMPLES:\n",
    "          return inputs, outputs\n",
    "    return inputs, outputs"
   ]
  },
  {
   "cell_type": "code",
   "execution_count": 93,
   "metadata": {},
   "outputs": [
    {
     "name": "stdout",
     "output_type": "stream",
     "text": [
      "전체 질문 샘플 수 : 11823\n",
      "전체 대답 샘플 수 : 11823\n"
     ]
    }
   ],
   "source": [
    "# 데이터를 로드하고 전처리하여 질문을 questions, 답변을 answers에 저장합니다.\n",
    "questions, answers = load_conversations()\n",
    "print('전체 질문 샘플 수 :', len(questions))\n",
    "print('전체 대답 샘플 수 :', len(answers))\n",
    "# print('전체 단어 샘플 수 :', len(words_set))\n"
   ]
  },
  {
   "cell_type": "code",
   "execution_count": 92,
   "metadata": {},
   "outputs": [],
   "source": [
    "# 전처리된 내용을 csv파일로 저장\n",
    "path_to_dataset_w = os.path.join(path_to_zip, 'ChatbotData2.csv')\n",
    "lines = []\n",
    "with open(path_to_dataset_w, 'w') as file:\n",
    "    for i, _ in enumerate(range(len(questions))):\n",
    "        line = f\"{questions[i]}, {answers[i]}, {str(labels[i])}\\n\"\n",
    "        lines.append(line)\n",
    "    file.writelines(lines)"
   ]
  },
  {
   "cell_type": "code",
   "execution_count": 94,
   "metadata": {},
   "outputs": [
    {
     "name": "stdout",
     "output_type": "stream",
     "text": [
      "전처리 후의 22번째 질문 샘플: 가스비 장난 아님 \n",
      "전처리 후의 22번째 답변 샘플:  다음 달에는 더 절약해봐요 . \n"
     ]
    }
   ],
   "source": [
    "print('전처리 후의 22번째 질문 샘플: {}'.format(questions[21]))\n",
    "print('전처리 후의 22번째 답변 샘플: {}'.format(answers[21]))"
   ]
  },
  {
   "cell_type": "markdown",
   "metadata": {},
   "source": [
    "##### Step 3. SubwordTextEncoder사용하기"
   ]
  },
  {
   "cell_type": "code",
   "execution_count": 95,
   "metadata": {},
   "outputs": [],
   "source": [
    "import tensorflow_datasets as tfds\n",
    "\n",
    "# 질문과 답변 데이터셋에 대해서 Vocabulary 생성\n",
    "tokenizer = tfds.deprecated.text.SubwordTextEncoder.build_from_corpus(questions + answers, target_vocab_size=2**13)\n"
   ]
  },
  {
   "cell_type": "code",
   "execution_count": 96,
   "metadata": {},
   "outputs": [],
   "source": [
    "# 시작 토큰과 종료 토큰에 고유한 정수를 부여합니다.\n",
    "START_TOKEN, END_TOKEN = [tokenizer.vocab_size], [tokenizer.vocab_size + 1]\n"
   ]
  },
  {
   "cell_type": "code",
   "execution_count": 97,
   "metadata": {},
   "outputs": [
    {
     "name": "stdout",
     "output_type": "stream",
     "text": [
      "START_TOKEN의 번호 : [8369]\n",
      "END_TOKEN의 번호 : [8370]\n"
     ]
    }
   ],
   "source": [
    "print('START_TOKEN의 번호 :' ,[tokenizer.vocab_size])\n",
    "print('END_TOKEN의 번호 :' ,[tokenizer.vocab_size + 1])"
   ]
  },
  {
   "cell_type": "code",
   "execution_count": 98,
   "metadata": {},
   "outputs": [
    {
     "name": "stdout",
     "output_type": "stream",
     "text": [
      "8371\n"
     ]
    }
   ],
   "source": [
    "# 시작 토큰과 종료 토큰을 고려하여 +2를 하여 단어장의 크기를 산정합니다.\n",
    "VOCAB_SIZE = tokenizer.vocab_size + 2\n",
    "print(VOCAB_SIZE)"
   ]
  },
  {
   "cell_type": "code",
   "execution_count": 99,
   "metadata": {},
   "outputs": [
    {
     "name": "stdout",
     "output_type": "stream",
     "text": [
      "정수 인코딩 후의 21번째 질문 샘플: [5866, 600, 2483, 4215, 8145]\n",
      "정수 인코딩 후의 21번째 답변 샘플: [8145, 2351, 7684, 7, 6383, 95, 1]\n"
     ]
    }
   ],
   "source": [
    "# 임의의 22번째 샘플에 대해서 정수 인코딩 작업을 수행.\n",
    "# 각 토큰을 고유한 정수로 변환\n",
    "print('정수 인코딩 후의 21번째 질문 샘플: {}'.format(tokenizer.encode(questions[21])))\n",
    "print('정수 인코딩 후의 21번째 답변 샘플: {}'.format(tokenizer.encode(answers[21])))"
   ]
  },
  {
   "cell_type": "code",
   "execution_count": 100,
   "metadata": {},
   "outputs": [],
   "source": [
    "ses = questions + answers\n",
    "\n",
    "word_counts = [ len(line.split()) for line in ses ]\n",
    "    "
   ]
  },
  {
   "cell_type": "code",
   "execution_count": 101,
   "metadata": {},
   "outputs": [
    {
     "name": "stdout",
     "output_type": "stream",
     "text": [
      "24\n"
     ]
    }
   ],
   "source": [
    "print(max(word_counts))"
   ]
  },
  {
   "cell_type": "code",
   "execution_count": 103,
   "metadata": {},
   "outputs": [
    {
     "data": {
      "text/plain": [
       "[' . ', '하_', '을_', '세요', '고_', '좋_', '거_', '있_', '어_', '보_']"
      ]
     },
     "execution_count": 103,
     "metadata": {},
     "output_type": "execute_result"
    }
   ],
   "source": [
    "dir(tokenizer)\n",
    "# len(tokenizer.subwords)\n",
    "tokenizer.subwords[:10]\n",
    "# tokenizer.vocab_size"
   ]
  },
  {
   "cell_type": "code",
   "execution_count": 102,
   "metadata": {},
   "outputs": [
    {
     "name": "stdout",
     "output_type": "stream",
     "text": [
      "50\n"
     ]
    }
   ],
   "source": [
    "# 샘플의 최대 허용 길이 또는 패딩 후의 최종 길이\n",
    "MAX_LENGTH = 50\n",
    "print(MAX_LENGTH)"
   ]
  },
  {
   "cell_type": "code",
   "execution_count": 103,
   "metadata": {},
   "outputs": [],
   "source": [
    "# 정수 인코딩, 최대 길이를 초과하는 샘플 제거, 패딩\n",
    "def tokenize_and_filter(inputs, outputs):\n",
    "  tokenized_inputs, tokenized_outputs = [], []\n",
    "  \n",
    "  for (sentence1, sentence2) in zip(inputs, outputs):\n",
    "    # 정수 인코딩 과정에서 시작 토큰과 종료 토큰을 추가\n",
    "    sentence1 = START_TOKEN + tokenizer.encode(sentence1) + END_TOKEN\n",
    "    sentence2 = START_TOKEN + tokenizer.encode(sentence2) + END_TOKEN\n",
    "\n",
    "    # 최대 길이 40 이하인 경우에만 데이터셋으로 허용\n",
    "    if len(sentence1) <= MAX_LENGTH and len(sentence2) <= MAX_LENGTH:\n",
    "      tokenized_inputs.append(sentence1)\n",
    "      tokenized_outputs.append(sentence2)\n",
    "  \n",
    "  # 최대 길이 40으로 모든 데이터셋을 패딩\n",
    "  tokenized_inputs = tf.keras.preprocessing.sequence.pad_sequences(\n",
    "      tokenized_inputs, maxlen=MAX_LENGTH, padding='post')\n",
    "  tokenized_outputs = tf.keras.preprocessing.sequence.pad_sequences(\n",
    "      tokenized_outputs, maxlen=MAX_LENGTH, padding='post')\n",
    "  \n",
    "  return tokenized_inputs, tokenized_outputs\n"
   ]
  },
  {
   "cell_type": "code",
   "execution_count": 104,
   "metadata": {},
   "outputs": [
    {
     "name": "stdout",
     "output_type": "stream",
     "text": [
      "단어장의 크기 : 8371\n",
      "필터링 후의 질문 샘플 개수: 11823\n",
      "필터링 후의 답변 샘플 개수: 11823\n"
     ]
    }
   ],
   "source": [
    "questions, answers = tokenize_and_filter(questions, answers)\n",
    "print('단어장의 크기 :',(VOCAB_SIZE))\n",
    "print('필터링 후의 질문 샘플 개수: {}'.format(len(questions)))\n",
    "print('필터링 후의 답변 샘플 개수: {}'.format(len(answers)))"
   ]
  },
  {
   "cell_type": "code",
   "execution_count": 105,
   "metadata": {},
   "outputs": [],
   "source": [
    "BATCH_SIZE = 64\n",
    "BUFFER_SIZE = 20000\n",
    "\n",
    "# 디코더는 이전의 target을 다음의 input으로 사용합니다.\n",
    "# 이에 따라 outputs에서는 START_TOKEN을 제거하겠습니다.\n",
    "dataset = tf.data.Dataset.from_tensor_slices((\n",
    "    {\n",
    "        'inputs': questions,\n",
    "        'dec_inputs': answers[:, :-1]\n",
    "    },\n",
    "    {\n",
    "        'outputs': answers[:, 1:]\n",
    "    },\n",
    "))\n",
    "\n",
    "dataset = dataset.cache()\n",
    "dataset = dataset.shuffle(BUFFER_SIZE)\n",
    "dataset = dataset.batch(BATCH_SIZE)\n",
    "dataset = dataset.prefetch(tf.data.experimental.AUTOTUNE)\n"
   ]
  },
  {
   "cell_type": "markdown",
   "metadata": {},
   "source": [
    "##### Step 4. 모델 구성하기"
   ]
  },
  {
   "cell_type": "code",
   "execution_count": 106,
   "metadata": {},
   "outputs": [],
   "source": [
    "# 포지셔널 인코딩 레이어\n",
    "class PositionalEncoding(tf.keras.layers.Layer):\n",
    "\n",
    "  def __init__(self, position, d_model):\n",
    "    super(PositionalEncoding, self).__init__()\n",
    "    self.pos_encoding = self.positional_encoding(position, d_model)\n",
    "\n",
    "  def get_angles(self, position, i, d_model):\n",
    "    angles = 1 / tf.pow(10000, (2 * (i // 2)) / tf.cast(d_model, tf.float32))\n",
    "    return position * angles\n",
    "\n",
    "  def positional_encoding(self, position, d_model):\n",
    "    # 각도 배열 생성\n",
    "    angle_rads = self.get_angles(\n",
    "        position=tf.range(position, dtype=tf.float32)[:, tf.newaxis],\n",
    "        i=tf.range(d_model, dtype=tf.float32)[tf.newaxis, :],\n",
    "        d_model=d_model)\n",
    "\n",
    "    # 배열의 짝수 인덱스에는 sin 함수 적용\n",
    "    sines = tf.math.sin(angle_rads[:, 0::2])\n",
    "    # 배열의 홀수 인덱스에는 cosine 함수 적용\n",
    "    cosines = tf.math.cos(angle_rads[:, 1::2])\n",
    "\n",
    "    # sin과 cosine이 교차되도록 재배열\n",
    "    pos_encoding = tf.stack([sines, cosines], axis=0)\n",
    "    pos_encoding = tf.transpose(pos_encoding,[1, 2, 0]) \n",
    "    pos_encoding = tf.reshape(pos_encoding, [position, d_model])\n",
    "\n",
    "    pos_encoding = pos_encoding[tf.newaxis, ...]\n",
    "    return tf.cast(pos_encoding, tf.float32)\n",
    "\n",
    "  def call(self, inputs):\n",
    "    return inputs + self.pos_encoding[:, :tf.shape(inputs)[1], :]\n"
   ]
  },
  {
   "cell_type": "code",
   "execution_count": 107,
   "metadata": {},
   "outputs": [
    {
     "data": {
      "image/png": "[encoded data removed]",
      "text/plain": [
       "<Figure size 432x288 with 2 Axes>"
      ]
     },
     "metadata": {
      "needs_background": "light"
     },
     "output_type": "display_data"
    },
    {
     "name": "stdout",
     "output_type": "stream",
     "text": [
      "[[ 0.00000000e+00  1.00000000e+00  0.00000000e+00 ...  1.00000000e+00\n",
      "   0.00000000e+00  1.00000000e+00]\n",
      " [ 8.41471016e-01  5.40302277e-01  8.21856260e-01 ...  1.00000000e+00\n",
      "   1.03663238e-04  1.00000000e+00]\n",
      " [ 9.09297466e-01 -4.16146815e-01  9.36414719e-01 ...  1.00000000e+00\n",
      "   2.07326477e-04  1.00000000e+00]\n",
      " ...\n",
      " [ 1.23573124e-01 -9.92335498e-01  9.77189779e-01 ...  9.99987245e-01\n",
      "   4.87215305e-03  9.99988139e-01]\n",
      " [-7.68254697e-01 -6.40144348e-01  7.31234014e-01 ...  9.99986708e-01\n",
      "   4.97581484e-03  9.99987602e-01]\n",
      " [-9.53752637e-01  3.00592542e-01 -1.44028708e-01 ...  9.99986112e-01\n",
      "   5.07947663e-03  9.99987125e-01]]\n"
     ]
    }
   ],
   "source": [
    "sample_pos_encoding = PositionalEncoding(50, 512)\n",
    "\n",
    "plt.pcolormesh(sample_pos_encoding.pos_encoding.numpy()[0], cmap='RdBu')\n",
    "plt.xlabel('Depth')\n",
    "plt.xlim((0, 512))\n",
    "plt.ylabel('Position')\n",
    "plt.colorbar()\n",
    "plt.show()\n",
    "\n",
    "spe = sample_pos_encoding.pos_encoding.numpy()\n",
    "print(spe[0])\n"
   ]
  },
  {
   "cell_type": "code",
   "execution_count": 108,
   "metadata": {},
   "outputs": [],
   "source": [
    "# 스케일드 닷 프로덕트 어텐션 함수\n",
    "def scaled_dot_product_attention(query, key, value, mask):\n",
    "  # 어텐션 가중치는 Q와 K의 닷 프로덕트\n",
    "  matmul_qk = tf.matmul(query, key, transpose_b=True)\n",
    "\n",
    "  # 가중치를 정규화\n",
    "  depth = tf.cast(tf.shape(key)[-1], tf.float32)\n",
    "  logits = matmul_qk / tf.math.sqrt(depth)\n",
    "\n",
    "  # 패딩에 마스크 추가\n",
    "  if mask is not None:\n",
    "    logits += (mask * -1e9)\n",
    "\n",
    "  # softmax적용\n",
    "  attention_weights = tf.nn.softmax(logits, axis=-1)\n",
    "\n",
    "  # 최종 어텐션은 가중치와 V의 닷 프로덕트\n",
    "  output = tf.matmul(attention_weights, value)\n",
    "  return output\n",
    "\n"
   ]
  },
  {
   "cell_type": "code",
   "execution_count": 109,
   "metadata": {},
   "outputs": [],
   "source": [
    "class MultiHeadAttention(tf.keras.layers.Layer):\n",
    "\n",
    "  def __init__(self, d_model, num_heads, name=\"multi_head_attention\"):\n",
    "    super(MultiHeadAttention, self).__init__(name=name)\n",
    "    self.num_heads = num_heads\n",
    "    self.d_model = d_model\n",
    "\n",
    "    assert d_model % self.num_heads == 0\n",
    "\n",
    "    self.depth = d_model // self.num_heads\n",
    "\n",
    "    self.query_dense = tf.keras.layers.Dense(units=d_model)\n",
    "    self.key_dense = tf.keras.layers.Dense(units=d_model)\n",
    "    self.value_dense = tf.keras.layers.Dense(units=d_model)\n",
    "\n",
    "    self.dense = tf.keras.layers.Dense(units=d_model)\n",
    "\n",
    "  def split_heads(self, inputs, batch_size):\n",
    "    inputs = tf.reshape(\n",
    "        inputs, shape=(batch_size, -1, self.num_heads, self.depth))\n",
    "    return tf.transpose(inputs, perm=[0, 2, 1, 3])\n",
    "\n",
    "  def call(self, inputs):\n",
    "    query, key, value, mask = inputs['query'], inputs['key'], inputs[\n",
    "        'value'], inputs['mask']\n",
    "    batch_size = tf.shape(query)[0]\n",
    "\n",
    "    # Q, K, V에 각각 Dense를 적용합니다\n",
    "    query = self.query_dense(query)\n",
    "    key = self.key_dense(key)\n",
    "    value = self.value_dense(value)\n",
    "\n",
    "    # 병렬 연산을 위한 머리를 여러 개 만듭니다\n",
    "    query = self.split_heads(query, batch_size)\n",
    "    key = self.split_heads(key, batch_size)\n",
    "    value = self.split_heads(value, batch_size)\n",
    "\n",
    "    # 스케일드 닷 프로덕트 어텐션 함수\n",
    "    scaled_attention = scaled_dot_product_attention(query, key, value, mask)\n",
    "\n",
    "    scaled_attention = tf.transpose(scaled_attention, perm=[0, 2, 1, 3])\n",
    "\n",
    "    # 어텐션 연산 후에 각 결과를 다시 연결(concatenate)합니다\n",
    "    concat_attention = tf.reshape(scaled_attention,\n",
    "                                  (batch_size, -1, self.d_model))\n",
    "\n",
    "    # 최종 결과에도 Dense를 한 번 더 적용합니다\n",
    "    outputs = self.dense(concat_attention)\n",
    "\n",
    "    return outputs\n"
   ]
  },
  {
   "cell_type": "code",
   "execution_count": 110,
   "metadata": {},
   "outputs": [],
   "source": [
    "def create_padding_mask(x):\n",
    "    mask = tf.cast(tf.math.equal(x, 0), tf.float32)\n",
    "    # (batch_size, 1, 1, sequence length)\n",
    "    return mask[:, tf.newaxis, tf.newaxis, :]\n"
   ]
  },
  {
   "cell_type": "code",
   "execution_count": 111,
   "metadata": {},
   "outputs": [],
   "source": [
    "def create_look_ahead_mask(x):\n",
    "    seq_len = tf.shape(x)[1]\n",
    "    look_ahead_mask = 1 - tf.linalg.band_part(tf.ones((seq_len, seq_len)), -1, 0)\n",
    "    padding_mask = create_padding_mask(x)\n",
    "    return tf.maximum(look_ahead_mask, padding_mask)\n"
   ]
  },
  {
   "cell_type": "markdown",
   "metadata": {},
   "source": [
    "인코더층 만들기"
   ]
  },
  {
   "cell_type": "code",
   "execution_count": 112,
   "metadata": {},
   "outputs": [],
   "source": [
    "# 인코더 하나의 레이어를 함수로 구현.\n",
    "# 이 하나의 레이어 안에는 두 개의 서브 레이어가 존재합니다.\n",
    "def encoder_layer(units, d_model, num_heads, dropout, name=\"encoder_layer\"):\n",
    "  inputs = tf.keras.Input(shape=(None, d_model), name=\"inputs\")\n",
    "\n",
    "  # 패딩 마스크 사용\n",
    "  padding_mask = tf.keras.Input(shape=(1, 1, None), name=\"padding_mask\")\n",
    "\n",
    "  # 첫 번째 서브 레이어 : 멀티 헤드 어텐션 수행 (셀프 어텐션)\n",
    "  attention = MultiHeadAttention(\n",
    "      d_model, num_heads, name=\"attention\")({\n",
    "          'query': inputs,\n",
    "          'key': inputs,\n",
    "          'value': inputs,\n",
    "          'mask': padding_mask\n",
    "      })\n",
    "\n",
    "  # 어텐션의 결과는 Dropout과 Layer Normalization이라는 훈련을 돕는 테크닉을 수행\n",
    "  attention = tf.keras.layers.Dropout(rate=dropout)(attention)\n",
    "  attention = tf.keras.layers.LayerNormalization(\n",
    "      epsilon=1e-6)(inputs + attention)\n",
    "\n",
    "  # 두 번째 서브 레이어 : 2개의 완전연결층\n",
    "  outputs = tf.keras.layers.Dense(units=units, activation='relu')(attention)\n",
    "  outputs = tf.keras.layers.Dense(units=d_model)(outputs)\n",
    "\n",
    "  # 완전연결층의 결과는 Dropout과 LayerNormalization이라는 훈련을 돕는 테크닉을 수행\n",
    "  outputs = tf.keras.layers.Dropout(rate=dropout)(outputs)\n",
    "  outputs = tf.keras.layers.LayerNormalization(\n",
    "      epsilon=1e-6)(attention + outputs)\n",
    "\n",
    "  return tf.keras.Model(\n",
    "      inputs=[inputs, padding_mask], outputs=outputs, name=name)\n"
   ]
  },
  {
   "cell_type": "code",
   "execution_count": 113,
   "metadata": {},
   "outputs": [],
   "source": [
    "def encoder(vocab_size,\n",
    "            num_layers,\n",
    "            units,\n",
    "            d_model,\n",
    "            num_heads,\n",
    "            dropout,\n",
    "            name=\"encoder\"):\n",
    "  inputs = tf.keras.Input(shape=(None,), name=\"inputs\")\n",
    "\n",
    "  # 패딩 마스크 사용\n",
    "  padding_mask = tf.keras.Input(shape=(1, 1, None), name=\"padding_mask\")\n",
    "\n",
    "  # 임베딩 레이어\n",
    "  embeddings = tf.keras.layers.Embedding(vocab_size, d_model)(inputs)\n",
    "  embeddings *= tf.math.sqrt(tf.cast(d_model, tf.float32))\n",
    "\n",
    "  # 포지셔널 인코딩\n",
    "  embeddings = PositionalEncoding(vocab_size, d_model)(embeddings)\n",
    "\n",
    "  outputs = tf.keras.layers.Dropout(rate=dropout)(embeddings)\n",
    "\n",
    "  # num_layers만큼 쌓아올린 인코더의 층.\n",
    "  for i in range(num_layers):\n",
    "    outputs = encoder_layer(\n",
    "        units=units,\n",
    "        d_model=d_model,\n",
    "        num_heads=num_heads,\n",
    "        dropout=dropout,\n",
    "        name=\"encoder_layer_{}\".format(i),\n",
    "    )([outputs, padding_mask])\n",
    "\n",
    "  return tf.keras.Model(\n",
    "      inputs=[inputs, padding_mask], outputs=outputs, name=name)\n"
   ]
  },
  {
   "cell_type": "markdown",
   "metadata": {},
   "source": [
    "디코더층 만들기"
   ]
  },
  {
   "cell_type": "code",
   "execution_count": 114,
   "metadata": {},
   "outputs": [],
   "source": [
    "# 디코더 하나의 레이어를 함수로 구현.\n",
    "# 이 하나의 레이어 안에는 세 개의 서브 레이어가 존재합니다.\n",
    "def decoder_layer(units, d_model, num_heads, dropout, name=\"decoder_layer\"):\n",
    "  inputs = tf.keras.Input(shape=(None, d_model), name=\"inputs\")\n",
    "  enc_outputs = tf.keras.Input(shape=(None, d_model), name=\"encoder_outputs\")\n",
    "  look_ahead_mask = tf.keras.Input(\n",
    "      shape=(1, None, None), name=\"look_ahead_mask\")\n",
    "  padding_mask = tf.keras.Input(shape=(1, 1, None), name='padding_mask')\n",
    "\n",
    "  # 첫 번째 서브 레이어 : 멀티 헤드 어텐션 수행 (셀프 어텐션)\n",
    "  attention1 = MultiHeadAttention(\n",
    "      d_model, num_heads, name=\"attention_1\")(inputs={\n",
    "          'query': inputs,\n",
    "          'key': inputs,\n",
    "          'value': inputs,\n",
    "          'mask': look_ahead_mask\n",
    "      })\n",
    "\n",
    "  # 멀티 헤드 어텐션의 결과는 LayerNormalization이라는 훈련을 돕는 테크닉을 수행\n",
    "  attention1 = tf.keras.layers.LayerNormalization(\n",
    "      epsilon=1e-6)(attention1 + inputs)\n",
    "\n",
    "  # 두 번째 서브 레이어 : 마스크드 멀티 헤드 어텐션 수행 (인코더-디코더 어텐션)\n",
    "  attention2 = MultiHeadAttention(\n",
    "      d_model, num_heads, name=\"attention_2\")(inputs={\n",
    "          'query': attention1,\n",
    "          'key': enc_outputs,\n",
    "          'value': enc_outputs,\n",
    "          'mask': padding_mask\n",
    "      })\n",
    "\n",
    "  # 마스크드 멀티 헤드 어텐션의 결과는\n",
    "  # Dropout과 LayerNormalization이라는 훈련을 돕는 테크닉을 수행\n",
    "  attention2 = tf.keras.layers.Dropout(rate=dropout)(attention2)\n",
    "  attention2 = tf.keras.layers.LayerNormalization(\n",
    "      epsilon=1e-6)(attention2 + attention1)\n",
    "\n",
    "  # 세 번째 서브 레이어 : 2개의 완전연결층\n",
    "  outputs = tf.keras.layers.Dense(units=units, activation='relu')(attention2)\n",
    "  outputs = tf.keras.layers.Dense(units=d_model)(outputs)\n",
    "\n",
    "  # 완전연결층의 결과는 Dropout과 LayerNormalization 수행\n",
    "  outputs = tf.keras.layers.Dropout(rate=dropout)(outputs)\n",
    "  outputs = tf.keras.layers.LayerNormalization(\n",
    "      epsilon=1e-6)(outputs + attention2)\n",
    "\n",
    "  return tf.keras.Model(\n",
    "      inputs=[inputs, enc_outputs, look_ahead_mask, padding_mask],\n",
    "      outputs=outputs,\n",
    "      name=name)\n"
   ]
  },
  {
   "cell_type": "code",
   "execution_count": 115,
   "metadata": {},
   "outputs": [],
   "source": [
    "def decoder(vocab_size,\n",
    "            num_layers,\n",
    "            units,\n",
    "            d_model,\n",
    "            num_heads,\n",
    "            dropout,\n",
    "            name='decoder'):\n",
    "  inputs = tf.keras.Input(shape=(None,), name='inputs')\n",
    "  enc_outputs = tf.keras.Input(shape=(None, d_model), name='encoder_outputs')\n",
    "  look_ahead_mask = tf.keras.Input(\n",
    "      shape=(1, None, None), name='look_ahead_mask')\n",
    "\n",
    "  # 패딩 마스크\n",
    "  padding_mask = tf.keras.Input(shape=(1, 1, None), name='padding_mask')\n",
    "  \n",
    "  # 임베딩 레이어\n",
    "  embeddings = tf.keras.layers.Embedding(vocab_size, d_model)(inputs)\n",
    "  embeddings *= tf.math.sqrt(tf.cast(d_model, tf.float32))\n",
    "\n",
    "  # 포지셔널 인코딩\n",
    "  embeddings = PositionalEncoding(vocab_size, d_model)(embeddings)\n",
    "\n",
    "  # Dropout이라는 훈련을 돕는 테크닉을 수행\n",
    "  outputs = tf.keras.layers.Dropout(rate=dropout)(embeddings)\n",
    "\n",
    "  for i in range(num_layers):\n",
    "    outputs = decoder_layer(\n",
    "        units=units,\n",
    "        d_model=d_model,\n",
    "        num_heads=num_heads,\n",
    "        dropout=dropout,\n",
    "        name='decoder_layer_{}'.format(i),\n",
    "    )(inputs=[outputs, enc_outputs, look_ahead_mask, padding_mask])\n",
    "\n",
    "  return tf.keras.Model(\n",
    "      inputs=[inputs, enc_outputs, look_ahead_mask, padding_mask],\n",
    "      outputs=outputs,\n",
    "      name=name)\n"
   ]
  },
  {
   "cell_type": "code",
   "execution_count": 116,
   "metadata": {},
   "outputs": [],
   "source": [
    "def transformer(vocab_size,\n",
    "                num_layers,\n",
    "                units,\n",
    "                d_model,\n",
    "                num_heads,\n",
    "                dropout,\n",
    "                name=\"transformer\"):\n",
    "  inputs = tf.keras.Input(shape=(None,), name=\"inputs\")\n",
    "  dec_inputs = tf.keras.Input(shape=(None,), name=\"dec_inputs\")\n",
    "\n",
    "  # 인코더에서 패딩을 위한 마스크\n",
    "  enc_padding_mask = tf.keras.layers.Lambda(\n",
    "      create_padding_mask, output_shape=(1, 1, None),\n",
    "      name='enc_padding_mask')(inputs)\n",
    "\n",
    "  # 디코더에서 미래의 토큰을 마스크 하기 위해서 사용합니다.\n",
    "  # 내부적으로 패딩 마스크도 포함되어져 있습니다.\n",
    "  look_ahead_mask = tf.keras.layers.Lambda(\n",
    "      create_look_ahead_mask,\n",
    "      output_shape=(1, None, None),\n",
    "      name='look_ahead_mask')(dec_inputs)\n",
    "\n",
    "  # 두 번째 어텐션 블록에서 인코더의 벡터들을 마스킹\n",
    "  # 디코더에서 패딩을 위한 마스크\n",
    "  dec_padding_mask = tf.keras.layers.Lambda(\n",
    "      create_padding_mask, output_shape=(1, 1, None),\n",
    "      name='dec_padding_mask')(inputs)\n",
    "\n",
    "  # 인코더\n",
    "  enc_outputs = encoder(\n",
    "      vocab_size=vocab_size,\n",
    "      num_layers=num_layers,\n",
    "      units=units,\n",
    "      d_model=d_model,\n",
    "      num_heads=num_heads,\n",
    "      dropout=dropout,\n",
    "  )(inputs=[inputs, enc_padding_mask])\n",
    "\n",
    "  # 디코더\n",
    "  dec_outputs = decoder(\n",
    "      vocab_size=vocab_size,\n",
    "      num_layers=num_layers,\n",
    "      units=units,\n",
    "      d_model=d_model,\n",
    "      num_heads=num_heads,\n",
    "      dropout=dropout,\n",
    "  )(inputs=[dec_inputs, enc_outputs, look_ahead_mask, dec_padding_mask])\n",
    "\n",
    "  # 완전연결층\n",
    "  outputs = tf.keras.layers.Dense(units=vocab_size, name=\"outputs\")(dec_outputs)\n",
    "\n",
    "  return tf.keras.Model(inputs=[inputs, dec_inputs], outputs=outputs, name=name)"
   ]
  },
  {
   "cell_type": "markdown",
   "metadata": {},
   "source": [
    "Transformer 모델 생성."
   ]
  },
  {
   "cell_type": "code",
   "execution_count": 136,
   "metadata": {},
   "outputs": [
    {
     "name": "stdout",
     "output_type": "stream",
     "text": [
      "Model: \"transformer\"\n",
      "__________________________________________________________________________________________________\n",
      "Layer (type)                    Output Shape         Param #     Connected to                     \n",
      "==================================================================================================\n",
      "inputs (InputLayer)             [(None, None)]       0                                            \n",
      "__________________________________________________________________________________________________\n",
      "dec_inputs (InputLayer)         [(None, None)]       0                                            \n",
      "__________________________________________________________________________________________________\n",
      "enc_padding_mask (Lambda)       (None, 1, 1, None)   0           inputs[0][0]                     \n",
      "__________________________________________________________________________________________________\n",
      "encoder (Functional)            (None, None, 256)    3197184     inputs[0][0]                     \n",
      "                                                                 enc_padding_mask[0][0]           \n",
      "__________________________________________________________________________________________________\n",
      "look_ahead_mask (Lambda)        (None, 1, None, None 0           dec_inputs[0][0]                 \n",
      "__________________________________________________________________________________________________\n",
      "dec_padding_mask (Lambda)       (None, 1, 1, None)   0           inputs[0][0]                     \n",
      "__________________________________________________________________________________________________\n",
      "decoder (Functional)            (None, None, 256)    3724544     dec_inputs[0][0]                 \n",
      "                                                                 encoder[0][0]                    \n",
      "                                                                 look_ahead_mask[0][0]            \n",
      "                                                                 dec_padding_mask[0][0]           \n",
      "__________________________________________________________________________________________________\n",
      "outputs (Dense)                 (None, None, 8371)   2151347     decoder[0][0]                    \n",
      "==================================================================================================\n",
      "Total params: 9,073,075\n",
      "Trainable params: 9,073,075\n",
      "Non-trainable params: 0\n",
      "__________________________________________________________________________________________________\n"
     ]
    },
    {
     "data": {
      "image/png": "[encoded data removed]",
      "text/plain": [
       "<IPython.core.display.Image object>"
      ]
     },
     "execution_count": 136,
     "metadata": {},
     "output_type": "execute_result"
    }
   ],
   "source": [
    "from tensorflow.keras.utils import plot_model \n",
    "\n",
    "tf.keras.backend.clear_session()\n",
    "\n",
    "# 하이퍼파라미터\n",
    "NUM_LAYERS = 2 # 인코더와 디코더의 층의 개수\n",
    "D_MODEL = 256 # 인코더와 디코더 내부의 입, 출력의 고정 차원\n",
    "NUM_HEADS = 16 # 멀티 헤드 어텐션에서의 헤드 수 \n",
    "UNITS = 512 # 피드 포워드 신경망의 은닉층의 크기\n",
    "DROPOUT = 0.2 # 드롭아웃의 비율\n",
    "\n",
    "model = transformer(\n",
    "    vocab_size=VOCAB_SIZE,\n",
    "    num_layers=NUM_LAYERS,\n",
    "    units=UNITS,\n",
    "    d_model=D_MODEL,\n",
    "    num_heads=NUM_HEADS,\n",
    "    dropout=DROPOUT)\n",
    "\n",
    "model.summary()\n",
    "\n",
    "plot_model(model, show_shapes=True)"
   ]
  },
  {
   "cell_type": "markdown",
   "metadata": {},
   "source": [
    "손실 함수"
   ]
  },
  {
   "cell_type": "code",
   "execution_count": 137,
   "metadata": {},
   "outputs": [],
   "source": [
    "def loss_function(y_true, y_pred):\n",
    "    y_true = tf.reshape(y_true, shape=(-1, MAX_LENGTH - 1))\n",
    "\n",
    "    loss = tf.keras.losses.SparseCategoricalCrossentropy(\n",
    "    from_logits=True, reduction='none')(y_true, y_pred)\n",
    "\n",
    "    mask = tf.cast(tf.not_equal(y_true, 0), tf.float32)\n",
    "    loss = tf.multiply(loss, mask)\n",
    "\n",
    "    return tf.reduce_mean(loss)\n",
    "\n"
   ]
  },
  {
   "cell_type": "markdown",
   "metadata": {},
   "source": [
    "커스텀 된 학습률"
   ]
  },
  {
   "cell_type": "code",
   "execution_count": 138,
   "metadata": {},
   "outputs": [],
   "source": [
    "class CustomSchedule(tf.keras.optimizers.schedules.LearningRateSchedule):\n",
    "    \n",
    "  def __init__(self, d_model, warmup_steps=4000):\n",
    "    super(CustomSchedule, self).__init__()\n",
    "\n",
    "    self.d_model = d_model\n",
    "    self.d_model = tf.cast(self.d_model, tf.float32)\n",
    "\n",
    "    self.warmup_steps = warmup_steps\n",
    "\n",
    "  def __call__(self, step):\n",
    "    arg1 = tf.math.rsqrt(step)\n",
    "    arg2 = step * (self.warmup_steps**-1.5)\n",
    "\n",
    "    return tf.math.rsqrt(self.d_model) * tf.math.minimum(arg1, arg2)\n"
   ]
  },
  {
   "cell_type": "code",
   "execution_count": 120,
   "metadata": {},
   "outputs": [
    {
     "data": {
      "text/plain": [
       "Text(0.5, 0, 'Train Step')"
      ]
     },
     "execution_count": 120,
     "metadata": {},
     "output_type": "execute_result"
    },
    {
     "data": {
      "image/png": "[encoded data removed]",
      "text/plain": [
       "<Figure size 432x288 with 1 Axes>"
      ]
     },
     "metadata": {
      "needs_background": "light"
     },
     "output_type": "display_data"
    }
   ],
   "source": [
    "sample_learning_rate = CustomSchedule(d_model=128)\n",
    "\n",
    "plt.plot(sample_learning_rate(tf.range(200000, dtype=tf.float32)))\n",
    "plt.ylabel(\"Learning Rate\")\n",
    "plt.xlabel(\"Train Step\")"
   ]
  },
  {
   "cell_type": "code",
   "execution_count": 139,
   "metadata": {},
   "outputs": [],
   "source": [
    "learning_rate = CustomSchedule(D_MODEL)\n",
    "\n",
    "optimizer = tf.keras.optimizers.Adam(\n",
    "    learning_rate, beta_1=0.9, beta_2=0.98, epsilon=1e-9)\n",
    "\n",
    "def accuracy(y_true, y_pred):\n",
    "  y_true = tf.reshape(y_true, shape=(-1, MAX_LENGTH - 1))\n",
    "  return tf.keras.metrics.sparse_categorical_accuracy(y_true, y_pred)\n",
    "\n",
    "model.compile(optimizer=optimizer, loss=loss_function, metrics=[accuracy])\n"
   ]
  },
  {
   "cell_type": "code",
   "execution_count": 140,
   "metadata": {},
   "outputs": [
    {
     "name": "stdout",
     "output_type": "stream",
     "text": [
      "Epoch 1/50\n",
      "185/185 [==============================] - 19s 73ms/step - loss: 1.3184 - accuracy: 0.0315\n",
      "Epoch 2/50\n",
      "185/185 [==============================] - 14s 73ms/step - loss: 1.0127 - accuracy: 0.0600\n",
      "Epoch 3/50\n",
      "185/185 [==============================] - 14s 75ms/step - loss: 0.8152 - accuracy: 0.0609\n",
      "Epoch 4/50\n",
      "185/185 [==============================] - 14s 75ms/step - loss: 0.7541 - accuracy: 0.0630\n",
      "Epoch 5/50\n",
      "185/185 [==============================] - 14s 73ms/step - loss: 0.7159 - accuracy: 0.0654\n",
      "Epoch 6/50\n",
      "185/185 [==============================] - 14s 73ms/step - loss: 0.6790 - accuracy: 0.0677\n",
      "Epoch 7/50\n",
      "185/185 [==============================] - 14s 73ms/step - loss: 0.6391 - accuracy: 0.0704\n",
      "Epoch 8/50\n",
      "185/185 [==============================] - 14s 74ms/step - loss: 0.5942 - accuracy: 0.0740\n",
      "Epoch 9/50\n",
      "185/185 [==============================] - 14s 74ms/step - loss: 0.5456 - accuracy: 0.0788\n",
      "Epoch 10/50\n",
      "185/185 [==============================] - 14s 74ms/step - loss: 0.4936 - accuracy: 0.0841\n",
      "Epoch 11/50\n",
      "185/185 [==============================] - 14s 74ms/step - loss: 0.4392 - accuracy: 0.0899\n",
      "Epoch 12/50\n",
      "185/185 [==============================] - 14s 74ms/step - loss: 0.3844 - accuracy: 0.0963\n",
      "Epoch 13/50\n",
      "185/185 [==============================] - 14s 73ms/step - loss: 0.3293 - accuracy: 0.1031\n",
      "Epoch 14/50\n",
      "185/185 [==============================] - 14s 74ms/step - loss: 0.2758 - accuracy: 0.1101\n",
      "Epoch 15/50\n",
      "185/185 [==============================] - 14s 74ms/step - loss: 0.2282 - accuracy: 0.1164\n",
      "Epoch 16/50\n",
      "185/185 [==============================] - 14s 74ms/step - loss: 0.1851 - accuracy: 0.1226\n",
      "Epoch 17/50\n",
      "185/185 [==============================] - 14s 74ms/step - loss: 0.1486 - accuracy: 0.1288\n",
      "Epoch 18/50\n",
      "185/185 [==============================] - 14s 74ms/step - loss: 0.1175 - accuracy: 0.1344\n",
      "Epoch 19/50\n",
      "185/185 [==============================] - 14s 74ms/step - loss: 0.0940 - accuracy: 0.1385\n",
      "Epoch 20/50\n",
      "185/185 [==============================] - 14s 74ms/step - loss: 0.0772 - accuracy: 0.1415\n",
      "Epoch 21/50\n",
      "185/185 [==============================] - 14s 73ms/step - loss: 0.0651 - accuracy: 0.1441\n",
      "Epoch 22/50\n",
      "185/185 [==============================] - 14s 74ms/step - loss: 0.0571 - accuracy: 0.1458\n",
      "Epoch 23/50\n",
      "185/185 [==============================] - 14s 74ms/step - loss: 0.0495 - accuracy: 0.1472\n",
      "Epoch 24/50\n",
      "185/185 [==============================] - 14s 74ms/step - loss: 0.0424 - accuracy: 0.1490\n",
      "Epoch 25/50\n",
      "185/185 [==============================] - 14s 73ms/step - loss: 0.0357 - accuracy: 0.1507\n",
      "Epoch 26/50\n",
      "185/185 [==============================] - 14s 73ms/step - loss: 0.0316 - accuracy: 0.1516\n",
      "Epoch 27/50\n",
      "185/185 [==============================] - 14s 74ms/step - loss: 0.0284 - accuracy: 0.1524\n",
      "Epoch 28/50\n",
      "185/185 [==============================] - 14s 73ms/step - loss: 0.0257 - accuracy: 0.1530\n",
      "Epoch 29/50\n",
      "185/185 [==============================] - 14s 74ms/step - loss: 0.0233 - accuracy: 0.1536\n",
      "Epoch 30/50\n",
      "185/185 [==============================] - 14s 74ms/step - loss: 0.0208 - accuracy: 0.1543\n",
      "Epoch 31/50\n",
      "185/185 [==============================] - 14s 74ms/step - loss: 0.0193 - accuracy: 0.1546\n",
      "Epoch 32/50\n",
      "185/185 [==============================] - 14s 73ms/step - loss: 0.0182 - accuracy: 0.1550\n",
      "Epoch 33/50\n",
      "185/185 [==============================] - 14s 74ms/step - loss: 0.0164 - accuracy: 0.1554\n",
      "Epoch 34/50\n",
      "185/185 [==============================] - 14s 74ms/step - loss: 0.0158 - accuracy: 0.1555\n",
      "Epoch 35/50\n",
      "185/185 [==============================] - 14s 73ms/step - loss: 0.0149 - accuracy: 0.1558\n",
      "Epoch 36/50\n",
      "185/185 [==============================] - 14s 73ms/step - loss: 0.0135 - accuracy: 0.1562\n",
      "Epoch 37/50\n",
      "185/185 [==============================] - 14s 73ms/step - loss: 0.0129 - accuracy: 0.1564\n",
      "Epoch 38/50\n",
      "185/185 [==============================] - 14s 74ms/step - loss: 0.0122 - accuracy: 0.1564\n",
      "Epoch 39/50\n",
      "185/185 [==============================] - 14s 73ms/step - loss: 0.0113 - accuracy: 0.1567\n",
      "Epoch 40/50\n",
      "185/185 [==============================] - 14s 73ms/step - loss: 0.0110 - accuracy: 0.1568\n",
      "Epoch 41/50\n",
      "185/185 [==============================] - 14s 74ms/step - loss: 0.0098 - accuracy: 0.1572\n",
      "Epoch 42/50\n",
      "185/185 [==============================] - 14s 74ms/step - loss: 0.0102 - accuracy: 0.1570\n",
      "Epoch 43/50\n",
      "185/185 [==============================] - 14s 74ms/step - loss: 0.0094 - accuracy: 0.1573\n",
      "Epoch 44/50\n",
      "185/185 [==============================] - 14s 74ms/step - loss: 0.0091 - accuracy: 0.1573\n",
      "Epoch 45/50\n",
      "185/185 [==============================] - 14s 73ms/step - loss: 0.0087 - accuracy: 0.1574\n",
      "Epoch 46/50\n",
      "185/185 [==============================] - 14s 73ms/step - loss: 0.0079 - accuracy: 0.1576\n",
      "Epoch 47/50\n",
      "185/185 [==============================] - 14s 73ms/step - loss: 0.0078 - accuracy: 0.1577\n",
      "Epoch 48/50\n",
      "185/185 [==============================] - 14s 73ms/step - loss: 0.0073 - accuracy: 0.1578\n",
      "Epoch 49/50\n",
      "185/185 [==============================] - 14s 74ms/step - loss: 0.0075 - accuracy: 0.1578\n",
      "Epoch 50/50\n",
      "185/185 [==============================] - 14s 74ms/step - loss: 0.0066 - accuracy: 0.1580\n"
     ]
    }
   ],
   "source": [
    "EPOCHS = 50\n",
    "history=model.fit(dataset, epochs=EPOCHS, verbose=1)"
   ]
  },
  {
   "cell_type": "code",
   "execution_count": 133,
   "metadata": {},
   "outputs": [],
   "source": [
    "# epoch 50. head8, dropout 0.1\n",
    "history_01 = history50"
   ]
  },
  {
   "cell_type": "code",
   "execution_count": 132,
   "metadata": {},
   "outputs": [],
   "source": [
    "# epoch 50. head8, dropout 0.2\n",
    "history_02 = history"
   ]
  },
  {
   "cell_type": "code",
   "execution_count": 141,
   "metadata": {},
   "outputs": [],
   "source": [
    "# epoch 50. head16, dropout 0.2\n",
    "history_12 = history"
   ]
  },
  {
   "cell_type": "markdown",
   "metadata": {},
   "source": [
    "##### Step 5. 모델 평가하기"
   ]
  },
  {
   "cell_type": "code",
   "execution_count": 124,
   "metadata": {},
   "outputs": [],
   "source": [
    "def decoder_inference(sentence):\n",
    "  sentence = preprocess_sentence(sentence)\n",
    "\n",
    "  # 입력된 문장을 정수 인코딩 후, 시작 토큰과 종료 토큰을 앞뒤로 추가.\n",
    "  # ex) Where have you been? → [[8331   86   30    5 1059    7 8332]]\n",
    "  sentence = tf.expand_dims(START_TOKEN + tokenizer.encode(sentence) + END_TOKEN, axis=0)\n",
    "\n",
    "  # 디코더의 현재까지의 예측한 출력 시퀀스가 지속적으로 저장되는 변수.\n",
    "  # 처음에는 예측한 내용이 없음으로 시작 토큰만 별도 저장. ex) 8331\n",
    "  output_sequence = tf.expand_dims(START_TOKEN, 0)\n",
    "\n",
    "  # 디코더의 인퍼런스 단계\n",
    "  for i in range(MAX_LENGTH):\n",
    "    # 디코더는 최대 MAX_LENGTH의 길이만큼 다음 단어 예측을 반복합니다.\n",
    "    predictions = model(inputs=[sentence, output_sequence], training=False)\n",
    "    predictions = predictions[:, -1:, :]\n",
    "\n",
    "    # 현재 예측한 단어의 정수\n",
    "    predicted_id = tf.cast(tf.argmax(predictions, axis=-1), tf.int32)\n",
    "\n",
    "    # 만약 현재 예측한 단어가 종료 토큰이라면 for문을 종료\n",
    "    if tf.equal(predicted_id, END_TOKEN[0]):\n",
    "      break\n",
    "\n",
    "    # 예측한 단어들은 지속적으로 output_sequence에 추가됩니다.\n",
    "    # 이 output_sequence는 다시 디코더의 입력이 됩니다.\n",
    "    output_sequence = tf.concat([output_sequence, predicted_id], axis=-1)\n",
    "\n",
    "  return tf.squeeze(output_sequence, axis=0)\n"
   ]
  },
  {
   "cell_type": "code",
   "execution_count": 125,
   "metadata": {},
   "outputs": [],
   "source": [
    "def sentence_generation(sentence):\n",
    "    # 입력 문장에 대해서 디코더를 동작 시켜 예측된 정수 시퀀스를 리턴받습니다.\n",
    "    prediction = decoder_inference(sentence)\n",
    "\n",
    "    # 정수 시퀀스를 다시 텍스트 시퀀스로 변환합니다.\n",
    "    predicted_sentence = tokenizer.decode(\n",
    "        [i for i in prediction if i < tokenizer.vocab_size])\n",
    "\n",
    "    print('입력 : {}'.format(sentence))\n",
    "    print('출력 : {}'.format(predicted_sentence))\n",
    "\n",
    "    return predicted_sentence\n"
   ]
  },
  {
   "cell_type": "code",
   "execution_count": 126,
   "metadata": {},
   "outputs": [],
   "source": [
    "# 테스트용 문자열\n",
    "test_sens = []\n",
    "test_sens.append('무슨 일을 하고 싶어?')\n",
    "test_sens.append('우리는 이뤄질 수 있을까?')\n",
    "test_sens.append('어떨때 자신감 뿜뿜이니?')\n",
    "test_sens.append('현재는 무슨 일을 해')\n",
    "test_sens.append('하루 종일 핸드폰을 만지네')\n",
    "test_sens.append('지금 일에 최선을 다하자')\n",
    "test_sens.append('너 피부 너무 좋다')\n",
    "test_sens.append('무슨 택배가 또오니?')\n",
    "test_sens.append('친구들이랑 뭐 하고 싶어?')\n",
    "test_sens.append('아구 너무 귀엽다')\n",
    "test_sens.append('스트레스에는 뭐가 좋을까?')\n"
   ]
  },
  {
   "cell_type": "code",
   "execution_count": 142,
   "metadata": {},
   "outputs": [
    {
     "data": {
      "image/png": "[encoded data removed]",
      "text/plain": [
       "<Figure size 432x288 with 1 Axes>"
      ]
     },
     "metadata": {
      "needs_background": "light"
     },
     "output_type": "display_data"
    }
   ],
   "source": [
    "# 50 epoch 학습후..(mecab 미사용, drop 0.1/ drop 0.2)\n",
    "plt.plot(history_01.history['loss'], label='h8 d0.1 loss')\n",
    "plt.plot(history_01.history['accuracy'], label='h8 d0.1 accuracy')\n",
    "plt.plot(history_02.history['loss'], label='h8 d0.2 loss')\n",
    "plt.plot(history_02.history['accuracy'], label='h8 d0.2 accuracy')\n",
    "plt.plot(history_12.history['loss'], label='h16 d0.2 loss')\n",
    "plt.plot(history_12.history['accuracy'], label='h16 d0.2 accuracy')\n",
    "plt.legend()\n",
    "plt.show()\n"
   ]
  },
  {
   "cell_type": "code",
   "execution_count": 128,
   "metadata": {},
   "outputs": [
    {
     "name": "stdout",
     "output_type": "stream",
     "text": [
      "입력 : 무슨 일을 하고 싶어?\n",
      "출력 :  일 분배를 다시 요청해보세요 . \n",
      "\n",
      "입력 : 우리는 이뤄질 수 있을까?\n",
      "출력 :  그런 생각을 들게 하는 사람 상종하지 마세요 . \n",
      "\n",
      "입력 : 어떨때 자신감 뿜뿜이니?\n",
      "출력 :  어깨 펴고 좀 더 당당해져도 돼요 . \n",
      "\n",
      "입력 : 현재는 무슨 일을 해\n",
      "출력 :  곧 오겠네요 . \n",
      "\n",
      "입력 : 하루 종일 핸드폰을 만지네\n",
      "출력 :  아무것도 하지마세요 . \n",
      "\n",
      "입력 : 지금 일에 최선을 다하자\n",
      "출력 :  잘할 수 있을 거예요 . \n",
      "\n",
      "입력 : 너 피부 너무 좋다\n",
      "출력 :  많은 걸 변화시키죠 . \n",
      "\n",
      "입력 : 무슨 택배가 또오니?\n",
      "출력 :  고민이 많은가 봅니다 . \n",
      "\n",
      "입력 : 친구들이랑 뭐 하고 싶어?\n",
      "출력 :  조금씩 더 행복해 질거 같아요 \n",
      "\n",
      "입력 : 아구 너무 귀엽다\n",
      "출력 :  친구가 보는 눈이 있네요 . \n",
      "\n",
      "입력 : 스트레스에는 뭐가 좋을까?\n",
      "출력 :  잘 푸는 것도 중요해요 . \n",
      "\n"
     ]
    }
   ],
   "source": [
    "# 대화 테스트 (mecab 미사용, head8, drop 0.1)\n",
    "for sentence in test_sens:\n",
    "    sentence_generation(sentence)\n",
    "    print(\"\")"
   ]
  },
  {
   "cell_type": "code",
   "execution_count": 135,
   "metadata": {},
   "outputs": [
    {
     "name": "stdout",
     "output_type": "stream",
     "text": [
      "입력 : 무슨 일을 하고 싶어?\n",
      "출력 :  일 분배를 다시 요청해보세요 . \n",
      "\n",
      "입력 : 우리는 이뤄질 수 있을까?\n",
      "출력 :  이제 그러면 돼요 . \n",
      "\n",
      "입력 : 어떨때 자신감 뿜뿜이니?\n",
      "출력 :  당신이 그 꽃으로 만들어보세요 . \n",
      "\n",
      "입력 : 현재는 무슨 일을 해\n",
      "출력 :  잊는 건 정말 힘든 일이에요 . \n",
      "\n",
      "입력 : 하루 종일 핸드폰을 만지네\n",
      "출력 :  시간을 되돌릴 수 없어요 . \n",
      "\n",
      "입력 : 지금 일에 최선을 다하자\n",
      "출력 :  지금 많이 위축된 상태인 것 같습니다 . \n",
      "\n",
      "입력 : 너 피부 너무 좋다\n",
      "출력 :  힘든 시간 잘 버텨냈어요 . \n",
      "\n",
      "입력 : 무슨 택배가 또오니?\n",
      "출력 :  오늘 헤어졌어 라고 하면 위로해 드려요 . \n",
      "\n",
      "입력 : 친구들이랑 뭐 하고 싶어?\n",
      "출력 :  오늘은 그냥 뒹굴뒹글 같이 놀아요 . \n",
      "\n",
      "입력 : 아구 너무 귀엽다\n",
      "출력 :  친구가 보는 눈이 있네요 . \n",
      "\n",
      "입력 : 스트레스에는 뭐가 좋을까?\n",
      "출력 :  잘 푸는 것도 중요해요 . \n",
      "\n"
     ]
    }
   ],
   "source": [
    "# 대화 테스트 (mecab 미사용, head8, drop 0.2)\n",
    "for sentence in test_sens:\n",
    "    sentence_generation(sentence)\n",
    "    print(\"\")"
   ]
  },
  {
   "cell_type": "code",
   "execution_count": 143,
   "metadata": {},
   "outputs": [
    {
     "name": "stdout",
     "output_type": "stream",
     "text": [
      "입력 : 무슨 일을 하고 싶어?\n",
      "출력 :  잘할 수 있을 거니 걱정마세요 . \n",
      "\n",
      "입력 : 우리는 이뤄질 수 있을까?\n",
      "출력 :  이제 기억을 놓아주세요 . \n",
      "\n",
      "입력 : 어떨때 자신감 뿜뿜이니?\n",
      "출력 :  호감이 있을 수도 있어요 . 그렇지만 조금 더 상황을 지켜보세요 . \n",
      "\n",
      "입력 : 현재는 무슨 일을 해\n",
      "출력 :  사람을 잊는다는 건 쉬운 일이 아니니까요 . \n",
      "\n",
      "입력 : 하루 종일 핸드폰을 만지네\n",
      "출력 :  시간을 정해보세요 . \n",
      "\n",
      "입력 : 지금 일에 최선을 다하자\n",
      "출력 :  지금 무슨 말을 해도 와닿지 않겠지만 잘 이겨낼 거라 믿어요 . \n",
      "\n",
      "입력 : 너 피부 너무 좋다\n",
      "출력 :  돈을 모아서 다른 곳으로 이사갈 수 있을 거예요 . \n",
      "\n",
      "입력 : 무슨 택배가 또오니?\n",
      "출력 :  오늘 택배기사님들 쉬는 날이예요 . \n",
      "\n",
      "입력 : 친구들이랑 뭐 하고 싶어?\n",
      "출력 :  지금 무슨 말을 해도 와닿지 않겠지만 잘 이겨낼 거라 믿어요 . \n",
      "\n",
      "입력 : 아구 너무 귀엽다\n",
      "출력 :  친구가 보는 눈이 있네요 . \n",
      "\n",
      "입력 : 스트레스에는 뭐가 좋을까?\n",
      "출력 :  잘 푸는 것도 중요해요 . \n",
      "\n"
     ]
    }
   ],
   "source": [
    "# 대화 테스트 (mecab 미사용, head16, drop 0.2)\n",
    "for sentence in test_sens:\n",
    "    sentence_generation(sentence)\n",
    "    print(\"\")"
   ]
  },
  {
   "cell_type": "code",
   "execution_count": 72,
   "metadata": {},
   "outputs": [
    {
     "data": {
      "image/png": "[encoded data removed]",
      "text/plain": [
       "<Figure size 432x288 with 1 Axes>"
      ]
     },
     "metadata": {
      "needs_background": "light"
     },
     "output_type": "display_data"
    }
   ],
   "source": [
    "# 50 epoch 학습후..(mecab 사용)\n",
    "plt.plot(history50.history['loss'], label='loss')\n",
    "plt.plot(history50.history['accuracy'], label='accuracy')\n",
    "plt.legend()\n",
    "plt.show()\n"
   ]
  },
  {
   "cell_type": "code",
   "execution_count": 70,
   "metadata": {},
   "outputs": [
    {
     "name": "stdout",
     "output_type": "stream",
     "text": [
      "입력 : 무슨 일을 하고 싶어?\n",
      "출력 :  옷 사도 사도 모자라 요 . \n",
      "\n",
      "입력 : 우리는 이뤄질 수 있을까?\n",
      "출력 :  자신 을 사랑 하 셨 네요 . \n",
      "\n",
      "입력 : 어떨때 자신감 뿜뿜이니?\n",
      "출력 :  호감 을 표현 해 보 것 좋 을 것 같 아요 . \n",
      "\n",
      "입력 : 현재는 무슨 일을 해\n",
      "출력 :  현재 즐기 면서 행복 하 게 사세요 . \n",
      "\n",
      "입력 : 하루 종일 핸드폰을 만지네\n",
      "출력 :  어떻게 하 느냐 따라 달라질 거 예요 . \n",
      "\n",
      "입력 : 지금 일에 최선을 다하자\n",
      "출력 :  최선 을 다 했 다면 그 시간 자체 즐기 면 돼요 . \n",
      "\n",
      "입력 : 너 피부 너무 좋다\n",
      "출력 :  물 많이 드 시 고 얼른 주무세요 . \n",
      "\n",
      "입력 : 무슨 택배가 또오니?\n",
      "출력 :  송장 번호 확인 해 보 세요 . \n",
      "\n",
      "입력 : 친구들이랑 뭐 하고 싶어?\n",
      "출력 :  친구 을 잃 지 말 아요 . \n",
      "\n",
      "입력 : 아구 너무 귀엽다\n",
      "출력 :  친구 보 눈 있 네요 . \n",
      "\n",
      "입력 : 스트레스에는 뭐가 좋을까?\n",
      "출력 :  회사 자신 대해서 더 공부 해서 자신감 을 가져 보 세요 . \n",
      "\n"
     ]
    }
   ],
   "source": [
    "# 대화 테스트 (mecab 사용)\n",
    "for sentence in test_sens:\n",
    "    sentence_generation(sentence)\n",
    "    print(\"\")"
   ]
  },
  {
   "cell_type": "code",
   "execution_count": 74,
   "metadata": {},
   "outputs": [
    {
     "data": {
      "image/png": "[encoded data removed]",
      "text/plain": [
       "<Figure size 432x288 with 1 Axes>"
      ]
     },
     "metadata": {
      "needs_background": "light"
     },
     "output_type": "display_data"
    }
   ],
   "source": [
    "# 100 epoch 학습후.. (mecab사용)\n",
    "plt.plot(history100.history['loss'], label='loss')\n",
    "plt.plot(history100.history['accuracy'], label='accuracy')\n",
    "plt.legend()\n",
    "plt.show()\n"
   ]
  },
  {
   "cell_type": "code",
   "execution_count": 75,
   "metadata": {},
   "outputs": [
    {
     "name": "stdout",
     "output_type": "stream",
     "text": [
      "입력 : 무슨 일을 하고 싶어?\n",
      "출력 :  추억 남 았 다면 보 고 싶 고 궁금 할 거 예요 . \n",
      "\n",
      "입력 : 우리는 이뤄질 수 있을까?\n",
      "출력 :  사랑 앞 미련 없 사람 없 을 거 예요 . \n",
      "\n",
      "입력 : 어떨때 자신감 뿜뿜이니?\n",
      "출력 :  여자 친구 생각 하 지 마세요 . \n",
      "\n",
      "입력 : 현재는 무슨 일을 해\n",
      "출력 :  현재 즐기 면서 행복 하 게 사세요 . \n",
      "\n",
      "입력 : 하루 종일 핸드폰을 만지네\n",
      "출력 :  저 둘 걸 좋 아 해요 . \n",
      "\n",
      "입력 : 지금 일에 최선을 다하자\n",
      "출력 :  같이 살 자고 프로 포즈 해 보 세요 . \n",
      "\n",
      "입력 : 너 피부 너무 좋다\n",
      "출력 :  물 많이 드 시 고 얼른 주무세요 . \n",
      "\n",
      "입력 : 무슨 택배가 또오니?\n",
      "출력 :  무 의식 진심 을 말 하 죠 . \n",
      "\n",
      "입력 : 친구들이랑 뭐 하고 싶어?\n",
      "출력 :  그런 사람 만나 면 저 소개 시켜 주 세요 . \n",
      "\n",
      "입력 : 아구 너무 귀엽다\n",
      "출력 :  듣 기 만 해도 괜찮 아요 . \n",
      "\n",
      "입력 : 스트레스에는 뭐가 좋을까?\n",
      "출력 :  사랑 을 쟁취 하 거 예요 . \n",
      "\n"
     ]
    }
   ],
   "source": [
    "# 대화 테스트 (mecab 사용)\n",
    "for sentence in test_sens:\n",
    "    sentence_generation(sentence)\n",
    "    print(\"\")"
   ]
  },
  {
   "cell_type": "markdown",
   "metadata": {},
   "source": [
    "##### Step 6. 회고\n",
    "\n",
    "- mecab 형태소 분석을 하고, 불용어를 사용하는 경우 불용어 제거로 인하여 생성 문장이 자연스럽지 않았다.  \n",
    "- loss는 50에서 거의 수렴상태였는데, 100회 시행시 과적합으로 더 부자연스러운 대답이 생성되었다.  \n",
    "\n",
    "- custom learning rate를 통하여 loss는 급격히 떨어지는 것을 확인할 수 있었다.  \n",
    "- dropout을 0.1,0.2로 변경해보면 loss가 좀더 천천히 수렴하는 것을 확인할 수 있다.  \n",
    "- head_num을 8,16으로 변경해보면 16일 경우가 대답이 더 부자연스러웠다.  \n",
    "- 아직 transformer의 구조에 대한 이해와 개선은 시간이 더 필요해 보임.  \n",
    "- mecab을 통해서 불용어를 제거한다음, 디코딩시 다시 넣어 줄 수 있다면 50회 학습한 모델의 대답이 가장 자연스러울 것 같다.    "
   ]
  }
 ],
 "metadata": {
  "kernelspec": {
   "display_name": "Python 3 (ipykernel)",
   "language": "python",
   "name": "python3"
  },
  "language_info": {
   "codemirror_mode": {
    "name": "ipython",
    "version": 3
   },
   "file_extension": ".py",
   "mimetype": "text/x-python",
   "name": "python",
   "nbconvert_exporter": "python",
   "pygments_lexer": "ipython3",
   "version": "3.9.7"
  },
  "vscode": {
   "interpreter": {
    "hash": "e6debceb626036820d184549e25d059a55b6b8771e25bc8133db281d329c34fc"
   }
  }
 },
 "nbformat": 4,
 "nbformat_minor": 2
}
