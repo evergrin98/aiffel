{
 "cells": [
  {
   "cell_type": "markdown",
   "id": "614fa96d",
   "metadata": {},
   "source": [
    "# [EXP_08] 네이버 영화 리뷰 감성분석 도전하기"
   ]
  },
  {
   "cell_type": "markdown",
   "id": "a5682fed",
   "metadata": {},
   "source": [
    "### 0. 라이브러리 준비"
   ]
  },
  {
   "cell_type": "code",
   "execution_count": 46,
   "id": "0ec7cf91",
   "metadata": {},
   "outputs": [
    {
     "name": "stdout",
     "output_type": "stream",
     "text": [
      "1.3.3\n",
      "0.5.2\n",
      "4.1.2\n"
     ]
    }
   ],
   "source": [
    "import pandas\n",
    "import konlpy\n",
    "import gensim\n",
    "from konlpy.tag import Mecab\n",
    "import numpy as np\n",
    "from collections import Counter\n",
    "import pandas as pd\n",
    "import tensorflow as tf\n",
    "import os, re\n",
    "import random\n",
    "import scipy.stats\n",
    "import matplotlib.pyplot as plt\n",
    "from tensorflow.keras.initializers import Constant\n",
    "from gensim.models.keyedvectors import Word2VecKeyedVectors\n",
    "\n",
    "print(pandas.__version__)\n",
    "print(konlpy.__version__)\n",
    "print(gensim.__version__)\n",
    "\n",
    "# 랜덤시드를 설정함.\n",
    "random_seed = 204\n",
    "random.seed(random_seed)\n",
    "np.random.seed(random_seed)\n",
    "tf.random.set_seed(random_seed)\n"
   ]
  },
  {
   "cell_type": "markdown",
   "id": "012326d3",
   "metadata": {},
   "source": [
    "### 1. 데이터 준비와 확인"
   ]
  },
  {
   "cell_type": "code",
   "execution_count": 47,
   "id": "7c3177e7",
   "metadata": {},
   "outputs": [
    {
     "name": "stdout",
     "output_type": "stream",
     "text": [
      "<class 'pandas.core.frame.DataFrame'>\n",
      "RangeIndex: 150000 entries, 0 to 149999\n",
      "Data columns (total 3 columns):\n",
      " #   Column    Non-Null Count   Dtype \n",
      "---  ------    --------------   ----- \n",
      " 0   id        150000 non-null  int64 \n",
      " 1   document  149995 non-null  object\n",
      " 2   label     150000 non-null  int64 \n",
      "dtypes: int64(2), object(1)\n",
      "memory usage: 3.4+ MB\n",
      "None\n"
     ]
    }
   ],
   "source": [
    "\n",
    "# 데이터를 읽어봅시다. \n",
    "train_data = pd.read_table('~/aiffel/sentiment_classification/data/ratings_train.txt')\n",
    "test_data = pd.read_table('~/aiffel/sentiment_classification/data/ratings_test.txt')\n",
    "\n",
    "print(train_data.info())"
   ]
  },
  {
   "cell_type": "markdown",
   "id": "c9202341",
   "metadata": {},
   "source": [
    "### 2. 데이터로더 구성"
   ]
  },
  {
   "cell_type": "code",
   "execution_count": 100,
   "id": "637f3acd",
   "metadata": {},
   "outputs": [
    {
     "name": "stdout",
     "output_type": "stream",
     "text": [
      "done: 146182 146182 49157 49157 49997\n"
     ]
    }
   ],
   "source": [
    "tokenizer = Mecab()\n",
    "stopwords = ['의','가','이','은','들','는','좀','잘','걍','과','도','를','으로','자','에','와','한','하다']\n",
    "    \n",
    "def load_data(train_data, test_data, num_words=10000):\n",
    "    train_data.drop_duplicates(subset=['document'], inplace=True)\n",
    "    train_data = train_data.dropna(how = 'any') \n",
    "    test_data.drop_duplicates(subset=['document'], inplace=True)\n",
    "    test_data = test_data.dropna(how = 'any') \n",
    "    \n",
    "    X_train = []\n",
    "    for sentence in train_data['document']:\n",
    "        temp_X = tokenizer.morphs(sentence) # 토큰화\n",
    "        temp_X = [word for word in temp_X if not word in stopwords] # 불용어 제거\n",
    "        X_train.append(temp_X)\n",
    "\n",
    "    X_test = []\n",
    "    for sentence in test_data['document']:\n",
    "        temp_X = tokenizer.morphs(sentence) # 토큰화\n",
    "        temp_X = [word for word in temp_X if not word in stopwords] # 불용어 제거\n",
    "        X_test.append(temp_X)\n",
    "    \n",
    "    words = np.concatenate(X_train).tolist()\n",
    "    counter = Counter(words)\n",
    "    counter = counter.most_common(num_words-4)\n",
    "    vocab = ['', '', '', ''] + [key for key, _ in counter]\n",
    "    word_to_index = {word:index for index, word in enumerate(vocab)}\n",
    "        \n",
    "    def wordlist_to_indexlist(wordlist):\n",
    "        return [word_to_index[word] if word in word_to_index else word_to_index[''] for word in wordlist]\n",
    "        \n",
    "    X_train = list(map(wordlist_to_indexlist, X_train))\n",
    "    X_test = list(map(wordlist_to_indexlist, X_test))\n",
    "        \n",
    "    return X_train, np.array(list(train_data['label']), dtype=np.int64), X_test, np.array(list(test_data['label']), dtype=np.int64), word_to_index\n",
    "    \n",
    "\n",
    "X_train, y_train, X_test, y_test, word_to_index = load_data(train_data, test_data, num_words=50000)\n",
    "\n",
    "index_to_word = {index:word for word, index in word_to_index.items()}\n",
    "\n",
    "print('done:', len(X_train), len(y_train), len(X_test), len(y_test), len(word_to_index))"
   ]
  },
  {
   "cell_type": "code",
   "execution_count": 93,
   "id": "8500267b",
   "metadata": {},
   "outputs": [],
   "source": [
    "# 문장 1개를 활용할 딕셔너리와 함께 주면, 단어 인덱스 리스트로 변환해 주는 함수를 만들어 봅시다.\n",
    "# 단, 모든 문장은 <BOS>로 시작하는 것으로 합니다. \n",
    "def get_encoded_sentence(sentence, word_to_index):\n",
    "    return [word_to_index[word] if word in word_to_index else word_to_index[''] for word in tokenizer.morphs(sentence)]\n",
    "\n",
    "\n",
    "# 여러 개의 문장 리스트를 한꺼번에 숫자 텐서로 encode해 주는 함수입니다. \n",
    "def get_encoded_sentences(sentences, word_to_index):\n",
    "    return [get_encoded_sentence(sentence, word_to_index) for sentence in sentences]\n",
    "\n",
    "\n",
    "# 숫자 벡터로 encode된 문장을 원래대로 decode하는 함수입니다. \n",
    "def get_decoded_sentence(encoded_sentence, index_to_word):\n",
    "    return ' '.join(index_to_word[index] if index in index_to_word else '' for index in encoded_sentence[:])  #[1:]를 통해 <BOS>를 제외\n",
    "\n",
    "# 여러 개의 숫자 벡터로 encode된 문장을 한꺼번에 원래대로 decode하는 함수입니다. \n",
    "def get_decoded_sentences(encoded_sentences, index_to_word):\n",
    "    return [get_decoded_sentence(encoded_sentence, index_to_word) for encoded_sentence in encoded_sentences]\n"
   ]
  },
  {
   "cell_type": "code",
   "execution_count": 101,
   "id": "545ec22a",
   "metadata": {},
   "outputs": [
    {
     "name": "stdout",
     "output_type": "stream",
     "text": [
      "[[846, 609, 17, 35], [2064, 1939, 3908]]\n"
     ]
    }
   ],
   "source": [
    "enc = get_encoded_sentences([\"거기 누구 없어\", \"하늘 아래 조용히\"], word_to_index)\n",
    "print(enc)"
   ]
  },
  {
   "cell_type": "code",
   "execution_count": 102,
   "id": "f6035bcf",
   "metadata": {},
   "outputs": [
    {
     "data": {
      "text/plain": [
       "['거기 누구 없 어', '하늘 아래 조용히']"
      ]
     },
     "execution_count": 102,
     "metadata": {},
     "output_type": "execute_result"
    }
   ],
   "source": [
    "dec = get_decoded_sentences(enc, index_to_word)\n",
    "dec"
   ]
  },
  {
   "cell_type": "markdown",
   "id": "f959b4e8",
   "metadata": {},
   "source": [
    "### 3. 모델 구성을 위한 데이터 분석 및 가공"
   ]
  },
  {
   "cell_type": "code",
   "execution_count": 103,
   "id": "7f205499",
   "metadata": {},
   "outputs": [
    {
     "data": {
      "text/plain": [
       "40"
      ]
     },
     "execution_count": 103,
     "metadata": {},
     "output_type": "execute_result"
    }
   ],
   "source": [
    "# 데이터셋 내 문장 길이 분포.\n",
    "\n",
    "xtrain_sentence_lens = [ len(sentence) for sentence in X_train]\n",
    "xtest_sentence_lens = [ len(sentence) for sentence in X_test]\n",
    "xtrain_sentence_lens.extend(xtest_sentence_lens)\n",
    "\n",
    "sorted_lens = sorted(xtrain_sentence_lens)\n",
    "sorted_lens_ar = np.array(sorted_lens)\n",
    "\n",
    "length_mean = np.mean(xtrain_sentence_lens)\n",
    "length_std = np.std(xtrain_sentence_lens)\n",
    "\n",
    "norm_dist = scipy.stats.norm(loc = length_mean, scale = length_std)\n",
    "\n",
    "# 전체 문장의 97%를 커버하는 길이를 선정.\n",
    "max_token_len = int(norm_dist.ppf(0.97))\n",
    "\n",
    "# max_tokens = np.mean(sorted_lens_ar) + 2 * np.std(sorted_lens_ar)\n",
    "\n",
    "max_token_len"
   ]
  },
  {
   "cell_type": "code",
   "execution_count": 104,
   "id": "f184f59d",
   "metadata": {},
   "outputs": [
    {
     "name": "stdout",
     "output_type": "stream",
     "text": [
      "45772 45772\n"
     ]
    }
   ],
   "source": [
    "#적절한 최대 문장 길이 지정 max_token_len으로 설정.\n",
    "\n",
    "X_train_tmp = []\n",
    "y_train_tmp = []\n",
    "X_test_tmp = []\n",
    "y_test_tmp = []\n",
    "\n",
    "# 최대 길이를 넘으면, 문장을 잘라낼수도 있으나, 학습시 올바르지 않을 수 있으므로 문장을 제거함.\n",
    "for sentence, y in zip(X_train, y_train):\n",
    "    if len(sentence) <= max_token_len:\n",
    "        X_train_tmp.append(sentence)\n",
    "        y_train_tmp.append(y)\n",
    "    \n",
    "X_train = X_train_tmp\n",
    "y_train = np.array(y_train_tmp, dtype=np.int64)\n",
    "\n",
    "for sentence, y in zip(X_test, y_test):\n",
    "    if len(sentence) <= max_token_len:\n",
    "        X_test_tmp.append(sentence)\n",
    "        y_test_tmp.append(y)\n",
    "  \n",
    "X_test = X_test_tmp\n",
    "y_test = np.array(y_test_tmp, dtype=np.int64)\n",
    "\n",
    "print(len(X_test), len(y_test))\n"
   ]
  },
  {
   "cell_type": "code",
   "execution_count": 106,
   "id": "cbac0f8a",
   "metadata": {},
   "outputs": [
    {
     "name": "stdout",
     "output_type": "stream",
     "text": [
      "done\n"
     ]
    }
   ],
   "source": [
    "# keras.preprocessing.sequence.pad_sequences 을 활용한 패딩 추가\n",
    "\n",
    "vocab_size = len(word_to_index)\n",
    "word_vector_dim = 4    # 위 그림과 같이 4차원의 워드 벡터를 가정합니다. \n",
    "\n",
    "# 숫자로 변환된 텍스트 데이터 [[1, 3, 4, 5], [1, 3, 6, 7], [1, 8, 3, 4, 9]] 에 Embedding 레이어를 적용합니다. \n",
    "train_inputs = np.array(X_train, dtype='object')\n",
    "test_inputs = np.array(X_test, dtype='object')\n",
    "\n",
    "x_train = tf.keras.preprocessing.sequence.pad_sequences(train_inputs,\n",
    "                                                       value=word_to_index[''],\n",
    "                                                       padding='post',\n",
    "                                                       maxlen=max_token_len)\n",
    "x_test = tf.keras.preprocessing.sequence.pad_sequences(test_inputs,\n",
    "                                                       value=word_to_index[''],\n",
    "                                                       padding='post',\n",
    "                                                       maxlen=max_token_len)\n",
    "print('done')"
   ]
  },
  {
   "cell_type": "markdown",
   "id": "c0d8f0e1",
   "metadata": {},
   "source": [
    "### 4. 모델 구성 및 validation set 구성.  \n",
    "### 5. 모델 훈련 개시  "
   ]
  },
  {
   "cell_type": "code",
   "execution_count": 107,
   "id": "0eab8a8d",
   "metadata": {},
   "outputs": [
    {
     "name": "stdout",
     "output_type": "stream",
     "text": [
      "done\n"
     ]
    }
   ],
   "source": [
    "# validation set 10000건 분리\n",
    "x_val = x_train[:10000]   \n",
    "y_val = y_train[:10000] #np.array(y_train[:10000], dtype=np.int64)\n",
    "\n",
    "# validation set을 제외한 나머지 15000건\n",
    "partial_x_train = x_train[10000:]  \n",
    "partial_y_train = y_train[10000:]\n",
    "\n",
    "BUFFER_SIZE = len(partial_x_train)\n",
    "BATCH_SIZE = 256\n",
    "steps_per_epoch = len(partial_x_train) // BATCH_SIZE\n",
    "\n",
    "dataset = tf.data.Dataset.from_tensor_slices((partial_x_train, partial_y_train))\n",
    "dataset = dataset.shuffle(BUFFER_SIZE)\n",
    "dataset = dataset.batch(BATCH_SIZE, drop_remainder=True)\n",
    "\n",
    "TEST_BUFFER_SIZE = len(x_test)\n",
    "test_steps_per_epoch = len(x_test) // BATCH_SIZE\n",
    "\n",
    "test_dataset = tf.data.Dataset.from_tensor_slices((x_test, y_test))\n",
    "test_dataset = test_dataset.shuffle(TEST_BUFFER_SIZE)\n",
    "test_dataset = test_dataset.batch(BATCH_SIZE, drop_remainder=True)\n",
    "\n",
    "print('done')\n"
   ]
  },
  {
   "cell_type": "code",
   "execution_count": 108,
   "id": "2539a0ef",
   "metadata": {},
   "outputs": [
    {
     "name": "stdout",
     "output_type": "stream",
     "text": [
      "Model: \"sequential_12\"\n",
      "_________________________________________________________________\n",
      "Layer (type)                 Output Shape              Param #   \n",
      "=================================================================\n",
      "embedding_12 (Embedding)     (None, None, 4)           199988    \n",
      "_________________________________________________________________\n",
      "lstm_10 (LSTM)               (None, 8)                 416       \n",
      "_________________________________________________________________\n",
      "dense_28 (Dense)             (None, 8)                 72        \n",
      "_________________________________________________________________\n",
      "dense_29 (Dense)             (None, 1)                 9         \n",
      "=================================================================\n",
      "Total params: 200,485\n",
      "Trainable params: 200,485\n",
      "Non-trainable params: 0\n",
      "_________________________________________________________________\n"
     ]
    }
   ],
   "source": [
    "# model 1\n",
    "\n",
    "model = tf.keras.Sequential()\n",
    "model.add(tf.keras.layers.Embedding(vocab_size, word_vector_dim, input_shape=(None,)))\n",
    "model.add(tf.keras.layers.LSTM(8))   # 가장 널리 쓰이는 RNN인 LSTM 레이어를 사용하였습니다. 이때 LSTM state 벡터의 차원수는 8로 하였습니다. (변경 가능)\n",
    "model.add(tf.keras.layers.Dense(8, activation='relu'))\n",
    "model.add(tf.keras.layers.Dense(1, activation='sigmoid'))  # 최종 출력은 긍정/부정을 나타내는 1dim 입니다.\n",
    "\n",
    "model.summary()"
   ]
  },
  {
   "cell_type": "code",
   "execution_count": 109,
   "id": "d55fe286",
   "metadata": {},
   "outputs": [
    {
     "name": "stdout",
     "output_type": "stream",
     "text": [
      "Epoch 1/20\n",
      "492/492 [==============================] - 4s 6ms/step - loss: 0.6458 - accuracy: 0.5881 - val_loss: 0.4245 - val_accuracy: 0.8232\n",
      "Epoch 2/20\n",
      "492/492 [==============================] - 3s 5ms/step - loss: 0.3560 - accuracy: 0.8477 - val_loss: 0.3511 - val_accuracy: 0.8464\n",
      "Epoch 3/20\n",
      "492/492 [==============================] - 3s 5ms/step - loss: 0.2990 - accuracy: 0.8772 - val_loss: 0.3435 - val_accuracy: 0.8502\n",
      "Epoch 4/20\n",
      "492/492 [==============================] - 3s 5ms/step - loss: 0.2708 - accuracy: 0.8912 - val_loss: 0.3586 - val_accuracy: 0.8457\n",
      "Epoch 5/20\n",
      "492/492 [==============================] - 3s 5ms/step - loss: 0.2519 - accuracy: 0.9005 - val_loss: 0.3714 - val_accuracy: 0.8406\n",
      "Epoch 6/20\n",
      "492/492 [==============================] - 3s 5ms/step - loss: 0.2362 - accuracy: 0.9087 - val_loss: 0.3976 - val_accuracy: 0.8423\n",
      "Epoch 7/20\n",
      "492/492 [==============================] - 3s 5ms/step - loss: 0.2239 - accuracy: 0.9129 - val_loss: 0.4043 - val_accuracy: 0.8345\n",
      "Epoch 8/20\n",
      "492/492 [==============================] - 3s 5ms/step - loss: 0.2144 - accuracy: 0.9168 - val_loss: 0.4306 - val_accuracy: 0.8387\n",
      "Epoch 9/20\n",
      "492/492 [==============================] - 3s 5ms/step - loss: 0.2044 - accuracy: 0.9202 - val_loss: 0.4427 - val_accuracy: 0.8364\n",
      "Epoch 10/20\n",
      "492/492 [==============================] - 3s 5ms/step - loss: 0.1952 - accuracy: 0.9225 - val_loss: 0.4803 - val_accuracy: 0.8329\n",
      "Epoch 11/20\n",
      "492/492 [==============================] - 3s 5ms/step - loss: 0.1866 - accuracy: 0.9258 - val_loss: 0.4803 - val_accuracy: 0.8325\n",
      "Epoch 12/20\n",
      "492/492 [==============================] - 3s 5ms/step - loss: 0.1769 - accuracy: 0.9286 - val_loss: 0.5145 - val_accuracy: 0.8304\n",
      "Epoch 13/20\n",
      "492/492 [==============================] - 3s 5ms/step - loss: 0.1680 - accuracy: 0.9317 - val_loss: 0.5282 - val_accuracy: 0.8325\n",
      "Epoch 14/20\n",
      "492/492 [==============================] - 3s 5ms/step - loss: 0.1618 - accuracy: 0.9336 - val_loss: 0.5358 - val_accuracy: 0.8314\n",
      "Epoch 15/20\n",
      "492/492 [==============================] - 3s 5ms/step - loss: 0.1552 - accuracy: 0.9357 - val_loss: 0.5601 - val_accuracy: 0.8244\n",
      "Epoch 16/20\n",
      "492/492 [==============================] - 3s 5ms/step - loss: 0.1504 - accuracy: 0.9381 - val_loss: 0.5895 - val_accuracy: 0.8304\n",
      "Epoch 17/20\n",
      "492/492 [==============================] - 3s 5ms/step - loss: 0.1454 - accuracy: 0.9398 - val_loss: 0.5917 - val_accuracy: 0.8245\n",
      "Epoch 18/20\n",
      "492/492 [==============================] - 3s 5ms/step - loss: 0.1407 - accuracy: 0.9428 - val_loss: 0.5954 - val_accuracy: 0.8239\n",
      "Epoch 19/20\n",
      "492/492 [==============================] - 3s 5ms/step - loss: 0.1368 - accuracy: 0.9442 - val_loss: 0.6092 - val_accuracy: 0.8185\n",
      "Epoch 20/20\n",
      "492/492 [==============================] - 3s 5ms/step - loss: 0.1330 - accuracy: 0.9459 - val_loss: 0.5958 - val_accuracy: 0.8211\n"
     ]
    }
   ],
   "source": [
    "model.compile(optimizer='adam',\n",
    "              loss='binary_crossentropy',\n",
    "              metrics=['accuracy'])\n",
    "              \n",
    "epochs=20  # 몇 epoch를 훈련하면 좋을지 결과를 보면서 바꾸어 봅시다. \n",
    "\n",
    "history1 = model.fit(dataset,\n",
    "                    epochs=epochs,\n",
    "                    batch_size=BATCH_SIZE,\n",
    "                    validation_data=(x_val, y_val), verbose=1)\n"
   ]
  },
  {
   "cell_type": "code",
   "execution_count": 110,
   "id": "23c2484b",
   "metadata": {},
   "outputs": [
    {
     "name": "stdout",
     "output_type": "stream",
     "text": [
      "178/178 - 1s - loss: 0.6074 - accuracy: 0.8172\n"
     ]
    }
   ],
   "source": [
    "results = model.evaluate(test_dataset, verbose=2)"
   ]
  },
  {
   "cell_type": "code",
   "execution_count": 111,
   "id": "0f8449eb",
   "metadata": {},
   "outputs": [
    {
     "name": "stdout",
     "output_type": "stream",
     "text": [
      "Model: \"sequential_13\"\n",
      "_________________________________________________________________\n",
      "Layer (type)                 Output Shape              Param #   \n",
      "=================================================================\n",
      "embedding_13 (Embedding)     (None, None, 4)           199988    \n",
      "_________________________________________________________________\n",
      "conv1d_1 (Conv1D)            (None, None, 16)          464       \n",
      "_________________________________________________________________\n",
      "max_pooling1d_1 (MaxPooling1 (None, None, 16)          0         \n",
      "_________________________________________________________________\n",
      "global_max_pooling1d_2 (Glob (None, 16)                0         \n",
      "_________________________________________________________________\n",
      "dense_30 (Dense)             (None, 8)                 136       \n",
      "_________________________________________________________________\n",
      "dense_31 (Dense)             (None, 1)                 9         \n",
      "=================================================================\n",
      "Total params: 200,597\n",
      "Trainable params: 200,597\n",
      "Non-trainable params: 0\n",
      "_________________________________________________________________\n"
     ]
    }
   ],
   "source": [
    "# model 2\n",
    "\n",
    "model = tf.keras.Sequential()\n",
    "model.add(tf.keras.layers.Embedding(vocab_size, word_vector_dim, input_shape=(None,)))\n",
    "model.add(tf.keras.layers.Conv1D(16, 7, padding='valid', activation='relu'))\n",
    "model.add(tf.keras.layers.MaxPooling1D(5))\n",
    "# model.add(tf.keras.layers.Conv1D(16, 7, activation='relu'))\n",
    "model.add(tf.keras.layers.GlobalMaxPooling1D())\n",
    "model.add(tf.keras.layers.Dense(8, activation='relu'))\n",
    "model.add(tf.keras.layers.Dense(1, activation='sigmoid'))  # 최종 출력은 긍정/부정을 나타내는 1dim 입니다.\n",
    "\n",
    "model.summary()"
   ]
  },
  {
   "cell_type": "code",
   "execution_count": 112,
   "id": "92133aa1",
   "metadata": {},
   "outputs": [
    {
     "name": "stdout",
     "output_type": "stream",
     "text": [
      "Epoch 1/20\n",
      "492/492 [==============================] - 3s 4ms/step - loss: 0.5610 - accuracy: 0.7292 - val_loss: 0.4532 - val_accuracy: 0.8306\n",
      "Epoch 2/20\n",
      "492/492 [==============================] - 2s 4ms/step - loss: 0.4086 - accuracy: 0.8560 - val_loss: 0.3996 - val_accuracy: 0.8460\n",
      "Epoch 3/20\n",
      "492/492 [==============================] - 2s 4ms/step - loss: 0.3421 - accuracy: 0.8821 - val_loss: 0.3816 - val_accuracy: 0.8470\n",
      "Epoch 4/20\n",
      "492/492 [==============================] - 2s 4ms/step - loss: 0.2966 - accuracy: 0.9001 - val_loss: 0.3807 - val_accuracy: 0.8420\n",
      "Epoch 5/20\n",
      "492/492 [==============================] - 2s 4ms/step - loss: 0.2634 - accuracy: 0.9124 - val_loss: 0.3892 - val_accuracy: 0.8449\n",
      "Epoch 6/20\n",
      "492/492 [==============================] - 2s 4ms/step - loss: 0.2389 - accuracy: 0.9210 - val_loss: 0.4014 - val_accuracy: 0.8438\n",
      "Epoch 7/20\n",
      "492/492 [==============================] - 2s 4ms/step - loss: 0.2195 - accuracy: 0.9280 - val_loss: 0.4149 - val_accuracy: 0.8446\n",
      "Epoch 8/20\n",
      "492/492 [==============================] - 2s 4ms/step - loss: 0.2042 - accuracy: 0.9339 - val_loss: 0.4342 - val_accuracy: 0.8439\n",
      "Epoch 9/20\n",
      "492/492 [==============================] - 2s 4ms/step - loss: 0.1921 - accuracy: 0.9386 - val_loss: 0.4429 - val_accuracy: 0.8370\n",
      "Epoch 10/20\n",
      "492/492 [==============================] - 2s 4ms/step - loss: 0.1814 - accuracy: 0.9427 - val_loss: 0.4673 - val_accuracy: 0.8370\n",
      "Epoch 11/20\n",
      "492/492 [==============================] - 2s 4ms/step - loss: 0.1723 - accuracy: 0.9459 - val_loss: 0.4834 - val_accuracy: 0.8360\n",
      "Epoch 12/20\n",
      "492/492 [==============================] - 2s 4ms/step - loss: 0.1644 - accuracy: 0.9488 - val_loss: 0.4944 - val_accuracy: 0.8323\n",
      "Epoch 13/20\n",
      "492/492 [==============================] - 2s 4ms/step - loss: 0.1576 - accuracy: 0.9518 - val_loss: 0.5157 - val_accuracy: 0.8301\n",
      "Epoch 14/20\n",
      "492/492 [==============================] - 2s 4ms/step - loss: 0.1518 - accuracy: 0.9537 - val_loss: 0.5480 - val_accuracy: 0.8308\n",
      "Epoch 15/20\n",
      "492/492 [==============================] - 2s 4ms/step - loss: 0.1461 - accuracy: 0.9559 - val_loss: 0.5496 - val_accuracy: 0.8270\n",
      "Epoch 16/20\n",
      "492/492 [==============================] - 2s 4ms/step - loss: 0.1417 - accuracy: 0.9579 - val_loss: 0.5630 - val_accuracy: 0.8271\n",
      "Epoch 17/20\n",
      "492/492 [==============================] - 2s 4ms/step - loss: 0.1374 - accuracy: 0.9595 - val_loss: 0.5844 - val_accuracy: 0.8235\n",
      "Epoch 18/20\n",
      "492/492 [==============================] - 2s 4ms/step - loss: 0.1334 - accuracy: 0.9614 - val_loss: 0.5984 - val_accuracy: 0.8222\n",
      "Epoch 19/20\n",
      "492/492 [==============================] - 2s 4ms/step - loss: 0.1298 - accuracy: 0.9629 - val_loss: 0.6238 - val_accuracy: 0.8223\n",
      "Epoch 20/20\n",
      "492/492 [==============================] - 2s 4ms/step - loss: 0.1269 - accuracy: 0.9637 - val_loss: 0.6363 - val_accuracy: 0.8211\n"
     ]
    }
   ],
   "source": [
    "model.compile(optimizer='adam',\n",
    "              loss='binary_crossentropy',\n",
    "              metrics=['accuracy'])\n",
    "              \n",
    "epochs=20  # 몇 epoch를 훈련하면 좋을지 결과를 보면서 바꾸어 봅시다. \n",
    "\n",
    "history2 = model.fit(dataset,\n",
    "                    epochs=epochs,\n",
    "                    batch_size=BATCH_SIZE,\n",
    "                    validation_data=(x_val, y_val), verbose=1)\n"
   ]
  },
  {
   "cell_type": "code",
   "execution_count": 113,
   "id": "8f912d3d",
   "metadata": {},
   "outputs": [
    {
     "name": "stdout",
     "output_type": "stream",
     "text": [
      "178/178 - 0s - loss: 0.6494 - accuracy: 0.8230\n"
     ]
    }
   ],
   "source": [
    "results = model.evaluate(test_dataset, verbose=2)"
   ]
  },
  {
   "cell_type": "code",
   "execution_count": 114,
   "id": "c559141f",
   "metadata": {},
   "outputs": [
    {
     "name": "stdout",
     "output_type": "stream",
     "text": [
      "Model: \"sequential_14\"\n",
      "_________________________________________________________________\n",
      "Layer (type)                 Output Shape              Param #   \n",
      "=================================================================\n",
      "embedding_14 (Embedding)     (None, None, 4)           199988    \n",
      "_________________________________________________________________\n",
      "global_max_pooling1d_3 (Glob (None, 4)                 0         \n",
      "_________________________________________________________________\n",
      "dense_32 (Dense)             (None, 8)                 40        \n",
      "_________________________________________________________________\n",
      "dense_33 (Dense)             (None, 1)                 9         \n",
      "=================================================================\n",
      "Total params: 200,037\n",
      "Trainable params: 200,037\n",
      "Non-trainable params: 0\n",
      "_________________________________________________________________\n"
     ]
    }
   ],
   "source": [
    "# model 3\n",
    "\n",
    "model = tf.keras.Sequential()\n",
    "model.add(tf.keras.layers.Embedding(vocab_size, word_vector_dim, input_shape=(None,)))\n",
    "model.add(tf.keras.layers.GlobalMaxPooling1D())\n",
    "model.add(tf.keras.layers.Dense(8, activation='relu'))\n",
    "model.add(tf.keras.layers.Dense(1, activation='sigmoid'))  # 최종 출력은 긍정/부정을 나타내는 1dim 입니다.\n",
    "\n",
    "model.summary()"
   ]
  },
  {
   "cell_type": "code",
   "execution_count": 115,
   "id": "aa9aed31",
   "metadata": {},
   "outputs": [
    {
     "name": "stdout",
     "output_type": "stream",
     "text": [
      "Epoch 1/20\n",
      "492/492 [==============================] - 2s 3ms/step - loss: 0.5689 - accuracy: 0.7319 - val_loss: 0.4250 - val_accuracy: 0.8084\n",
      "Epoch 2/20\n",
      "492/492 [==============================] - 2s 3ms/step - loss: 0.3861 - accuracy: 0.8337 - val_loss: 0.3784 - val_accuracy: 0.8247\n",
      "Epoch 3/20\n",
      "492/492 [==============================] - 2s 3ms/step - loss: 0.3370 - accuracy: 0.8577 - val_loss: 0.3688 - val_accuracy: 0.8350\n",
      "Epoch 4/20\n",
      "492/492 [==============================] - 2s 3ms/step - loss: 0.3070 - accuracy: 0.8720 - val_loss: 0.3703 - val_accuracy: 0.8334\n",
      "Epoch 5/20\n",
      "492/492 [==============================] - 2s 3ms/step - loss: 0.2853 - accuracy: 0.8821 - val_loss: 0.3767 - val_accuracy: 0.8331\n",
      "Epoch 6/20\n",
      "492/492 [==============================] - 2s 3ms/step - loss: 0.2691 - accuracy: 0.8894 - val_loss: 0.3848 - val_accuracy: 0.8341\n",
      "Epoch 7/20\n",
      "492/492 [==============================] - 2s 3ms/step - loss: 0.2563 - accuracy: 0.8961 - val_loss: 0.3939 - val_accuracy: 0.8296\n",
      "Epoch 8/20\n",
      "492/492 [==============================] - 2s 3ms/step - loss: 0.2465 - accuracy: 0.9001 - val_loss: 0.4016 - val_accuracy: 0.8312\n",
      "Epoch 9/20\n",
      "492/492 [==============================] - 2s 3ms/step - loss: 0.2387 - accuracy: 0.9036 - val_loss: 0.4095 - val_accuracy: 0.8291\n",
      "Epoch 10/20\n",
      "492/492 [==============================] - 2s 3ms/step - loss: 0.2324 - accuracy: 0.9063 - val_loss: 0.4178 - val_accuracy: 0.8279\n",
      "Epoch 11/20\n",
      "492/492 [==============================] - 2s 3ms/step - loss: 0.2270 - accuracy: 0.9092 - val_loss: 0.4279 - val_accuracy: 0.8256\n",
      "Epoch 12/20\n",
      "492/492 [==============================] - 2s 3ms/step - loss: 0.2230 - accuracy: 0.9113 - val_loss: 0.4346 - val_accuracy: 0.8232\n",
      "Epoch 13/20\n",
      "492/492 [==============================] - 2s 3ms/step - loss: 0.2196 - accuracy: 0.9121 - val_loss: 0.4405 - val_accuracy: 0.8235\n",
      "Epoch 14/20\n",
      "492/492 [==============================] - 2s 3ms/step - loss: 0.2166 - accuracy: 0.9138 - val_loss: 0.4468 - val_accuracy: 0.8245\n",
      "Epoch 15/20\n",
      "492/492 [==============================] - 2s 3ms/step - loss: 0.2138 - accuracy: 0.9152 - val_loss: 0.4548 - val_accuracy: 0.8210\n",
      "Epoch 16/20\n",
      "492/492 [==============================] - 2s 3ms/step - loss: 0.2120 - accuracy: 0.9156 - val_loss: 0.4585 - val_accuracy: 0.8198\n",
      "Epoch 17/20\n",
      "492/492 [==============================] - 2s 3ms/step - loss: 0.2098 - accuracy: 0.9171 - val_loss: 0.4655 - val_accuracy: 0.8221\n",
      "Epoch 18/20\n",
      "492/492 [==============================] - 2s 3ms/step - loss: 0.2082 - accuracy: 0.9173 - val_loss: 0.4716 - val_accuracy: 0.8210\n",
      "Epoch 19/20\n",
      "492/492 [==============================] - 2s 3ms/step - loss: 0.2065 - accuracy: 0.9176 - val_loss: 0.4760 - val_accuracy: 0.8207\n",
      "Epoch 20/20\n",
      "492/492 [==============================] - 2s 3ms/step - loss: 0.2051 - accuracy: 0.9181 - val_loss: 0.4812 - val_accuracy: 0.8217\n"
     ]
    }
   ],
   "source": [
    "model.compile(optimizer='adam',\n",
    "              loss='binary_crossentropy',\n",
    "              metrics=['accuracy'])\n",
    "              \n",
    "epochs=20  # 몇 epoch를 훈련하면 좋을지 결과를 보면서 바꾸어 봅시다. \n",
    "\n",
    "history3 = model.fit(dataset,\n",
    "                    epochs=epochs,\n",
    "                    batch_size=BATCH_SIZE,\n",
    "                    validation_data=(x_val, y_val), verbose=1)\n"
   ]
  },
  {
   "cell_type": "code",
   "execution_count": 116,
   "id": "0aa1183d",
   "metadata": {},
   "outputs": [
    {
     "name": "stdout",
     "output_type": "stream",
     "text": [
      "178/178 - 0s - loss: 0.4957 - accuracy: 0.8179\n"
     ]
    }
   ],
   "source": [
    "results = model.evaluate(test_dataset, verbose=2)"
   ]
  },
  {
   "cell_type": "markdown",
   "id": "380b6f47",
   "metadata": {},
   "source": [
    "### 6. Loss, Accuracy 그래프 시각화"
   ]
  },
  {
   "cell_type": "code",
   "execution_count": 170,
   "id": "a05c1bc1",
   "metadata": {},
   "outputs": [],
   "source": [
    "# Loss, Accuracy 그래프 시각화\n",
    "\n",
    "def draw_loss_accuracy(history):\n",
    "    history_dict = history.history\n",
    "    acc = history_dict['accuracy']\n",
    "    val_acc = history_dict['val_accuracy']\n",
    "    loss = history_dict['loss']\n",
    "    val_loss = history_dict['val_loss']\n",
    "\n",
    "    epochs = range(1, len(acc) + 1)\n",
    "\n",
    "    # \"bo\"는 \"파란색 점\"입니다\n",
    "    plt.plot(epochs, loss, 'bo', label='Training loss')\n",
    "    # b는 \"파란 실선\"입니다\n",
    "    plt.plot(epochs, val_loss, 'b', label='Validation loss')\n",
    "    plt.title('Training and validation loss')\n",
    "    plt.xlabel('Epochs')\n",
    "    plt.ylabel('Loss')\n",
    "    plt.legend()\n",
    "    plt.show()\n",
    "\n",
    "    # \"ro\"는 \"빨간색 점\"입니다\n",
    "    plt.plot(epochs, acc, 'ro', label='Training accuracy')\n",
    "    # r는 \"빨간 실선\"입니다\n",
    "    plt.plot(epochs, val_acc, 'r', label='Validation accuracy')\n",
    "    plt.title('Training and validation accuracy')\n",
    "    plt.xlabel('Epochs')\n",
    "    plt.ylabel('Accuracy')\n",
    "    plt.legend()\n",
    "    plt.show()\n"
   ]
  },
  {
   "cell_type": "code",
   "execution_count": 118,
   "id": "f7e9e86d",
   "metadata": {},
   "outputs": [
    {
     "data": {
      "image/png": "[encoded data removed]",
      "text/plain": [
       "<Figure size 432x288 with 1 Axes>"
      ]
     },
     "metadata": {
      "needs_background": "light"
     },
     "output_type": "display_data"
    },
    {
     "data": {
      "image/png": "[encoded data removed]",
      "text/plain": [
       "<Figure size 432x288 with 1 Axes>"
      ]
     },
     "metadata": {
      "needs_background": "light"
     },
     "output_type": "display_data"
    }
   ],
   "source": [
    "# 안정적인 model1번에 대하여 Loss, Accuracy 그래프 시각화\n",
    "\n",
    "draw_loss_accuracy(history1)"
   ]
  },
  {
   "cell_type": "markdown",
   "id": "f9f3adc2",
   "metadata": {},
   "source": [
    "### 7. 학습된 Embedding레이어 분석"
   ]
  },
  {
   "cell_type": "code",
   "execution_count": 120,
   "id": "7b384967",
   "metadata": {},
   "outputs": [
    {
     "name": "stdout",
     "output_type": "stream",
     "text": [
      "accuracy: \n",
      " [[0.16027658]\n",
      " [0.98932904]]\n"
     ]
    }
   ],
   "source": [
    "# 임의의 데이터로 학습 결과 확인.\n",
    "# 긍정/부정 리뷰를 올바로 분석함.\n",
    "\n",
    "test_sentences = get_encoded_sentences([\"연기 너무 못해요...\", \"훌륭한 배우의 연기라니 기대되요!.\"], word_to_index)\n",
    "\n",
    "# print(\"encoded:\", test_sentences)\n",
    "# print(\"decoded:\", get_decoded_sentences(test_sentences, index_to_word))\n",
    "\n",
    "test_sentences = tf.keras.preprocessing.sequence.pad_sequences(test_sentences,\n",
    "                                                       value=word_to_index[''],\n",
    "                                                       padding='post',\n",
    "                                                       maxlen=max_token_len)\n",
    "result = model.predict(test_sentences)\n",
    "print(\"accuracy: \\n\", result)"
   ]
  },
  {
   "cell_type": "code",
   "execution_count": 121,
   "id": "c5dd7573",
   "metadata": {},
   "outputs": [
    {
     "name": "stdout",
     "output_type": "stream",
     "text": [
      "(49997, 4)\n"
     ]
    }
   ],
   "source": [
    "embedding_layer = model.layers[0]\n",
    "weights = embedding_layer.get_weights()[0]\n",
    "print(weights.shape)    # shape: (vocab_size, embedding_dim)\n",
    "\n",
    "# 학습한 Embedding 파라미터를 파일에 써서 저장합니다. \n",
    "word2vec_file_path = os.getenv('HOME')+'/aiffel/sentiment_classification/data/myword2vec2.txt'\n",
    "f = open(word2vec_file_path, 'w')\n",
    "f.write('{} {}\\n'.format(vocab_size-4, word_vector_dim))  # 몇개의 벡터를 얼마 사이즈로 기재할지 타이틀을 씁니다.\n",
    "\n",
    "# 단어 개수(에서 특수문자 4개는 제외하고)만큼의 워드 벡터를 파일에 기록합니다. \n",
    "vectors = model.get_weights()[0]\n",
    "for i in range(4,vocab_size):\n",
    "    f.write('{} {}\\n'.format(index_to_word[i], ' '.join(map(str, list(vectors[i, :])))))\n",
    "f.close()"
   ]
  },
  {
   "cell_type": "code",
   "execution_count": 122,
   "id": "59c048db",
   "metadata": {},
   "outputs": [
    {
     "name": "stdout",
     "output_type": "stream",
     "text": [
      "[-0.31884047 -0.22165883 -0.34695098 -0.34331527]\n"
     ]
    }
   ],
   "source": [
    "print(weights[10])"
   ]
  },
  {
   "cell_type": "markdown",
   "id": "c8b6212d",
   "metadata": {},
   "source": [
    "### 8. 한국어 Word2Vec임베딩 활용하여 성능 개선"
   ]
  },
  {
   "cell_type": "code",
   "execution_count": 123,
   "id": "863131ac",
   "metadata": {},
   "outputs": [
    {
     "name": "stdout",
     "output_type": "stream",
     "text": [
      "done\n"
     ]
    }
   ],
   "source": [
    "# 외부 학습된 데이터 사용..\n",
    "\n",
    "word2vec_file_path = os.getenv('HOME')+'/data/word2vec_ko.model'\n",
    "word_vectors = Word2VecKeyedVectors.load(word2vec_file_path)\n",
    "\n",
    "word2vec = word_vectors\n",
    "\n",
    "new_vocab_size = vocab_size\n",
    "# new_vocab_size = word_vectors.corpus_count\n",
    "word_vector_dim = 100  # 워드 벡터의 차원수\n",
    "\n",
    "embedding_matrix = np.random.rand(new_vocab_size, word_vector_dim)\n",
    "\n",
    "# # embedding_matrix에 Word2Vec 워드 벡터를 단어 하나씩마다 차례차례 카피한다.\n",
    "for i in range(4, vocab_size):\n",
    "    if index_to_word[i] in word2vec.wv:\n",
    "        embedding_matrix[i] = word2vec.wv[index_to_word[i]]\n",
    "\n",
    "print('done')"
   ]
  },
  {
   "cell_type": "code",
   "execution_count": 186,
   "id": "989e029a",
   "metadata": {},
   "outputs": [
    {
     "name": "stdout",
     "output_type": "stream",
     "text": [
      "Model: \"sequential_34\"\n",
      "_________________________________________________________________\n",
      "Layer (type)                 Output Shape              Param #   \n",
      "=================================================================\n",
      "embedding_34 (Embedding)     (None, 40, 100)           4999700   \n",
      "_________________________________________________________________\n",
      "lstm_30 (LSTM)               (None, 64)                42240     \n",
      "_________________________________________________________________\n",
      "batch_normalization_13 (Batc (None, 64)                256       \n",
      "_________________________________________________________________\n",
      "dropout_24 (Dropout)         (None, 64)                0         \n",
      "_________________________________________________________________\n",
      "dense_91 (Dense)             (None, 32)                2080      \n",
      "_________________________________________________________________\n",
      "dense_92 (Dense)             (None, 8)                 264       \n",
      "_________________________________________________________________\n",
      "dense_93 (Dense)             (None, 1)                 9         \n",
      "=================================================================\n",
      "Total params: 5,044,549\n",
      "Trainable params: 5,044,421\n",
      "Non-trainable params: 128\n",
      "_________________________________________________________________\n"
     ]
    }
   ],
   "source": [
    "# 학습된 파라메타를 이용하여 모델 구성.\n",
    "\n",
    "model = tf.keras.Sequential()\n",
    "model.add(tf.keras.layers.Embedding(vocab_size, \n",
    "                                 word_vector_dim, \n",
    "                                 embeddings_initializer=Constant(embedding_matrix),  # 카피한 임베딩을 여기서 활용\n",
    "                                 input_length=max_token_len, \n",
    "                                 trainable=True))   # trainable을 True로 주면 Fine-tuning\n",
    "model.add(tf.keras.layers.LSTM(64))   # 가장 널리 쓰이는 RNN인 LSTM 레이어를 사용하였습니다. 이때 LSTM state 벡터의 차원수는 8로 하였습니다. (변경 가능)\n",
    "model.add(tf.keras.layers.BatchNormalization())\n",
    "model.add(tf.keras.layers.Dropout(0.7))\n",
    "model.add(tf.keras.layers.Dense(32, activation='relu'))\n",
    "model.add(tf.keras.layers.Dense(8, activation='relu'))\n",
    "model.add(tf.keras.layers.Dense(1, activation='sigmoid'))  # 최종 출력은 긍정/부정을 나타내는 1dim 입니다.\n",
    "\n",
    "model.summary()"
   ]
  },
  {
   "cell_type": "code",
   "execution_count": 187,
   "id": "52eee90e",
   "metadata": {},
   "outputs": [
    {
     "name": "stdout",
     "output_type": "stream",
     "text": [
      "Epoch 1/100\n",
      "492/492 [==============================] - 6s 9ms/step - loss: 0.6990 - accuracy: 0.5177 - val_loss: 0.6957 - val_accuracy: 0.5030\n",
      "Epoch 2/100\n",
      "492/492 [==============================] - 4s 8ms/step - loss: 0.6617 - accuracy: 0.6119 - val_loss: 0.6056 - val_accuracy: 0.6765\n",
      "Epoch 3/100\n",
      "492/492 [==============================] - 4s 8ms/step - loss: 0.5968 - accuracy: 0.6935 - val_loss: 0.5607 - val_accuracy: 0.7221\n",
      "Epoch 4/100\n",
      "492/492 [==============================] - 4s 8ms/step - loss: 0.5521 - accuracy: 0.7323 - val_loss: 0.5230 - val_accuracy: 0.7451\n",
      "Epoch 5/100\n",
      "492/492 [==============================] - 4s 8ms/step - loss: 0.5203 - accuracy: 0.7544 - val_loss: 0.5023 - val_accuracy: 0.7597\n",
      "Epoch 6/100\n",
      "492/492 [==============================] - 4s 8ms/step - loss: 0.4965 - accuracy: 0.7707 - val_loss: 0.5017 - val_accuracy: 0.7642\n",
      "Epoch 7/100\n",
      "492/492 [==============================] - 4s 8ms/step - loss: 0.4784 - accuracy: 0.7818 - val_loss: 0.4790 - val_accuracy: 0.7747\n",
      "Epoch 8/100\n",
      "492/492 [==============================] - 4s 8ms/step - loss: 0.4643 - accuracy: 0.7912 - val_loss: 0.4516 - val_accuracy: 0.7913\n",
      "Epoch 9/100\n",
      "492/492 [==============================] - 4s 8ms/step - loss: 0.4507 - accuracy: 0.7996 - val_loss: 0.4496 - val_accuracy: 0.7911\n",
      "Epoch 10/100\n",
      "492/492 [==============================] - 4s 8ms/step - loss: 0.4374 - accuracy: 0.8076 - val_loss: 0.4329 - val_accuracy: 0.8012\n",
      "Epoch 11/100\n",
      "492/492 [==============================] - 4s 8ms/step - loss: 0.4269 - accuracy: 0.8126 - val_loss: 0.4232 - val_accuracy: 0.8057\n",
      "Epoch 12/100\n",
      "492/492 [==============================] - 4s 8ms/step - loss: 0.4181 - accuracy: 0.8185 - val_loss: 0.4500 - val_accuracy: 0.7928\n",
      "Epoch 13/100\n",
      "492/492 [==============================] - 4s 8ms/step - loss: 0.4071 - accuracy: 0.8234 - val_loss: 0.4093 - val_accuracy: 0.8123\n",
      "Epoch 14/100\n",
      "492/492 [==============================] - 4s 8ms/step - loss: 0.3987 - accuracy: 0.8282 - val_loss: 0.4187 - val_accuracy: 0.8116\n",
      "Epoch 15/100\n",
      "492/492 [==============================] - 4s 8ms/step - loss: 0.3922 - accuracy: 0.8315 - val_loss: 0.4100 - val_accuracy: 0.8104\n",
      "Epoch 16/100\n",
      "492/492 [==============================] - 4s 8ms/step - loss: 0.3847 - accuracy: 0.8349 - val_loss: 0.3916 - val_accuracy: 0.8191\n",
      "Epoch 17/100\n",
      "492/492 [==============================] - 4s 8ms/step - loss: 0.3774 - accuracy: 0.8384 - val_loss: 0.4098 - val_accuracy: 0.8117\n",
      "Epoch 18/100\n",
      "492/492 [==============================] - 4s 8ms/step - loss: 0.3710 - accuracy: 0.8420 - val_loss: 0.3832 - val_accuracy: 0.8233\n",
      "Epoch 19/100\n",
      "492/492 [==============================] - 4s 8ms/step - loss: 0.3655 - accuracy: 0.8453 - val_loss: 0.3799 - val_accuracy: 0.8268\n",
      "Epoch 20/100\n",
      "492/492 [==============================] - 4s 8ms/step - loss: 0.3583 - accuracy: 0.8487 - val_loss: 0.3860 - val_accuracy: 0.8236\n",
      "Epoch 21/100\n",
      "492/492 [==============================] - 4s 8ms/step - loss: 0.3531 - accuracy: 0.8504 - val_loss: 0.4017 - val_accuracy: 0.8216\n",
      "Epoch 22/100\n",
      "492/492 [==============================] - 4s 8ms/step - loss: 0.3489 - accuracy: 0.8535 - val_loss: 0.3855 - val_accuracy: 0.8243\n",
      "Epoch 23/100\n",
      "492/492 [==============================] - 4s 8ms/step - loss: 0.3425 - accuracy: 0.8572 - val_loss: 0.3699 - val_accuracy: 0.8328\n",
      "Epoch 24/100\n",
      "492/492 [==============================] - 4s 8ms/step - loss: 0.3397 - accuracy: 0.8588 - val_loss: 0.3672 - val_accuracy: 0.8333\n",
      "Epoch 25/100\n",
      "492/492 [==============================] - 4s 8ms/step - loss: 0.3337 - accuracy: 0.8622 - val_loss: 0.3808 - val_accuracy: 0.8320\n",
      "Epoch 26/100\n",
      "492/492 [==============================] - 4s 8ms/step - loss: 0.3284 - accuracy: 0.8644 - val_loss: 0.3617 - val_accuracy: 0.8382\n",
      "Epoch 27/100\n",
      "492/492 [==============================] - 4s 8ms/step - loss: 0.3245 - accuracy: 0.8664 - val_loss: 0.3626 - val_accuracy: 0.8399\n",
      "Epoch 28/100\n",
      "492/492 [==============================] - 4s 8ms/step - loss: 0.3205 - accuracy: 0.8694 - val_loss: 0.3593 - val_accuracy: 0.8390\n",
      "Epoch 29/100\n",
      "492/492 [==============================] - 4s 8ms/step - loss: 0.3162 - accuracy: 0.8710 - val_loss: 0.3702 - val_accuracy: 0.8352\n",
      "Epoch 30/100\n",
      "492/492 [==============================] - 4s 8ms/step - loss: 0.3116 - accuracy: 0.8731 - val_loss: 0.3594 - val_accuracy: 0.8414\n",
      "Epoch 31/100\n",
      "492/492 [==============================] - 4s 8ms/step - loss: 0.3086 - accuracy: 0.8749 - val_loss: 0.3627 - val_accuracy: 0.8375\n",
      "Epoch 32/100\n",
      "492/492 [==============================] - 4s 8ms/step - loss: 0.3058 - accuracy: 0.8757 - val_loss: 0.3549 - val_accuracy: 0.8416\n",
      "Epoch 33/100\n",
      "492/492 [==============================] - 4s 8ms/step - loss: 0.3010 - accuracy: 0.8778 - val_loss: 0.3595 - val_accuracy: 0.8421\n",
      "Epoch 34/100\n",
      "492/492 [==============================] - 4s 8ms/step - loss: 0.2970 - accuracy: 0.8801 - val_loss: 0.3578 - val_accuracy: 0.8440\n",
      "Epoch 35/100\n",
      "492/492 [==============================] - 4s 8ms/step - loss: 0.2940 - accuracy: 0.8815 - val_loss: 0.3524 - val_accuracy: 0.8433\n",
      "Epoch 36/100\n",
      "492/492 [==============================] - 4s 8ms/step - loss: 0.2896 - accuracy: 0.8839 - val_loss: 0.3536 - val_accuracy: 0.8445\n",
      "Epoch 37/100\n",
      "492/492 [==============================] - 4s 8ms/step - loss: 0.2860 - accuracy: 0.8859 - val_loss: 0.3532 - val_accuracy: 0.8483\n",
      "Epoch 38/100\n",
      "492/492 [==============================] - 4s 8ms/step - loss: 0.2827 - accuracy: 0.8874 - val_loss: 0.3581 - val_accuracy: 0.8454\n",
      "Epoch 39/100\n",
      "492/492 [==============================] - 4s 8ms/step - loss: 0.2795 - accuracy: 0.8892 - val_loss: 0.3567 - val_accuracy: 0.8462\n",
      "Epoch 40/100\n",
      "492/492 [==============================] - 4s 8ms/step - loss: 0.2759 - accuracy: 0.8910 - val_loss: 0.3666 - val_accuracy: 0.8422\n",
      "Epoch 41/100\n",
      "492/492 [==============================] - 4s 8ms/step - loss: 0.2721 - accuracy: 0.8922 - val_loss: 0.3584 - val_accuracy: 0.8456\n",
      "Epoch 42/100\n",
      "492/492 [==============================] - 4s 8ms/step - loss: 0.2693 - accuracy: 0.8943 - val_loss: 0.3523 - val_accuracy: 0.8464\n",
      "Epoch 43/100\n",
      "492/492 [==============================] - 4s 8ms/step - loss: 0.2681 - accuracy: 0.8954 - val_loss: 0.3586 - val_accuracy: 0.8474\n",
      "Epoch 44/100\n",
      "492/492 [==============================] - 4s 8ms/step - loss: 0.2639 - accuracy: 0.8977 - val_loss: 0.3516 - val_accuracy: 0.8482\n",
      "Epoch 45/100\n",
      "492/492 [==============================] - 4s 8ms/step - loss: 0.2597 - accuracy: 0.8996 - val_loss: 0.3709 - val_accuracy: 0.8444\n",
      "Epoch 46/100\n",
      "492/492 [==============================] - 4s 8ms/step - loss: 0.2574 - accuracy: 0.9005 - val_loss: 0.3607 - val_accuracy: 0.8470\n",
      "Epoch 47/100\n",
      "492/492 [==============================] - 4s 8ms/step - loss: 0.2539 - accuracy: 0.9025 - val_loss: 0.3842 - val_accuracy: 0.8412\n",
      "Epoch 48/100\n",
      "492/492 [==============================] - 4s 8ms/step - loss: 0.2509 - accuracy: 0.9041 - val_loss: 0.3524 - val_accuracy: 0.8500\n",
      "Epoch 49/100\n",
      "492/492 [==============================] - 4s 8ms/step - loss: 0.2488 - accuracy: 0.9052 - val_loss: 0.3624 - val_accuracy: 0.8474\n",
      "Epoch 50/100\n",
      "492/492 [==============================] - 4s 8ms/step - loss: 0.2463 - accuracy: 0.9068 - val_loss: 0.3784 - val_accuracy: 0.8423\n",
      "Epoch 51/100\n",
      "492/492 [==============================] - 4s 8ms/step - loss: 0.2426 - accuracy: 0.9083 - val_loss: 0.3652 - val_accuracy: 0.8494\n",
      "Epoch 52/100\n",
      "492/492 [==============================] - 4s 8ms/step - loss: 0.2400 - accuracy: 0.9088 - val_loss: 0.3695 - val_accuracy: 0.8456\n",
      "Epoch 53/100\n",
      "492/492 [==============================] - 4s 8ms/step - loss: 0.2377 - accuracy: 0.9104 - val_loss: 0.3597 - val_accuracy: 0.8462\n",
      "Epoch 54/100\n",
      "492/492 [==============================] - 4s 8ms/step - loss: 0.2351 - accuracy: 0.9120 - val_loss: 0.3577 - val_accuracy: 0.8485\n",
      "Epoch 55/100\n",
      "492/492 [==============================] - 4s 8ms/step - loss: 0.2329 - accuracy: 0.9128 - val_loss: 0.3763 - val_accuracy: 0.8423\n",
      "Epoch 56/100\n",
      "492/492 [==============================] - 4s 8ms/step - loss: 0.2302 - accuracy: 0.9141 - val_loss: 0.3540 - val_accuracy: 0.8469\n",
      "Epoch 57/100\n",
      "492/492 [==============================] - 4s 8ms/step - loss: 0.2270 - accuracy: 0.9158 - val_loss: 0.3685 - val_accuracy: 0.8490\n",
      "Epoch 58/100\n",
      "492/492 [==============================] - 4s 8ms/step - loss: 0.2243 - accuracy: 0.9167 - val_loss: 0.3757 - val_accuracy: 0.8516\n",
      "Epoch 59/100\n",
      "492/492 [==============================] - 4s 8ms/step - loss: 0.2219 - accuracy: 0.9186 - val_loss: 0.3748 - val_accuracy: 0.8448\n",
      "Epoch 60/100\n",
      "492/492 [==============================] - 4s 8ms/step - loss: 0.2195 - accuracy: 0.9196 - val_loss: 0.3688 - val_accuracy: 0.8491\n",
      "Epoch 61/100\n",
      "492/492 [==============================] - 4s 8ms/step - loss: 0.2158 - accuracy: 0.9215 - val_loss: 0.3674 - val_accuracy: 0.8498\n",
      "Epoch 62/100\n",
      "492/492 [==============================] - 4s 8ms/step - loss: 0.2141 - accuracy: 0.9226 - val_loss: 0.3716 - val_accuracy: 0.8461\n",
      "Epoch 63/100\n",
      "492/492 [==============================] - 4s 8ms/step - loss: 0.2118 - accuracy: 0.9237 - val_loss: 0.3800 - val_accuracy: 0.8500\n",
      "Epoch 64/100\n",
      "492/492 [==============================] - 4s 8ms/step - loss: 0.2095 - accuracy: 0.9251 - val_loss: 0.3821 - val_accuracy: 0.8454\n",
      "Epoch 65/100\n",
      "492/492 [==============================] - 4s 8ms/step - loss: 0.2068 - accuracy: 0.9260 - val_loss: 0.4012 - val_accuracy: 0.8401\n",
      "Epoch 66/100\n",
      "492/492 [==============================] - 4s 8ms/step - loss: 0.2047 - accuracy: 0.9273 - val_loss: 0.3783 - val_accuracy: 0.8473\n",
      "Epoch 67/100\n",
      "492/492 [==============================] - 4s 8ms/step - loss: 0.2014 - accuracy: 0.9289 - val_loss: 0.4047 - val_accuracy: 0.8416\n",
      "Epoch 68/100\n",
      "492/492 [==============================] - 4s 8ms/step - loss: 0.1997 - accuracy: 0.9295 - val_loss: 0.3884 - val_accuracy: 0.8469\n",
      "Epoch 69/100\n",
      "492/492 [==============================] - 4s 8ms/step - loss: 0.1971 - accuracy: 0.9314 - val_loss: 0.3875 - val_accuracy: 0.8459\n",
      "Epoch 70/100\n",
      "492/492 [==============================] - 4s 8ms/step - loss: 0.1954 - accuracy: 0.9322 - val_loss: 0.3871 - val_accuracy: 0.8471\n",
      "Epoch 71/100\n",
      "492/492 [==============================] - 4s 8ms/step - loss: 0.1932 - accuracy: 0.9326 - val_loss: 0.3863 - val_accuracy: 0.8470\n",
      "Epoch 72/100\n",
      "492/492 [==============================] - 4s 8ms/step - loss: 0.1903 - accuracy: 0.9344 - val_loss: 0.3969 - val_accuracy: 0.8476\n",
      "Epoch 73/100\n",
      "492/492 [==============================] - 4s 8ms/step - loss: 0.1888 - accuracy: 0.9359 - val_loss: 0.3941 - val_accuracy: 0.8475\n",
      "Epoch 74/100\n",
      "492/492 [==============================] - 4s 8ms/step - loss: 0.1861 - accuracy: 0.9368 - val_loss: 0.4058 - val_accuracy: 0.8431\n",
      "Epoch 75/100\n",
      "492/492 [==============================] - 4s 8ms/step - loss: 0.1837 - accuracy: 0.9380 - val_loss: 0.4135 - val_accuracy: 0.8458\n",
      "Epoch 76/100\n",
      "492/492 [==============================] - 4s 8ms/step - loss: 0.1821 - accuracy: 0.9387 - val_loss: 0.4176 - val_accuracy: 0.8446\n",
      "Epoch 77/100\n",
      "492/492 [==============================] - 4s 8ms/step - loss: 0.1801 - accuracy: 0.9395 - val_loss: 0.4221 - val_accuracy: 0.8457\n",
      "Epoch 78/100\n",
      "492/492 [==============================] - 4s 8ms/step - loss: 0.1784 - accuracy: 0.9407 - val_loss: 0.4081 - val_accuracy: 0.8457\n",
      "Epoch 79/100\n",
      "492/492 [==============================] - 4s 8ms/step - loss: 0.1758 - accuracy: 0.9426 - val_loss: 0.4197 - val_accuracy: 0.8439\n",
      "Epoch 80/100\n",
      "492/492 [==============================] - 4s 8ms/step - loss: 0.1732 - accuracy: 0.9428 - val_loss: 0.4183 - val_accuracy: 0.8428\n",
      "Epoch 81/100\n",
      "492/492 [==============================] - 4s 8ms/step - loss: 0.1722 - accuracy: 0.9436 - val_loss: 0.4227 - val_accuracy: 0.8425\n",
      "Epoch 82/100\n",
      "492/492 [==============================] - 4s 8ms/step - loss: 0.1699 - accuracy: 0.9452 - val_loss: 0.4119 - val_accuracy: 0.8453\n",
      "Epoch 83/100\n",
      "492/492 [==============================] - 4s 8ms/step - loss: 0.1673 - accuracy: 0.9461 - val_loss: 0.4234 - val_accuracy: 0.8441\n",
      "Epoch 84/100\n",
      "492/492 [==============================] - 4s 8ms/step - loss: 0.1653 - accuracy: 0.9475 - val_loss: 0.4345 - val_accuracy: 0.8445\n",
      "Epoch 85/100\n",
      "492/492 [==============================] - 4s 8ms/step - loss: 0.1632 - accuracy: 0.9479 - val_loss: 0.4229 - val_accuracy: 0.8450\n",
      "Epoch 86/100\n",
      "492/492 [==============================] - 4s 8ms/step - loss: 0.1610 - accuracy: 0.9489 - val_loss: 0.4461 - val_accuracy: 0.8423\n",
      "Epoch 87/100\n",
      "492/492 [==============================] - 4s 8ms/step - loss: 0.1606 - accuracy: 0.9490 - val_loss: 0.4362 - val_accuracy: 0.8443\n",
      "Epoch 88/100\n",
      "492/492 [==============================] - 4s 8ms/step - loss: 0.1583 - accuracy: 0.9505 - val_loss: 0.4260 - val_accuracy: 0.8432\n",
      "Epoch 89/100\n",
      "492/492 [==============================] - 4s 8ms/step - loss: 0.1554 - accuracy: 0.9516 - val_loss: 0.4552 - val_accuracy: 0.8434\n",
      "Epoch 90/100\n",
      "492/492 [==============================] - 4s 8ms/step - loss: 0.1541 - accuracy: 0.9527 - val_loss: 0.4391 - val_accuracy: 0.8433\n",
      "Epoch 91/100\n",
      "492/492 [==============================] - 4s 8ms/step - loss: 0.1515 - accuracy: 0.9536 - val_loss: 0.4756 - val_accuracy: 0.8376\n",
      "Epoch 92/100\n",
      "492/492 [==============================] - 4s 8ms/step - loss: 0.1519 - accuracy: 0.9535 - val_loss: 0.4347 - val_accuracy: 0.8421\n",
      "Epoch 93/100\n",
      "492/492 [==============================] - 4s 8ms/step - loss: 0.1484 - accuracy: 0.9552 - val_loss: 0.4432 - val_accuracy: 0.8408\n",
      "Epoch 94/100\n",
      "492/492 [==============================] - 4s 8ms/step - loss: 0.1484 - accuracy: 0.9548 - val_loss: 0.4643 - val_accuracy: 0.8409\n",
      "Epoch 95/100\n",
      "492/492 [==============================] - 4s 8ms/step - loss: 0.1453 - accuracy: 0.9565 - val_loss: 0.4515 - val_accuracy: 0.8438\n",
      "Epoch 96/100\n",
      "492/492 [==============================] - 4s 8ms/step - loss: 0.1444 - accuracy: 0.9566 - val_loss: 0.4656 - val_accuracy: 0.8413\n",
      "Epoch 97/100\n",
      "492/492 [==============================] - 4s 8ms/step - loss: 0.1422 - accuracy: 0.9583 - val_loss: 0.4680 - val_accuracy: 0.8428\n",
      "Epoch 98/100\n",
      "492/492 [==============================] - 4s 8ms/step - loss: 0.1395 - accuracy: 0.9588 - val_loss: 0.4666 - val_accuracy: 0.8395\n",
      "Epoch 99/100\n",
      "492/492 [==============================] - 4s 8ms/step - loss: 0.1383 - accuracy: 0.9598 - val_loss: 0.4769 - val_accuracy: 0.8414\n",
      "Epoch 100/100\n",
      "492/492 [==============================] - 4s 8ms/step - loss: 0.1378 - accuracy: 0.9600 - val_loss: 0.4672 - val_accuracy: 0.8423\n"
     ]
    }
   ],
   "source": [
    "opt = tf.keras.optimizers.Adam(learning_rate=0.00005) # learning_rate=0.0002\n",
    "model.compile(optimizer=opt,\n",
    "              loss='binary_crossentropy',\n",
    "              metrics=['accuracy'])\n",
    "              \n",
    "epochs=100  # 몇 epoch를 훈련하면 좋을지 결과를 보면서 바꾸어 봅시다. \n",
    "\n",
    "history4 = model.fit(dataset,\n",
    "                    epochs=epochs,\n",
    "                    batch_size=BATCH_SIZE,\n",
    "                    validation_data=(x_val, y_val), verbose=1)\n"
   ]
  },
  {
   "cell_type": "code",
   "execution_count": 188,
   "id": "e976155e",
   "metadata": {},
   "outputs": [
    {
     "name": "stdout",
     "output_type": "stream",
     "text": [
      "178/178 - 1s - loss: 0.4598 - accuracy: 0.8421\n"
     ]
    }
   ],
   "source": [
    "results = model.evaluate(test_dataset, verbose=2)"
   ]
  },
  {
   "cell_type": "code",
   "execution_count": 189,
   "id": "72f3d6bb",
   "metadata": {},
   "outputs": [
    {
     "data": {
      "image/png": "[encoded data removed]",
      "text/plain": [
       "<Figure size 432x288 with 1 Axes>"
      ]
     },
     "metadata": {
      "needs_background": "light"
     },
     "output_type": "display_data"
    },
    {
     "data": {
      "image/png": "[encoded data removed]",
      "text/plain": [
       "<Figure size 432x288 with 1 Axes>"
      ]
     },
     "metadata": {
      "needs_background": "light"
     },
     "output_type": "display_data"
    }
   ],
   "source": [
    "draw_loss_accuracy(history4)"
   ]
  },
  {
   "cell_type": "markdown",
   "id": "bb613ea6",
   "metadata": {},
   "source": [
    "### 9. 회고  \n",
    "\n",
    "- lms의 테스트코드를 기반으로 실습을 진행했는데, validation 80%정도의 정확도가 나왔는데 더이상 성능이 개선되지 않았다.  \n",
    "- test 세트는 최고 0.83으로 word2vec_ko 파라메타를 사용하여 임베딩하였을때도 0.01만 증가되어 차이를 느낄 수 없었다.  \n",
    "- 가중치 파라메타는 임베딩 레이어에만 있는게 아니므로, 다른 레이어가 올바로 설정되지 않았을 것으로 생각된다.  \n",
    "- 하이퍼 파라메타 Learning rate 및 Regularation을 추가하여 안정적인 0.85 정도의 score를 얻음.  \n",
    "\n",
    "\n"
   ]
  }
 ],
 "metadata": {
  "kernelspec": {
   "display_name": "Python 3 (ipykernel)",
   "language": "python",
   "name": "python3"
  },
  "language_info": {
   "codemirror_mode": {
    "name": "ipython",
    "version": 3
   },
   "file_extension": ".py",
   "mimetype": "text/x-python",
   "name": "python",
   "nbconvert_exporter": "python",
   "pygments_lexer": "ipython3",
   "version": "3.9.7"
  }
 },
 "nbformat": 4,
 "nbformat_minor": 5
}
